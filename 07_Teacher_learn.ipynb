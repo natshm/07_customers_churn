{
 "cells": [
  {
   "cell_type": "markdown",
   "metadata": {
    "toc": true
   },
   "source": [
    "<h1>Содержание<span class=\"tocSkip\"></span></h1>\n",
    "<div class=\"toc\"><ul class=\"toc-item\"><li><span><a href=\"#Подготовка-данных\" data-toc-modified-id=\"Подготовка-данных-1\"><span class=\"toc-item-num\">1&nbsp;&nbsp;</span>Подготовка данных</a></span><ul class=\"toc-item\"><li><span><a href=\"#Описание-данных\" data-toc-modified-id=\"Описание-данных-1.1\"><span class=\"toc-item-num\">1.1&nbsp;&nbsp;</span>Описание данных</a></span><ul class=\"toc-item\"><li><span><a href=\"#Признаки\" data-toc-modified-id=\"Признаки-1.1.1\"><span class=\"toc-item-num\">1.1.1&nbsp;&nbsp;</span>Признаки</a></span></li><li><span><a href=\"#Целевой-признак\" data-toc-modified-id=\"Целевой-признак-1.1.2\"><span class=\"toc-item-num\">1.1.2&nbsp;&nbsp;</span>Целевой признак</a></span></li></ul></li></ul></li><li><span><a href=\"#Исследование-задачи\" data-toc-modified-id=\"Исследование-задачи-2\"><span class=\"toc-item-num\">2&nbsp;&nbsp;</span>Исследование задачи</a></span></li><li><span><a href=\"#Борьба-с-дисбалансом\" data-toc-modified-id=\"Борьба-с-дисбалансом-3\"><span class=\"toc-item-num\">3&nbsp;&nbsp;</span>Борьба с дисбалансом</a></span></li><li><span><a href=\"#Тестирование-модели\" data-toc-modified-id=\"Тестирование-модели-4\"><span class=\"toc-item-num\">4&nbsp;&nbsp;</span>Тестирование модели</a></span></li><li><span><a href=\"#Чек-лист-готовности-проекта\" data-toc-modified-id=\"Чек-лист-готовности-проекта-5\"><span class=\"toc-item-num\">5&nbsp;&nbsp;</span>Чек-лист готовности проекта</a></span></li></ul></div>"
   ]
  },
  {
   "cell_type": "markdown",
   "metadata": {},
   "source": [
    "# Отток клиентов"
   ]
  },
  {
   "cell_type": "markdown",
   "metadata": {
    "jupyter": {
     "source_hidden": true
    },
    "tags": []
   },
   "source": [
    "Из «Бета-Банка» стали уходить клиенты. Каждый месяц. Немного, но заметно. Банковские маркетологи посчитали: сохранять текущих клиентов дешевле, чем привлекать новых.\n",
    "\n",
    "Нужно спрогнозировать, уйдёт клиент из банка в ближайшее время или нет. Вам предоставлены исторические данные о поведении клиентов и расторжении договоров с банком. \n",
    "\n",
    "Постройте модель с предельно большим значением *F1*-меры. Чтобы сдать проект успешно, нужно довести метрику до 0.59. Проверьте *F1*-меру на тестовой выборке самостоятельно.\n",
    "\n",
    "Дополнительно измеряйте *AUC-ROC*, сравнивайте её значение с *F1*-мерой.\n",
    "\n",
    "Источник данных: [https://www.kaggle.com/barelydedicated/bank-customer-churn-modeling](https://www.kaggle.com/barelydedicated/bank-customer-churn-modeling)"
   ]
  },
  {
   "cell_type": "markdown",
   "metadata": {},
   "source": [
    "## Подготовка данных"
   ]
  },
  {
   "cell_type": "code",
   "execution_count": 1,
   "metadata": {},
   "outputs": [],
   "source": [
    "import pandas as pd\n",
    "import numpy as np\n",
    "import seaborn as sns\n",
    "from matplotlib import pyplot as plt\n",
    "\n",
    "from sklearn.model_selection import train_test_split\n",
    "from sklearn.preprocessing import StandardScaler\n",
    "from sklearn.tree import DecisionTreeClassifier\n",
    "from sklearn.metrics import confusion_matrix\n",
    "from sklearn.linear_model import LogisticRegression\n",
    "from sklearn.utils import shuffle\n",
    "from sklearn.ensemble import RandomForestClassifier\n",
    "from sklearn.metrics import mean_absolute_error\n",
    "from sklearn.metrics import accuracy_score, recall_score, precision_score, f1_score, classification_report, roc_auc_score\n",
    "from sklearn.metrics import roc_curve \n"
   ]
  },
  {
   "cell_type": "code",
   "execution_count": 2,
   "metadata": {
    "scrolled": true
   },
   "outputs": [],
   "source": [
    "df = pd.read_csv('../data/Churn.csv')\n",
    "\n",
    "# Приведение наименований столбцов к нижнему регистру и змениному стилю:\n",
    "df.columns = map(str.lower, df.columns)\n",
    "df.rename(\n",
    "    columns={'rownumber': 'row_number','customerid': 'customer_id', 'creditscore': 'credit_score',\n",
    "    'numofproducts': 'num_of_products', 'hascrcard': 'has_cr_card', \n",
    "    'isactivemember': 'is_active_member', 'estimatedsalary': 'estimated_salary'}, inplace=True\n",
    ")\n",
    "# display(df)"
   ]
  },
  {
   "cell_type": "markdown",
   "metadata": {},
   "source": [
    "### Описание данных\n",
    "\n",
    "**Признаки**\n",
    "\n",
    "•\trow_number — индекс строки в данных\n",
    "\n",
    "•\tcustomer_id — уникальный идентификатор клиента\n",
    "\n",
    "•\tsurname — фамилия\n",
    "\n",
    "•\tcredit_score — кредитный рейтинг\n",
    "\n",
    "•\tgeography — страна проживания\n",
    "\n",
    "•\tgender — пол\n",
    "\n",
    "•\tage — возраст\n",
    "\n",
    "•\ttenure — сколько лет человек является клиентом банка\n",
    "\n",
    "•\tbalance — баланс на счёте\n",
    "\n",
    "•\tnum_of_products — количество продуктов банка, используемых клиентом\n",
    "\n",
    "•\thas_cr_card — наличие кредитной карты\n",
    "\n",
    "•\tis_active_member — активность клиента\n",
    "\n",
    "•\testimated_salary — предполагаемая зарплата\n",
    "\n",
    "**Целевой признак**\n",
    "\n",
    "•\texited — факт ухода клиента\n"
   ]
  },
  {
   "cell_type": "markdown",
   "metadata": {},
   "source": [
    "#### Признаки"
   ]
  },
  {
   "cell_type": "code",
   "execution_count": 3,
   "metadata": {},
   "outputs": [],
   "source": [
    "# print('Уникальных значений по признакам:')\n",
    "# display(pd.DataFrame(df.nunique()))\n",
    "#\n",
    "# display(df.select_dtypes(exclude=[np.number]). head())\n",
    "# print(df['surname'].value_counts())\n",
    "# print(df['geography'].value_counts())\n",
    "# print(df['gender'].value_counts())"
   ]
  },
  {
   "cell_type": "code",
   "execution_count": 4,
   "metadata": {},
   "outputs": [],
   "source": [
    "# display(df[df.isnull().any(1)])\n",
    "# print(df['exited'].value_counts())\n",
    "# df = df.dropna()\n",
    "# display(df)\n",
    "# print(df['exited'].value_counts())"
   ]
  },
  {
   "cell_type": "markdown",
   "metadata": {},
   "source": [
    "!!!!!!!!!!!!!!!!!!!!!!!!!!!!!!!!!!!!!!!!!!!!!!!!!!!!!!!!!!!!!!!!!!!!!!!!!!!!!!!!Удалено 9,09% данных"
   ]
  },
  {
   "cell_type": "code",
   "execution_count": 39,
   "metadata": {},
   "outputs": [
    {
     "name": "stdout",
     "output_type": "stream",
     "text": [
      "credit_score        0\n",
      "geography           0\n",
      "gender              0\n",
      "age                 0\n",
      "tenure              0\n",
      "balance             0\n",
      "num_of_products     0\n",
      "has_cr_card         0\n",
      "is_active_member    0\n",
      "estimated_salary    0\n",
      "exited              0\n",
      "dtype: int64\n"
     ]
    },
    {
     "data": {
      "text/html": [
       "<div>\n",
       "<style scoped>\n",
       "    .dataframe tbody tr th:only-of-type {\n",
       "        vertical-align: middle;\n",
       "    }\n",
       "\n",
       "    .dataframe tbody tr th {\n",
       "        vertical-align: top;\n",
       "    }\n",
       "\n",
       "    .dataframe thead th {\n",
       "        text-align: right;\n",
       "    }\n",
       "</style>\n",
       "<table border=\"1\" class=\"dataframe\">\n",
       "  <thead>\n",
       "    <tr style=\"text-align: right;\">\n",
       "      <th></th>\n",
       "      <th></th>\n",
       "      <th>credit_score</th>\n",
       "      <th>tenure</th>\n",
       "      <th>balance</th>\n",
       "      <th>num_of_products</th>\n",
       "      <th>has_cr_card</th>\n",
       "      <th>is_active_member</th>\n",
       "      <th>estimated_salary</th>\n",
       "      <th>exited</th>\n",
       "    </tr>\n",
       "    <tr>\n",
       "      <th>geography</th>\n",
       "      <th>age</th>\n",
       "      <th></th>\n",
       "      <th></th>\n",
       "      <th></th>\n",
       "      <th></th>\n",
       "      <th></th>\n",
       "      <th></th>\n",
       "      <th></th>\n",
       "      <th></th>\n",
       "    </tr>\n",
       "  </thead>\n",
       "  <tbody>\n",
       "    <tr>\n",
       "      <th rowspan=\"5\" valign=\"top\">France</th>\n",
       "      <th>18</th>\n",
       "      <td>7367</td>\n",
       "      <td>64.0</td>\n",
       "      <td>907078.66</td>\n",
       "      <td>16</td>\n",
       "      <td>8</td>\n",
       "      <td>7</td>\n",
       "      <td>886381.11</td>\n",
       "      <td>1</td>\n",
       "    </tr>\n",
       "    <tr>\n",
       "      <th>19</th>\n",
       "      <td>7486</td>\n",
       "      <td>56.0</td>\n",
       "      <td>607928.99</td>\n",
       "      <td>17</td>\n",
       "      <td>9</td>\n",
       "      <td>7</td>\n",
       "      <td>836251.65</td>\n",
       "      <td>0</td>\n",
       "    </tr>\n",
       "    <tr>\n",
       "      <th>20</th>\n",
       "      <td>14157</td>\n",
       "      <td>101.0</td>\n",
       "      <td>1326811.02</td>\n",
       "      <td>32</td>\n",
       "      <td>12</td>\n",
       "      <td>10</td>\n",
       "      <td>2142428.36</td>\n",
       "      <td>0</td>\n",
       "    </tr>\n",
       "    <tr>\n",
       "      <th>21</th>\n",
       "      <td>19914</td>\n",
       "      <td>157.0</td>\n",
       "      <td>2202319.06</td>\n",
       "      <td>53</td>\n",
       "      <td>21</td>\n",
       "      <td>19</td>\n",
       "      <td>3015325.70</td>\n",
       "      <td>1</td>\n",
       "    </tr>\n",
       "    <tr>\n",
       "      <th>22</th>\n",
       "      <td>28227</td>\n",
       "      <td>242.0</td>\n",
       "      <td>2914156.77</td>\n",
       "      <td>69</td>\n",
       "      <td>33</td>\n",
       "      <td>26</td>\n",
       "      <td>4528260.98</td>\n",
       "      <td>6</td>\n",
       "    </tr>\n",
       "    <tr>\n",
       "      <th>...</th>\n",
       "      <th>...</th>\n",
       "      <td>...</td>\n",
       "      <td>...</td>\n",
       "      <td>...</td>\n",
       "      <td>...</td>\n",
       "      <td>...</td>\n",
       "      <td>...</td>\n",
       "      <td>...</td>\n",
       "      <td>...</td>\n",
       "    </tr>\n",
       "    <tr>\n",
       "      <th rowspan=\"5\" valign=\"top\">Spain</th>\n",
       "      <th>77</th>\n",
       "      <td>1434</td>\n",
       "      <td>10.0</td>\n",
       "      <td>149083.70</td>\n",
       "      <td>2</td>\n",
       "      <td>2</td>\n",
       "      <td>2</td>\n",
       "      <td>224849.75</td>\n",
       "      <td>0</td>\n",
       "    </tr>\n",
       "    <tr>\n",
       "      <th>78</th>\n",
       "      <td>1314</td>\n",
       "      <td>4.0</td>\n",
       "      <td>151675.65</td>\n",
       "      <td>3</td>\n",
       "      <td>0</td>\n",
       "      <td>2</td>\n",
       "      <td>238414.05</td>\n",
       "      <td>0</td>\n",
       "    </tr>\n",
       "    <tr>\n",
       "      <th>79</th>\n",
       "      <td>712</td>\n",
       "      <td>5.0</td>\n",
       "      <td>108078.56</td>\n",
       "      <td>1</td>\n",
       "      <td>1</td>\n",
       "      <td>1</td>\n",
       "      <td>174118.93</td>\n",
       "      <td>0</td>\n",
       "    </tr>\n",
       "    <tr>\n",
       "      <th>80</th>\n",
       "      <td>809</td>\n",
       "      <td>8.0</td>\n",
       "      <td>0.00</td>\n",
       "      <td>2</td>\n",
       "      <td>0</td>\n",
       "      <td>1</td>\n",
       "      <td>34164.05</td>\n",
       "      <td>0</td>\n",
       "    </tr>\n",
       "    <tr>\n",
       "      <th>88</th>\n",
       "      <td>513</td>\n",
       "      <td>10.0</td>\n",
       "      <td>0.00</td>\n",
       "      <td>2</td>\n",
       "      <td>1</td>\n",
       "      <td>1</td>\n",
       "      <td>52952.24</td>\n",
       "      <td>0</td>\n",
       "    </tr>\n",
       "  </tbody>\n",
       "</table>\n",
       "<p>196 rows × 8 columns</p>\n",
       "</div>"
      ],
      "text/plain": [
       "               credit_score  tenure     balance  num_of_products  has_cr_card  \\\n",
       "geography age                                                                   \n",
       "France    18           7367    64.0   907078.66               16            8   \n",
       "          19           7486    56.0   607928.99               17            9   \n",
       "          20          14157   101.0  1326811.02               32           12   \n",
       "          21          19914   157.0  2202319.06               53           21   \n",
       "          22          28227   242.0  2914156.77               69           33   \n",
       "...                     ...     ...         ...              ...          ...   \n",
       "Spain     77           1434    10.0   149083.70                2            2   \n",
       "          78           1314     4.0   151675.65                3            0   \n",
       "          79            712     5.0   108078.56                1            1   \n",
       "          80            809     8.0        0.00                2            0   \n",
       "          88            513    10.0        0.00                2            1   \n",
       "\n",
       "               is_active_member  estimated_salary  exited  \n",
       "geography age                                              \n",
       "France    18                  7         886381.11       1  \n",
       "          19                  7         836251.65       0  \n",
       "          20                 10        2142428.36       0  \n",
       "          21                 19        3015325.70       1  \n",
       "          22                 26        4528260.98       6  \n",
       "...                         ...               ...     ...  \n",
       "Spain     77                  2         224849.75       0  \n",
       "          78                  2         238414.05       0  \n",
       "          79                  1         174118.93       0  \n",
       "          80                  1          34164.05       0  \n",
       "          88                  1          52952.24       0  \n",
       "\n",
       "[196 rows x 8 columns]"
      ]
     },
     "metadata": {},
     "output_type": "display_data"
    },
    {
     "name": "stdout",
     "output_type": "stream",
     "text": [
      "credit_score        0\n",
      "geography           0\n",
      "gender              0\n",
      "age                 0\n",
      "tenure              0\n",
      "balance             0\n",
      "num_of_products     0\n",
      "has_cr_card         0\n",
      "is_active_member    0\n",
      "estimated_salary    0\n",
      "exited              0\n",
      "dtype: int64\n"
     ]
    },
    {
     "data": {
      "text/html": [
       "<div>\n",
       "<style scoped>\n",
       "    .dataframe tbody tr th:only-of-type {\n",
       "        vertical-align: middle;\n",
       "    }\n",
       "\n",
       "    .dataframe tbody tr th {\n",
       "        vertical-align: top;\n",
       "    }\n",
       "\n",
       "    .dataframe thead th {\n",
       "        text-align: right;\n",
       "    }\n",
       "</style>\n",
       "<table border=\"1\" class=\"dataframe\">\n",
       "  <thead>\n",
       "    <tr style=\"text-align: right;\">\n",
       "      <th></th>\n",
       "      <th>credit_score</th>\n",
       "      <th>geography</th>\n",
       "      <th>gender</th>\n",
       "      <th>age</th>\n",
       "      <th>tenure</th>\n",
       "      <th>balance</th>\n",
       "      <th>num_of_products</th>\n",
       "      <th>has_cr_card</th>\n",
       "      <th>is_active_member</th>\n",
       "      <th>estimated_salary</th>\n",
       "      <th>exited</th>\n",
       "    </tr>\n",
       "  </thead>\n",
       "  <tbody>\n",
       "    <tr>\n",
       "      <th>29</th>\n",
       "      <td>411</td>\n",
       "      <td>France</td>\n",
       "      <td>Male</td>\n",
       "      <td>29</td>\n",
       "      <td>0.0</td>\n",
       "      <td>59697.17</td>\n",
       "      <td>2</td>\n",
       "      <td>1</td>\n",
       "      <td>1</td>\n",
       "      <td>53483.21</td>\n",
       "      <td>0</td>\n",
       "    </tr>\n",
       "    <tr>\n",
       "      <th>30</th>\n",
       "      <td>591</td>\n",
       "      <td>Spain</td>\n",
       "      <td>Female</td>\n",
       "      <td>39</td>\n",
       "      <td>6.0</td>\n",
       "      <td>0.00</td>\n",
       "      <td>3</td>\n",
       "      <td>1</td>\n",
       "      <td>0</td>\n",
       "      <td>140469.38</td>\n",
       "      <td>1</td>\n",
       "    </tr>\n",
       "    <tr>\n",
       "      <th>31</th>\n",
       "      <td>533</td>\n",
       "      <td>France</td>\n",
       "      <td>Male</td>\n",
       "      <td>36</td>\n",
       "      <td>7.0</td>\n",
       "      <td>85311.70</td>\n",
       "      <td>1</td>\n",
       "      <td>0</td>\n",
       "      <td>1</td>\n",
       "      <td>156731.91</td>\n",
       "      <td>0</td>\n",
       "    </tr>\n",
       "    <tr>\n",
       "      <th>32</th>\n",
       "      <td>553</td>\n",
       "      <td>Germany</td>\n",
       "      <td>Male</td>\n",
       "      <td>41</td>\n",
       "      <td>9.0</td>\n",
       "      <td>110112.54</td>\n",
       "      <td>2</td>\n",
       "      <td>0</td>\n",
       "      <td>0</td>\n",
       "      <td>81898.81</td>\n",
       "      <td>0</td>\n",
       "    </tr>\n",
       "    <tr>\n",
       "      <th>33</th>\n",
       "      <td>520</td>\n",
       "      <td>Spain</td>\n",
       "      <td>Female</td>\n",
       "      <td>42</td>\n",
       "      <td>6.0</td>\n",
       "      <td>0.00</td>\n",
       "      <td>2</td>\n",
       "      <td>1</td>\n",
       "      <td>1</td>\n",
       "      <td>34410.55</td>\n",
       "      <td>0</td>\n",
       "    </tr>\n",
       "    <tr>\n",
       "      <th>34</th>\n",
       "      <td>722</td>\n",
       "      <td>Spain</td>\n",
       "      <td>Female</td>\n",
       "      <td>29</td>\n",
       "      <td>9.0</td>\n",
       "      <td>0.00</td>\n",
       "      <td>2</td>\n",
       "      <td>1</td>\n",
       "      <td>1</td>\n",
       "      <td>142033.07</td>\n",
       "      <td>0</td>\n",
       "    </tr>\n",
       "    <tr>\n",
       "      <th>35</th>\n",
       "      <td>475</td>\n",
       "      <td>France</td>\n",
       "      <td>Female</td>\n",
       "      <td>45</td>\n",
       "      <td>0.0</td>\n",
       "      <td>134264.04</td>\n",
       "      <td>1</td>\n",
       "      <td>1</td>\n",
       "      <td>0</td>\n",
       "      <td>27822.99</td>\n",
       "      <td>1</td>\n",
       "    </tr>\n",
       "    <tr>\n",
       "      <th>36</th>\n",
       "      <td>490</td>\n",
       "      <td>Spain</td>\n",
       "      <td>Male</td>\n",
       "      <td>31</td>\n",
       "      <td>3.0</td>\n",
       "      <td>145260.23</td>\n",
       "      <td>1</td>\n",
       "      <td>0</td>\n",
       "      <td>1</td>\n",
       "      <td>114066.77</td>\n",
       "      <td>0</td>\n",
       "    </tr>\n",
       "    <tr>\n",
       "      <th>37</th>\n",
       "      <td>804</td>\n",
       "      <td>Spain</td>\n",
       "      <td>Male</td>\n",
       "      <td>33</td>\n",
       "      <td>7.0</td>\n",
       "      <td>76548.60</td>\n",
       "      <td>1</td>\n",
       "      <td>0</td>\n",
       "      <td>1</td>\n",
       "      <td>98453.45</td>\n",
       "      <td>0</td>\n",
       "    </tr>\n",
       "    <tr>\n",
       "      <th>38</th>\n",
       "      <td>850</td>\n",
       "      <td>France</td>\n",
       "      <td>Male</td>\n",
       "      <td>36</td>\n",
       "      <td>7.0</td>\n",
       "      <td>0.00</td>\n",
       "      <td>1</td>\n",
       "      <td>1</td>\n",
       "      <td>1</td>\n",
       "      <td>40812.90</td>\n",
       "      <td>0</td>\n",
       "    </tr>\n",
       "    <tr>\n",
       "      <th>39</th>\n",
       "      <td>582</td>\n",
       "      <td>Germany</td>\n",
       "      <td>Male</td>\n",
       "      <td>41</td>\n",
       "      <td>6.0</td>\n",
       "      <td>70349.48</td>\n",
       "      <td>2</td>\n",
       "      <td>0</td>\n",
       "      <td>1</td>\n",
       "      <td>178074.04</td>\n",
       "      <td>0</td>\n",
       "    </tr>\n",
       "    <tr>\n",
       "      <th>40</th>\n",
       "      <td>472</td>\n",
       "      <td>Spain</td>\n",
       "      <td>Male</td>\n",
       "      <td>40</td>\n",
       "      <td>4.0</td>\n",
       "      <td>0.00</td>\n",
       "      <td>1</td>\n",
       "      <td>1</td>\n",
       "      <td>0</td>\n",
       "      <td>70154.22</td>\n",
       "      <td>0</td>\n",
       "    </tr>\n",
       "    <tr>\n",
       "      <th>41</th>\n",
       "      <td>465</td>\n",
       "      <td>France</td>\n",
       "      <td>Female</td>\n",
       "      <td>51</td>\n",
       "      <td>8.0</td>\n",
       "      <td>122522.32</td>\n",
       "      <td>1</td>\n",
       "      <td>0</td>\n",
       "      <td>0</td>\n",
       "      <td>181297.65</td>\n",
       "      <td>1</td>\n",
       "    </tr>\n",
       "    <tr>\n",
       "      <th>42</th>\n",
       "      <td>556</td>\n",
       "      <td>France</td>\n",
       "      <td>Female</td>\n",
       "      <td>61</td>\n",
       "      <td>2.0</td>\n",
       "      <td>117419.35</td>\n",
       "      <td>1</td>\n",
       "      <td>1</td>\n",
       "      <td>1</td>\n",
       "      <td>94153.83</td>\n",
       "      <td>0</td>\n",
       "    </tr>\n",
       "    <tr>\n",
       "      <th>43</th>\n",
       "      <td>834</td>\n",
       "      <td>France</td>\n",
       "      <td>Female</td>\n",
       "      <td>49</td>\n",
       "      <td>2.0</td>\n",
       "      <td>131394.56</td>\n",
       "      <td>1</td>\n",
       "      <td>0</td>\n",
       "      <td>0</td>\n",
       "      <td>194365.76</td>\n",
       "      <td>1</td>\n",
       "    </tr>\n",
       "    <tr>\n",
       "      <th>44</th>\n",
       "      <td>660</td>\n",
       "      <td>Spain</td>\n",
       "      <td>Female</td>\n",
       "      <td>61</td>\n",
       "      <td>5.0</td>\n",
       "      <td>155931.11</td>\n",
       "      <td>1</td>\n",
       "      <td>1</td>\n",
       "      <td>1</td>\n",
       "      <td>158338.39</td>\n",
       "      <td>0</td>\n",
       "    </tr>\n",
       "    <tr>\n",
       "      <th>45</th>\n",
       "      <td>776</td>\n",
       "      <td>Germany</td>\n",
       "      <td>Female</td>\n",
       "      <td>32</td>\n",
       "      <td>4.0</td>\n",
       "      <td>109421.13</td>\n",
       "      <td>2</td>\n",
       "      <td>1</td>\n",
       "      <td>1</td>\n",
       "      <td>126517.46</td>\n",
       "      <td>0</td>\n",
       "    </tr>\n",
       "    <tr>\n",
       "      <th>46</th>\n",
       "      <td>829</td>\n",
       "      <td>Germany</td>\n",
       "      <td>Female</td>\n",
       "      <td>27</td>\n",
       "      <td>9.0</td>\n",
       "      <td>112045.67</td>\n",
       "      <td>1</td>\n",
       "      <td>1</td>\n",
       "      <td>1</td>\n",
       "      <td>119708.21</td>\n",
       "      <td>1</td>\n",
       "    </tr>\n",
       "    <tr>\n",
       "      <th>47</th>\n",
       "      <td>637</td>\n",
       "      <td>Germany</td>\n",
       "      <td>Female</td>\n",
       "      <td>39</td>\n",
       "      <td>9.0</td>\n",
       "      <td>137843.80</td>\n",
       "      <td>1</td>\n",
       "      <td>1</td>\n",
       "      <td>1</td>\n",
       "      <td>117622.80</td>\n",
       "      <td>1</td>\n",
       "    </tr>\n",
       "    <tr>\n",
       "      <th>48</th>\n",
       "      <td>550</td>\n",
       "      <td>Germany</td>\n",
       "      <td>Male</td>\n",
       "      <td>38</td>\n",
       "      <td>5.0</td>\n",
       "      <td>103391.38</td>\n",
       "      <td>1</td>\n",
       "      <td>0</td>\n",
       "      <td>1</td>\n",
       "      <td>90878.13</td>\n",
       "      <td>0</td>\n",
       "    </tr>\n",
       "    <tr>\n",
       "      <th>49</th>\n",
       "      <td>776</td>\n",
       "      <td>Germany</td>\n",
       "      <td>Female</td>\n",
       "      <td>37</td>\n",
       "      <td>2.0</td>\n",
       "      <td>103769.22</td>\n",
       "      <td>2</td>\n",
       "      <td>1</td>\n",
       "      <td>0</td>\n",
       "      <td>194099.12</td>\n",
       "      <td>0</td>\n",
       "    </tr>\n",
       "    <tr>\n",
       "      <th>50</th>\n",
       "      <td>698</td>\n",
       "      <td>Germany</td>\n",
       "      <td>Male</td>\n",
       "      <td>44</td>\n",
       "      <td>10.0</td>\n",
       "      <td>116363.37</td>\n",
       "      <td>2</td>\n",
       "      <td>1</td>\n",
       "      <td>0</td>\n",
       "      <td>198059.16</td>\n",
       "      <td>0</td>\n",
       "    </tr>\n",
       "    <tr>\n",
       "      <th>51</th>\n",
       "      <td>585</td>\n",
       "      <td>Germany</td>\n",
       "      <td>Male</td>\n",
       "      <td>36</td>\n",
       "      <td>5.5</td>\n",
       "      <td>146050.97</td>\n",
       "      <td>2</td>\n",
       "      <td>0</td>\n",
       "      <td>0</td>\n",
       "      <td>86424.57</td>\n",
       "      <td>0</td>\n",
       "    </tr>\n",
       "    <tr>\n",
       "      <th>52</th>\n",
       "      <td>788</td>\n",
       "      <td>France</td>\n",
       "      <td>Female</td>\n",
       "      <td>33</td>\n",
       "      <td>5.0</td>\n",
       "      <td>0.00</td>\n",
       "      <td>2</td>\n",
       "      <td>0</td>\n",
       "      <td>0</td>\n",
       "      <td>116978.19</td>\n",
       "      <td>0</td>\n",
       "    </tr>\n",
       "    <tr>\n",
       "      <th>53</th>\n",
       "      <td>655</td>\n",
       "      <td>Germany</td>\n",
       "      <td>Male</td>\n",
       "      <td>41</td>\n",
       "      <td>4.0</td>\n",
       "      <td>125561.97</td>\n",
       "      <td>1</td>\n",
       "      <td>0</td>\n",
       "      <td>0</td>\n",
       "      <td>164040.94</td>\n",
       "      <td>1</td>\n",
       "    </tr>\n",
       "    <tr>\n",
       "      <th>54</th>\n",
       "      <td>601</td>\n",
       "      <td>Germany</td>\n",
       "      <td>Male</td>\n",
       "      <td>42</td>\n",
       "      <td>1.0</td>\n",
       "      <td>98495.72</td>\n",
       "      <td>1</td>\n",
       "      <td>1</td>\n",
       "      <td>0</td>\n",
       "      <td>40014.76</td>\n",
       "      <td>1</td>\n",
       "    </tr>\n",
       "    <tr>\n",
       "      <th>55</th>\n",
       "      <td>619</td>\n",
       "      <td>France</td>\n",
       "      <td>Male</td>\n",
       "      <td>43</td>\n",
       "      <td>1.0</td>\n",
       "      <td>125211.92</td>\n",
       "      <td>1</td>\n",
       "      <td>1</td>\n",
       "      <td>1</td>\n",
       "      <td>113410.49</td>\n",
       "      <td>0</td>\n",
       "    </tr>\n",
       "    <tr>\n",
       "      <th>56</th>\n",
       "      <td>656</td>\n",
       "      <td>France</td>\n",
       "      <td>Male</td>\n",
       "      <td>45</td>\n",
       "      <td>5.0</td>\n",
       "      <td>127864.40</td>\n",
       "      <td>1</td>\n",
       "      <td>1</td>\n",
       "      <td>0</td>\n",
       "      <td>87107.57</td>\n",
       "      <td>0</td>\n",
       "    </tr>\n",
       "    <tr>\n",
       "      <th>57</th>\n",
       "      <td>725</td>\n",
       "      <td>Germany</td>\n",
       "      <td>Male</td>\n",
       "      <td>19</td>\n",
       "      <td>0.0</td>\n",
       "      <td>75888.20</td>\n",
       "      <td>1</td>\n",
       "      <td>0</td>\n",
       "      <td>0</td>\n",
       "      <td>45613.75</td>\n",
       "      <td>0</td>\n",
       "    </tr>\n",
       "    <tr>\n",
       "      <th>58</th>\n",
       "      <td>511</td>\n",
       "      <td>Spain</td>\n",
       "      <td>Female</td>\n",
       "      <td>66</td>\n",
       "      <td>4.0</td>\n",
       "      <td>0.00</td>\n",
       "      <td>1</td>\n",
       "      <td>1</td>\n",
       "      <td>0</td>\n",
       "      <td>1643.11</td>\n",
       "      <td>1</td>\n",
       "    </tr>\n",
       "    <tr>\n",
       "      <th>59</th>\n",
       "      <td>614</td>\n",
       "      <td>France</td>\n",
       "      <td>Male</td>\n",
       "      <td>51</td>\n",
       "      <td>4.0</td>\n",
       "      <td>40685.92</td>\n",
       "      <td>1</td>\n",
       "      <td>1</td>\n",
       "      <td>1</td>\n",
       "      <td>46775.28</td>\n",
       "      <td>0</td>\n",
       "    </tr>\n",
       "    <tr>\n",
       "      <th>60</th>\n",
       "      <td>742</td>\n",
       "      <td>Germany</td>\n",
       "      <td>Male</td>\n",
       "      <td>35</td>\n",
       "      <td>5.0</td>\n",
       "      <td>136857.00</td>\n",
       "      <td>1</td>\n",
       "      <td>0</td>\n",
       "      <td>0</td>\n",
       "      <td>84509.57</td>\n",
       "      <td>0</td>\n",
       "    </tr>\n",
       "  </tbody>\n",
       "</table>\n",
       "</div>"
      ],
      "text/plain": [
       "    credit_score geography  gender  age  tenure    balance  num_of_products  \\\n",
       "29           411    France    Male   29     0.0   59697.17                2   \n",
       "30           591     Spain  Female   39     6.0       0.00                3   \n",
       "31           533    France    Male   36     7.0   85311.70                1   \n",
       "32           553   Germany    Male   41     9.0  110112.54                2   \n",
       "33           520     Spain  Female   42     6.0       0.00                2   \n",
       "34           722     Spain  Female   29     9.0       0.00                2   \n",
       "35           475    France  Female   45     0.0  134264.04                1   \n",
       "36           490     Spain    Male   31     3.0  145260.23                1   \n",
       "37           804     Spain    Male   33     7.0   76548.60                1   \n",
       "38           850    France    Male   36     7.0       0.00                1   \n",
       "39           582   Germany    Male   41     6.0   70349.48                2   \n",
       "40           472     Spain    Male   40     4.0       0.00                1   \n",
       "41           465    France  Female   51     8.0  122522.32                1   \n",
       "42           556    France  Female   61     2.0  117419.35                1   \n",
       "43           834    France  Female   49     2.0  131394.56                1   \n",
       "44           660     Spain  Female   61     5.0  155931.11                1   \n",
       "45           776   Germany  Female   32     4.0  109421.13                2   \n",
       "46           829   Germany  Female   27     9.0  112045.67                1   \n",
       "47           637   Germany  Female   39     9.0  137843.80                1   \n",
       "48           550   Germany    Male   38     5.0  103391.38                1   \n",
       "49           776   Germany  Female   37     2.0  103769.22                2   \n",
       "50           698   Germany    Male   44    10.0  116363.37                2   \n",
       "51           585   Germany    Male   36     5.5  146050.97                2   \n",
       "52           788    France  Female   33     5.0       0.00                2   \n",
       "53           655   Germany    Male   41     4.0  125561.97                1   \n",
       "54           601   Germany    Male   42     1.0   98495.72                1   \n",
       "55           619    France    Male   43     1.0  125211.92                1   \n",
       "56           656    France    Male   45     5.0  127864.40                1   \n",
       "57           725   Germany    Male   19     0.0   75888.20                1   \n",
       "58           511     Spain  Female   66     4.0       0.00                1   \n",
       "59           614    France    Male   51     4.0   40685.92                1   \n",
       "60           742   Germany    Male   35     5.0  136857.00                1   \n",
       "\n",
       "    has_cr_card  is_active_member  estimated_salary  exited  \n",
       "29            1                 1          53483.21       0  \n",
       "30            1                 0         140469.38       1  \n",
       "31            0                 1         156731.91       0  \n",
       "32            0                 0          81898.81       0  \n",
       "33            1                 1          34410.55       0  \n",
       "34            1                 1         142033.07       0  \n",
       "35            1                 0          27822.99       1  \n",
       "36            0                 1         114066.77       0  \n",
       "37            0                 1          98453.45       0  \n",
       "38            1                 1          40812.90       0  \n",
       "39            0                 1         178074.04       0  \n",
       "40            1                 0          70154.22       0  \n",
       "41            0                 0         181297.65       1  \n",
       "42            1                 1          94153.83       0  \n",
       "43            0                 0         194365.76       1  \n",
       "44            1                 1         158338.39       0  \n",
       "45            1                 1         126517.46       0  \n",
       "46            1                 1         119708.21       1  \n",
       "47            1                 1         117622.80       1  \n",
       "48            0                 1          90878.13       0  \n",
       "49            1                 0         194099.12       0  \n",
       "50            1                 0         198059.16       0  \n",
       "51            0                 0          86424.57       0  \n",
       "52            0                 0         116978.19       0  \n",
       "53            0                 0         164040.94       1  \n",
       "54            1                 0          40014.76       1  \n",
       "55            1                 1         113410.49       0  \n",
       "56            1                 0          87107.57       0  \n",
       "57            0                 0          45613.75       0  \n",
       "58            1                 0           1643.11       1  \n",
       "59            1                 1          46775.28       0  \n",
       "60            0                 0          84509.57       0  "
      ]
     },
     "metadata": {},
     "output_type": "display_data"
    },
    {
     "data": {
      "text/plain": [
       "(10000, 11)"
      ]
     },
     "execution_count": 39,
     "metadata": {},
     "output_type": "execute_result"
    }
   ],
   "source": [
    "print(df.isna().sum())\n",
    "grp = df.groupby(['geography', 'age'])\n",
    "# grp = df.groupby(['geography'])\n",
    "# grp = df.groupby(['age'])\n",
    "display(grp.aggregate(np.sum))\n",
    "df['tenure'] = grp.tenure.apply(lambda x: x.fillna(x.median()))\n",
    "print(df.isna().sum())\n",
    "display(df.loc[29:60])\n",
    "df.shape"
   ]
  },
  {
   "cell_type": "code",
   "execution_count": 6,
   "metadata": {},
   "outputs": [],
   "source": [
    "df.drop(columns=['row_number', 'customer_id', 'surname'], axis=1, inplace=True)"
   ]
  },
  {
   "cell_type": "markdown",
   "metadata": {},
   "source": [
    "<div class=\"alert alert-info\" style=\"background:#ffdbf1;color:#2e00ab\">\n",
    "<h5> Комментарий студента </h5>\n",
    "    \n",
    "- 'row_number', 'customer_id' - порядковые типы данных, их значения уникальны.\n",
    "\n",
    "- 'surname' - номинальный тип\n",
    "\n",
    "- все три признака  не коррелируют с целевым признаком.\n",
    "\n",
    "</div>\n"
   ]
  },
  {
   "cell_type": "markdown",
   "metadata": {},
   "source": [
    "Данные содержат категориальные признаки (**'surname'**, **'geography'**, **'gender'**).\n",
    "Необходимо преобразование категориальных признаков в численные с помощью OHE (One-Hot Encoding - техника прямого кодирования, или отображения)"
   ]
  },
  {
   "cell_type": "code",
   "execution_count": 7,
   "metadata": {},
   "outputs": [],
   "source": [
    "# преобразование категориальных признаков в численные с помощью One-Hot Encoding\n",
    "df_ohe = pd.get_dummies(df, drop_first=False)\n",
    "# display(df_ohe.head(3))"
   ]
  },
  {
   "cell_type": "code",
   "execution_count": 8,
   "metadata": {},
   "outputs": [],
   "source": [
    "# target = df_ohe['exited']\n",
    "# features = df_ohe.drop('exited', axis=1)\n",
    "\n",
    "# features_train, features_valid, target_train, target_valid = train_test_split(\n",
    "#     features, target, test_size=0.199978, random_state=12345)\n",
    "\n",
    "# features_train, features_test, target_train, target_test = train_test_split(features_train, target_train, test_size=0.249965626, random_state=12345) \n",
    "# display(features_train, features_valid, features_test)\n",
    "\n",
    "#  # обучение логистической регресии\n",
    "# model = LogisticRegression(random_state=12345, solver='liblinear')\n",
    "# model.fit(features_train, target_train) # обучение модели на тренировочной выборке"
   ]
  },
  {
   "cell_type": "code",
   "execution_count": 9,
   "metadata": {},
   "outputs": [],
   "source": [
    "def make_target_features(data, target_column='exited'):\n",
    "    target = data[target_column]\n",
    "    features = data.drop(target_column, axis=1)\n",
    "    return target, features\n",
    "\n",
    "rand_state = 12345\n",
    "def split_scal_data(features, target):\n",
    "    features_train, features_valid, target_train, target_valid = train_test_split(\n",
    "        features, target, test_size=0.199978, random_state=rand_state)\n",
    "\n",
    "    features_train, features_test, target_train, target_test = train_test_split(\n",
    "        features_train, target_train, test_size=0.249965626, random_state=rand_state, shuffle=False)\n",
    "     # Масштабирование численных признаков методом стандартизации данных\n",
    "    numeric = ['credit_score', 'age', 'tenure', 'balance', 'num_of_products', 'estimated_salary']\n",
    "    scaler = StandardScaler()\n",
    "    scaler.fit(features_train[numeric]) \n",
    "\n",
    "    features_train[numeric] = scaler.transform(features_train[numeric])\n",
    "    features_valid[numeric] = scaler.transform(features_valid[numeric]) \n",
    "    features_test[numeric] = scaler.transform(features_test[numeric])\n",
    "    return features_train, features_valid, features_test, target_train, target_valid, target_test\n"
   ]
  },
  {
   "cell_type": "code",
   "execution_count": 10,
   "metadata": {},
   "outputs": [
    {
     "data": {
      "text/html": [
       "<div>\n",
       "<style scoped>\n",
       "    .dataframe tbody tr th:only-of-type {\n",
       "        vertical-align: middle;\n",
       "    }\n",
       "\n",
       "    .dataframe tbody tr th {\n",
       "        vertical-align: top;\n",
       "    }\n",
       "\n",
       "    .dataframe thead th {\n",
       "        text-align: right;\n",
       "    }\n",
       "</style>\n",
       "<table border=\"1\" class=\"dataframe\">\n",
       "  <thead>\n",
       "    <tr style=\"text-align: right;\">\n",
       "      <th></th>\n",
       "      <th>credit_score</th>\n",
       "      <th>age</th>\n",
       "      <th>tenure</th>\n",
       "      <th>balance</th>\n",
       "      <th>num_of_products</th>\n",
       "      <th>has_cr_card</th>\n",
       "      <th>is_active_member</th>\n",
       "      <th>estimated_salary</th>\n",
       "      <th>geography_France</th>\n",
       "      <th>geography_Germany</th>\n",
       "      <th>geography_Spain</th>\n",
       "      <th>gender_Female</th>\n",
       "      <th>gender_Male</th>\n",
       "    </tr>\n",
       "  </thead>\n",
       "  <tbody>\n",
       "    <tr>\n",
       "      <th>454</th>\n",
       "      <td>1.106233</td>\n",
       "      <td>0.024139</td>\n",
       "      <td>0.367523</td>\n",
       "      <td>0.827373</td>\n",
       "      <td>-0.903118</td>\n",
       "      <td>0</td>\n",
       "      <td>1</td>\n",
       "      <td>-0.771197</td>\n",
       "      <td>1</td>\n",
       "      <td>0</td>\n",
       "      <td>0</td>\n",
       "      <td>1</td>\n",
       "      <td>0</td>\n",
       "    </tr>\n",
       "    <tr>\n",
       "      <th>8307</th>\n",
       "      <td>-0.333797</td>\n",
       "      <td>-0.837381</td>\n",
       "      <td>-0.716260</td>\n",
       "      <td>0.931047</td>\n",
       "      <td>-0.903118</td>\n",
       "      <td>1</td>\n",
       "      <td>1</td>\n",
       "      <td>-1.206655</td>\n",
       "      <td>1</td>\n",
       "      <td>0</td>\n",
       "      <td>0</td>\n",
       "      <td>0</td>\n",
       "      <td>1</td>\n",
       "    </tr>\n",
       "    <tr>\n",
       "      <th>4811</th>\n",
       "      <td>-0.776092</td>\n",
       "      <td>-1.220279</td>\n",
       "      <td>0.728784</td>\n",
       "      <td>-1.208208</td>\n",
       "      <td>0.820938</td>\n",
       "      <td>1</td>\n",
       "      <td>0</td>\n",
       "      <td>0.196438</td>\n",
       "      <td>0</td>\n",
       "      <td>0</td>\n",
       "      <td>1</td>\n",
       "      <td>1</td>\n",
       "      <td>0</td>\n",
       "    </tr>\n",
       "  </tbody>\n",
       "</table>\n",
       "</div>"
      ],
      "text/plain": [
       "      credit_score       age    tenure   balance  num_of_products  \\\n",
       "454       1.106233  0.024139  0.367523  0.827373        -0.903118   \n",
       "8307     -0.333797 -0.837381 -0.716260  0.931047        -0.903118   \n",
       "4811     -0.776092 -1.220279  0.728784 -1.208208         0.820938   \n",
       "\n",
       "      has_cr_card  is_active_member  estimated_salary  geography_France  \\\n",
       "454             0                 1         -0.771197                 1   \n",
       "8307            1                 1         -1.206655                 1   \n",
       "4811            1                 0          0.196438                 0   \n",
       "\n",
       "      geography_Germany  geography_Spain  gender_Female  gender_Male  \n",
       "454                   0                0              1            0  \n",
       "8307                  0                0              0            1  \n",
       "4811                  0                1              1            0  "
      ]
     },
     "metadata": {},
     "output_type": "display_data"
    },
    {
     "data": {
      "text/plain": [
       "(6000, 13)"
      ]
     },
     "metadata": {},
     "output_type": "display_data"
    },
    {
     "data": {
      "text/html": [
       "<div>\n",
       "<style scoped>\n",
       "    .dataframe tbody tr th:only-of-type {\n",
       "        vertical-align: middle;\n",
       "    }\n",
       "\n",
       "    .dataframe tbody tr th {\n",
       "        vertical-align: top;\n",
       "    }\n",
       "\n",
       "    .dataframe thead th {\n",
       "        text-align: right;\n",
       "    }\n",
       "</style>\n",
       "<table border=\"1\" class=\"dataframe\">\n",
       "  <thead>\n",
       "    <tr style=\"text-align: right;\">\n",
       "      <th></th>\n",
       "      <th>credit_score</th>\n",
       "      <th>age</th>\n",
       "      <th>tenure</th>\n",
       "      <th>balance</th>\n",
       "      <th>num_of_products</th>\n",
       "      <th>has_cr_card</th>\n",
       "      <th>is_active_member</th>\n",
       "      <th>estimated_salary</th>\n",
       "      <th>geography_France</th>\n",
       "      <th>geography_Germany</th>\n",
       "      <th>geography_Spain</th>\n",
       "      <th>gender_Female</th>\n",
       "      <th>gender_Male</th>\n",
       "    </tr>\n",
       "  </thead>\n",
       "  <tbody>\n",
       "    <tr>\n",
       "      <th>7867</th>\n",
       "      <td>-0.107507</td>\n",
       "      <td>0.694210</td>\n",
       "      <td>-0.716260</td>\n",
       "      <td>-1.208208</td>\n",
       "      <td>-0.903118</td>\n",
       "      <td>1</td>\n",
       "      <td>1</td>\n",
       "      <td>0.953384</td>\n",
       "      <td>0</td>\n",
       "      <td>0</td>\n",
       "      <td>1</td>\n",
       "      <td>1</td>\n",
       "      <td>0</td>\n",
       "    </tr>\n",
       "    <tr>\n",
       "      <th>1402</th>\n",
       "      <td>1.095947</td>\n",
       "      <td>-0.933106</td>\n",
       "      <td>1.090044</td>\n",
       "      <td>0.874503</td>\n",
       "      <td>-0.903118</td>\n",
       "      <td>1</td>\n",
       "      <td>0</td>\n",
       "      <td>-0.409746</td>\n",
       "      <td>1</td>\n",
       "      <td>0</td>\n",
       "      <td>0</td>\n",
       "      <td>0</td>\n",
       "      <td>1</td>\n",
       "    </tr>\n",
       "    <tr>\n",
       "      <th>8606</th>\n",
       "      <td>1.610244</td>\n",
       "      <td>0.311312</td>\n",
       "      <td>0.006262</td>\n",
       "      <td>-1.208208</td>\n",
       "      <td>0.820938</td>\n",
       "      <td>1</td>\n",
       "      <td>1</td>\n",
       "      <td>-0.454182</td>\n",
       "      <td>0</td>\n",
       "      <td>0</td>\n",
       "      <td>1</td>\n",
       "      <td>0</td>\n",
       "      <td>1</td>\n",
       "    </tr>\n",
       "  </tbody>\n",
       "</table>\n",
       "</div>"
      ],
      "text/plain": [
       "      credit_score       age    tenure   balance  num_of_products  \\\n",
       "7867     -0.107507  0.694210 -0.716260 -1.208208        -0.903118   \n",
       "1402      1.095947 -0.933106  1.090044  0.874503        -0.903118   \n",
       "8606      1.610244  0.311312  0.006262 -1.208208         0.820938   \n",
       "\n",
       "      has_cr_card  is_active_member  estimated_salary  geography_France  \\\n",
       "7867            1                 1          0.953384                 0   \n",
       "1402            1                 0         -0.409746                 1   \n",
       "8606            1                 1         -0.454182                 0   \n",
       "\n",
       "      geography_Germany  geography_Spain  gender_Female  gender_Male  \n",
       "7867                  0                1              1            0  \n",
       "1402                  0                0              0            1  \n",
       "8606                  0                1              0            1  "
      ]
     },
     "metadata": {},
     "output_type": "display_data"
    },
    {
     "data": {
      "text/plain": [
       "(2000, 13)"
      ]
     },
     "metadata": {},
     "output_type": "display_data"
    },
    {
     "data": {
      "text/html": [
       "<div>\n",
       "<style scoped>\n",
       "    .dataframe tbody tr th:only-of-type {\n",
       "        vertical-align: middle;\n",
       "    }\n",
       "\n",
       "    .dataframe tbody tr th {\n",
       "        vertical-align: top;\n",
       "    }\n",
       "\n",
       "    .dataframe thead th {\n",
       "        text-align: right;\n",
       "    }\n",
       "</style>\n",
       "<table border=\"1\" class=\"dataframe\">\n",
       "  <thead>\n",
       "    <tr style=\"text-align: right;\">\n",
       "      <th></th>\n",
       "      <th>credit_score</th>\n",
       "      <th>age</th>\n",
       "      <th>tenure</th>\n",
       "      <th>balance</th>\n",
       "      <th>num_of_products</th>\n",
       "      <th>has_cr_card</th>\n",
       "      <th>is_active_member</th>\n",
       "      <th>estimated_salary</th>\n",
       "      <th>geography_France</th>\n",
       "      <th>geography_Germany</th>\n",
       "      <th>geography_Spain</th>\n",
       "      <th>gender_Female</th>\n",
       "      <th>gender_Male</th>\n",
       "    </tr>\n",
       "  </thead>\n",
       "  <tbody>\n",
       "    <tr>\n",
       "      <th>3417</th>\n",
       "      <td>-0.395513</td>\n",
       "      <td>0.311312</td>\n",
       "      <td>1.812566</td>\n",
       "      <td>-0.001518</td>\n",
       "      <td>-0.903118</td>\n",
       "      <td>0</td>\n",
       "      <td>0</td>\n",
       "      <td>0.839592</td>\n",
       "      <td>1</td>\n",
       "      <td>0</td>\n",
       "      <td>0</td>\n",
       "      <td>1</td>\n",
       "      <td>0</td>\n",
       "    </tr>\n",
       "    <tr>\n",
       "      <th>2581</th>\n",
       "      <td>0.550793</td>\n",
       "      <td>-0.741657</td>\n",
       "      <td>0.006262</td>\n",
       "      <td>-1.208208</td>\n",
       "      <td>0.820938</td>\n",
       "      <td>1</td>\n",
       "      <td>0</td>\n",
       "      <td>1.416664</td>\n",
       "      <td>1</td>\n",
       "      <td>0</td>\n",
       "      <td>0</td>\n",
       "      <td>0</td>\n",
       "      <td>1</td>\n",
       "    </tr>\n",
       "    <tr>\n",
       "      <th>7574</th>\n",
       "      <td>1.013660</td>\n",
       "      <td>-0.550208</td>\n",
       "      <td>-1.438782</td>\n",
       "      <td>-0.019284</td>\n",
       "      <td>-0.903118</td>\n",
       "      <td>1</td>\n",
       "      <td>0</td>\n",
       "      <td>-1.401157</td>\n",
       "      <td>1</td>\n",
       "      <td>0</td>\n",
       "      <td>0</td>\n",
       "      <td>1</td>\n",
       "      <td>0</td>\n",
       "    </tr>\n",
       "  </tbody>\n",
       "</table>\n",
       "</div>"
      ],
      "text/plain": [
       "      credit_score       age    tenure   balance  num_of_products  \\\n",
       "3417     -0.395513  0.311312  1.812566 -0.001518        -0.903118   \n",
       "2581      0.550793 -0.741657  0.006262 -1.208208         0.820938   \n",
       "7574      1.013660 -0.550208 -1.438782 -0.019284        -0.903118   \n",
       "\n",
       "      has_cr_card  is_active_member  estimated_salary  geography_France  \\\n",
       "3417            0                 0          0.839592                 1   \n",
       "2581            1                 0          1.416664                 1   \n",
       "7574            1                 0         -1.401157                 1   \n",
       "\n",
       "      geography_Germany  geography_Spain  gender_Female  gender_Male  \n",
       "3417                  0                0              1            0  \n",
       "2581                  0                0              0            1  \n",
       "7574                  0                0              1            0  "
      ]
     },
     "metadata": {},
     "output_type": "display_data"
    },
    {
     "data": {
      "text/plain": [
       "(2000, 13)"
      ]
     },
     "metadata": {},
     "output_type": "display_data"
    }
   ],
   "source": [
    "target, features = make_target_features(df_ohe, target_column='exited')\n",
    "\n",
    "features_train, features_valid, features_test, target_train, target_valid, target_test = split_scal_data(\n",
    "    features, target\n",
    ")\n",
    "\n",
    "\n",
    "display(features_train.head(3), features_train.shape, features_valid.head(3),\n",
    "        features_valid.shape, features_test.head(3), features_test.shape\n",
    ")"
   ]
  },
  {
   "cell_type": "markdown",
   "metadata": {},
   "source": [
    "#### Целевой признак"
   ]
  },
  {
   "cell_type": "code",
   "execution_count": 11,
   "metadata": {},
   "outputs": [
    {
     "name": "stdout",
     "output_type": "stream",
     "text": [
      "0.799\n"
     ]
    }
   ],
   "source": [
    "# создание пустой модели и сохранение её в переменной структуры данных DecisionTreeClassifier\n",
    "model = DecisionTreeClassifier(random_state=rand_state)\n",
    "# обучение модели \n",
    "model.fit(features_train, target_train)\n",
    "# расчёт предсказания ответов на обучающей выборке \n",
    "predicted_valid = model.predict(features_valid)\n",
    "\n",
    "accuracy_valid = accuracy_score(target_valid, predicted_valid)\n",
    "print(accuracy_valid) "
   ]
  },
  {
   "cell_type": "code",
   "execution_count": 12,
   "metadata": {},
   "outputs": [
    {
     "name": "stdout",
     "output_type": "stream",
     "text": [
      "0    0.7975\n",
      "1    0.2025\n",
      "dtype: float64\n"
     ]
    },
    {
     "data": {
      "image/png": "[encoded data removed]",
      "text/plain": [
       "<Figure size 288x288 with 1 Axes>"
      ]
     },
     "metadata": {},
     "output_type": "display_data"
    }
   ],
   "source": [
    "# для работы функции value_counts(),преобразуем результат к pd.Series \n",
    "predicted_valid = pd.Series(model.predict(features_valid))\n",
    "\n",
    "# анализ частоты классов в результатах предсказаний решающего дерева \n",
    "class_frequency = predicted_valid.value_counts(normalize=True)\n",
    "print(class_frequency)\n",
    "\n",
    "class_frequency.plot.pie(legend=True, labeldistance=1.2, autopct='%1.2f%%', figsize=(4,4), \n",
    "                title='Соотношение классов по факту ухода клиентов'\n",
    ")\n",
    "plt.show()\n",
    "\n",
    "# df['exited'].value_counts().plot(kind='pie', utopct='%1.2f%%', legend=True)"
   ]
  },
  {
   "cell_type": "code",
   "execution_count": 13,
   "metadata": {},
   "outputs": [],
   "source": [
    "#  # Масштабирование численных признаков методом стандартизации данных\n",
    "# numeric = ['credit_score', 'age', 'tenure', 'balance', 'num_of_products', 'estimated_salary']\n",
    "# scaler = StandardScaler()\n",
    "# scaler.fit(features_train[numeric]) \n",
    "\n",
    "# features_train[numeric] = scaler.transform(features_train[numeric])\n",
    "# features_valid[numeric] = scaler.transform(features_valid[numeric]) \n",
    "# features_test[numeric] = scaler.transform(features_valid[numeric]) \n",
    "\n",
    "# display(features_train.head())"
   ]
  },
  {
   "cell_type": "code",
   "execution_count": 14,
   "metadata": {},
   "outputs": [],
   "source": [
    "def train_and_predict(model, samplefunc=None, test=False, repeat=None):\n",
    "    # target, features = make_target_features(data)\n",
    "    # features_train, features_valid, features_test, target_train, target_valid, target_test = split_scal_data(data,\n",
    "    #     features, target=target)\n",
    "\n",
    "    global features_train, target_train\n",
    "    features = features_train\n",
    "    target = target_train\n",
    "\n",
    "    if samplefunc:\n",
    "        features, target = samplefunc(repeat)\n",
    "\n",
    "    \n",
    "    model.fit(features, target)\n",
    "    predicted_valid = model.predict(features_valid)\n",
    "    f1 = f1_score(target_valid, predicted_valid)\n",
    "    \n",
    "    if test:\n",
    "        predictions_test = model.predict(features_test)\n",
    "        f1 = f1_score(target_test, predictions_test)\n",
    "        return f1\n",
    "    \n",
    "    return f1"
   ]
  },
  {
   "cell_type": "markdown",
   "metadata": {},
   "source": [
    "## Исследование задачи"
   ]
  },
  {
   "cell_type": "markdown",
   "metadata": {},
   "source": [
    "Пороверка на адекватность. "
   ]
  },
  {
   "cell_type": "code",
   "execution_count": 15,
   "metadata": {},
   "outputs": [
    {
     "name": "stdout",
     "output_type": "stream",
     "text": [
      "Доля правильных ответов =  0.7963\n"
     ]
    }
   ],
   "source": [
    "# Создание константной модели: любому объекту она прогнозирует класс «0».\n",
    "target_pred_constant = pd.Series(0, index=target.index)\n",
    "\n",
    "print('Доля правильных ответов = ', accuracy_score(target, target_pred_constant)) "
   ]
  },
  {
   "cell_type": "raw",
   "metadata": {},
   "source": [
    "Аccuracy решающего дерева и константной модели почти одинаковы.\n",
    "\n",
    "Наблюдается сильный дисбаланс классов, что плохо сказывается на обучении модели. Соотношение клиентов оставшихся в банке и клиентов расторгнувших договор с банком составляет  80 : 20."
   ]
  },
  {
   "cell_type": "code",
   "execution_count": 16,
   "metadata": {},
   "outputs": [
    {
     "name": "stdout",
     "output_type": "stream",
     "text": [
      "[[1383  190]\n",
      " [ 212  215]]\n"
     ]
    }
   ],
   "source": [
    "# Матрица ошибок\n",
    "print(confusion_matrix(target_valid, predicted_valid))"
   ]
  },
  {
   "cell_type": "markdown",
   "metadata": {},
   "source": [
    "TN (1268) — это количество клиентов, которые:\n",
    "•\tпо прогнозу модели  не прекратили сотрудничество с банком;\n",
    "•\tпо факту не ушли из банка.\n",
    "\n",
    "TP (185) — это количество клиентов, которые:\n",
    "•\tпо прогнозу модели прекратили сотрудничество с банком;\n",
    "•\tпо факту ушли из банка.\n",
    "\n",
    "\n",
    "FP (181) — это количество клиентов, которые:\n",
    "•\tпо прогнозу модели  прекратили сотрудничество с банком;\n",
    "•\tпо факту не ушли из банка.\n",
    "\n",
    "FN (184) — это количество клиентов, которые:\n",
    "•\tпо прогнозу модели  не прекратили сотрудничество с банком;\n",
    "•\tпо факту ушли из банка."
   ]
  },
  {
   "cell_type": "markdown",
   "metadata": {},
   "source": [
    "Чтобы не пересчитывать каждую метрику отдельно, можно использовать classification_report(),  завернув в ДататаФрэйм (pd.DataFrame() и транспонировать (transpose()):"
   ]
  },
  {
   "cell_type": "code",
   "execution_count": 17,
   "metadata": {},
   "outputs": [
    {
     "name": "stdout",
     "output_type": "stream",
     "text": [
      "Полнота:  0.5035128805620609\n",
      "Точность: 0.5308641975308642\n",
      "F1-мера:  0.5168269230769231\n"
     ]
    }
   ],
   "source": [
    "print('Полнота: ', recall_score(target_valid, predicted_valid))\n",
    "print('Точность:', precision_score(target_valid, predicted_valid))\n",
    "print('F1-мера: ', f1_score(target_valid, predicted_valid))"
   ]
  },
  {
   "cell_type": "code",
   "execution_count": 18,
   "metadata": {},
   "outputs": [
    {
     "data": {
      "text/html": [
       "<div>\n",
       "<style scoped>\n",
       "    .dataframe tbody tr th:only-of-type {\n",
       "        vertical-align: middle;\n",
       "    }\n",
       "\n",
       "    .dataframe tbody tr th {\n",
       "        vertical-align: top;\n",
       "    }\n",
       "\n",
       "    .dataframe thead th {\n",
       "        text-align: right;\n",
       "    }\n",
       "</style>\n",
       "<table border=\"1\" class=\"dataframe\">\n",
       "  <thead>\n",
       "    <tr style=\"text-align: right;\">\n",
       "      <th></th>\n",
       "      <th>precision</th>\n",
       "      <th>recall</th>\n",
       "      <th>f1-score</th>\n",
       "      <th>support</th>\n",
       "    </tr>\n",
       "  </thead>\n",
       "  <tbody>\n",
       "    <tr>\n",
       "      <th>0</th>\n",
       "      <td>0.867085</td>\n",
       "      <td>0.879212</td>\n",
       "      <td>0.873106</td>\n",
       "      <td>1573.000</td>\n",
       "    </tr>\n",
       "    <tr>\n",
       "      <th>1</th>\n",
       "      <td>0.530864</td>\n",
       "      <td>0.503513</td>\n",
       "      <td>0.516827</td>\n",
       "      <td>427.000</td>\n",
       "    </tr>\n",
       "    <tr>\n",
       "      <th>accuracy</th>\n",
       "      <td>0.799000</td>\n",
       "      <td>0.799000</td>\n",
       "      <td>0.799000</td>\n",
       "      <td>0.799</td>\n",
       "    </tr>\n",
       "    <tr>\n",
       "      <th>macro avg</th>\n",
       "      <td>0.698974</td>\n",
       "      <td>0.691362</td>\n",
       "      <td>0.694966</td>\n",
       "      <td>2000.000</td>\n",
       "    </tr>\n",
       "    <tr>\n",
       "      <th>weighted avg</th>\n",
       "      <td>0.795302</td>\n",
       "      <td>0.799000</td>\n",
       "      <td>0.797040</td>\n",
       "      <td>2000.000</td>\n",
       "    </tr>\n",
       "  </tbody>\n",
       "</table>\n",
       "</div>"
      ],
      "text/plain": [
       "              precision    recall  f1-score   support\n",
       "0              0.867085  0.879212  0.873106  1573.000\n",
       "1              0.530864  0.503513  0.516827   427.000\n",
       "accuracy       0.799000  0.799000  0.799000     0.799\n",
       "macro avg      0.698974  0.691362  0.694966  2000.000\n",
       "weighted avg   0.795302  0.799000  0.797040  2000.000"
      ]
     },
     "execution_count": 18,
     "metadata": {},
     "output_type": "execute_result"
    }
   ],
   "source": [
    "pd.DataFrame(classification_report(target_valid, predicted_valid, output_dict=True)).transpose()"
   ]
  },
  {
   "cell_type": "markdown",
   "metadata": {},
   "source": [
    "#### LogisticRegression"
   ]
  },
  {
   "cell_type": "code",
   "execution_count": 19,
   "metadata": {},
   "outputs": [
    {
     "name": "stdout",
     "output_type": "stream",
     "text": [
      "_______________________________________________\n",
      "F1_valid: 0.2785714285714286\n"
     ]
    }
   ],
   "source": [
    "model = LogisticRegression(solver='liblinear', random_state=rand_state)\n",
    "f1 = train_and_predict(model, samplefunc=None, test=False)\n",
    "\n",
    "print('_______________________________________________')\n",
    "print(f'F1_valid: {f1}')"
   ]
  },
  {
   "cell_type": "markdown",
   "metadata": {},
   "source": [
    "#### DecisionTreeClassifier"
   ]
  },
  {
   "cell_type": "code",
   "execution_count": 20,
   "metadata": {},
   "outputs": [
    {
     "name": "stdout",
     "output_type": "stream",
     "text": [
      "max_depth 2:\t F1_valid: 0.5272969374167776\n",
      "max_depth 3:\t F1_valid: 0.4113475177304965\n",
      "max_depth 4:\t F1_valid: 0.42807017543859643\n",
      "max_depth 5:\t F1_valid: 0.5625000000000001\n",
      "max_depth 6:\t F1_valid: 0.5088\n",
      "max_depth 7:\t F1_valid: 0.5634218289085545\n",
      "max_depth 8:\t F1_valid: 0.5475177304964539\n",
      "max_depth 9:\t F1_valid: 0.5492371705963939\n",
      "max_depth 10:\t F1_valid: 0.5506849315068494\n",
      "max_depth 11:\t F1_valid: 0.5258855585831063\n",
      "max_depth 12:\t F1_valid: 0.5342281879194631\n",
      "max_depth 13:\t F1_valid: 0.5263157894736842\n",
      "max_depth 14:\t F1_valid: 0.524547803617571\n",
      "max_depth 15:\t F1_valid: 0.5270935960591132\n",
      "max_depth 16:\t F1_valid: 0.5256723716381418\n",
      "max_depth 17:\t F1_valid: 0.5067650676506765\n",
      "max_depth 18:\t F1_valid: 0.5128834355828221\n",
      "max_depth 19:\t F1_valid: 0.512696493349456\n",
      "_______________________________________________\n",
      "The best of F1_valid: 0.5634218289085545, depth - 7\n"
     ]
    }
   ],
   "source": [
    "def desision_tree_depth(class_weight=None, samplefunc=None, repeat=None):\n",
    "    best_model = None\n",
    "    best_depth = 0\n",
    "    best_result = 0\n",
    "    for max_depth in range(2, 20):\n",
    "        model = DecisionTreeClassifier(\n",
    "            \n",
    "            class_weight=class_weight,\n",
    "            max_depth=max_depth, \n",
    "            random_state=rand_state\n",
    "            )\n",
    "        \n",
    "        result = train_and_predict(\n",
    "            model, \n",
    "            samplefunc=samplefunc, \n",
    "            repeat=repeat\n",
    "            )\n",
    "        \n",
    "        if result > best_result:\n",
    "            best_model = model\n",
    "            best_result = result\n",
    "            best_depth = max_depth\n",
    "        print(f'max_depth {max_depth}:\\t F1_valid: {result}')\n",
    "    return best_result, best_depth\n",
    "\n",
    "best_result, best_depth = desision_tree_depth()\n",
    "print('_______________________________________________')\n",
    "print(f'The best of F1_valid: {best_result}, depth - {best_depth}')"
   ]
  },
  {
   "cell_type": "markdown",
   "metadata": {},
   "source": [
    "#### RandomForestClassifier"
   ]
  },
  {
   "cell_type": "code",
   "execution_count": 21,
   "metadata": {},
   "outputs": [
    {
     "name": "stdout",
     "output_type": "stream",
     "text": [
      "F1_valid: 0.11868131868131869, n_estimators - 31  depth: 2\n",
      "F1_valid: 0.2840466926070039, n_estimators - 37  depth: 4\n",
      "F1_valid: 0.46405228758169936, n_estimators - 7  depth: 6\n",
      "F1_valid: 0.48366013071895425, n_estimators - 17  depth: 8\n",
      "F1_valid: 0.5255023183925811, n_estimators - 6  depth: 10\n",
      "F1_valid: 0.5300462249614791, n_estimators - 21  depth: 12\n",
      "F1_valid: 0.5384615384615384, n_estimators - 35  depth: 14\n",
      "_______________________________________________\n",
      "The best of F1_valid: 0.5384615384615384, n_estimators - 35 best depth: 14\n"
     ]
    }
   ],
   "source": [
    "def random_f_estimate(max_depth, class_weight=None, samplefunc=None, repeat=None):    \n",
    "\n",
    "    best_n_estimators = 0\n",
    "    best_result = 0\n",
    "    for est in range(2, 40, 1):\n",
    "        model = RandomForestClassifier(\n",
    "            \n",
    "            class_weight=class_weight,\n",
    "            n_estimators=est,\n",
    "            max_depth=max_depth,\n",
    "            random_state=rand_state,\n",
    "            n_jobs=8\n",
    "            \n",
    "        )\n",
    "        result = train_and_predict(model,samplefunc=samplefunc, repeat=repeat)\n",
    "        if result > best_result:\n",
    "            best_result = result\n",
    "            best_n_estimators = est\n",
    "    \n",
    "    return best_result, best_n_estimators\n",
    "\n",
    "\n",
    "best_result = 0\n",
    "result = 0\n",
    "best_depth = 0\n",
    "best_n_estimate = 0\n",
    "for max_depth in range(2, 15, 2):\n",
    "    result, best_n_est = random_f_estimate(max_depth)\n",
    "    if result > best_result:\n",
    "        best_result = result\n",
    "        best_depth = max_depth\n",
    "        best_n_estimate =  best_n_est        \n",
    "        \n",
    "    print(f'F1_valid: {result}, n_estimators - {best_n_est}  depth: {max_depth}' )\n",
    "print('_______________________________________________')\n",
    "print(f'The best of F1_valid: {best_result}, n_estimators - {best_n_estimate} best depth: {best_depth}')    "
   ]
  },
  {
   "cell_type": "markdown",
   "metadata": {},
   "source": [
    "F1_valid: 0.32653061224489793\n",
    "\n",
    "The best of F1_valid: 0.6040061633281972, depth - 7  - ***Лучший результат принадлежит Дереву решений ***\n",
    "\n",
    "F1_valid: 0.570446735395189, n_estimators - 33  depth: 14"
   ]
  },
  {
   "cell_type": "markdown",
   "metadata": {},
   "source": [
    "## Борьба с дисбалансом"
   ]
  },
  {
   "cell_type": "markdown",
   "metadata": {},
   "source": [
    "#### LogisticRegression"
   ]
  },
  {
   "cell_type": "code",
   "execution_count": 22,
   "metadata": {},
   "outputs": [
    {
     "name": "stdout",
     "output_type": "stream",
     "text": [
      "F1_valid_balanced: 0.5033557046979866\n"
     ]
    }
   ],
   "source": [
    "# Балансировка весов классов\n",
    "model = LogisticRegression(class_weight=\"balanced\", random_state=rand_state, solver='liblinear')\n",
    "f1_balanced = train_and_predict(model, samplefunc=None, test=False)\n",
    "print(f'F1_valid_balanced: {f1_balanced}')"
   ]
  },
  {
   "cell_type": "markdown",
   "metadata": {},
   "source": [
    "Балансировка весов классов  дала ощутимые результаты, модель улучшилась  c \n",
    "F1-мера увеличилась с 0.33 до 0.51"
   ]
  },
  {
   "cell_type": "markdown",
   "metadata": {},
   "source": [
    "#### DecisionTreeClassifier"
   ]
  },
  {
   "cell_type": "code",
   "execution_count": 23,
   "metadata": {
    "scrolled": true
   },
   "outputs": [
    {
     "name": "stdout",
     "output_type": "stream",
     "text": [
      "max_depth 2:\t F1_valid: 0.5405887600356825\n",
      "max_depth 3:\t F1_valid: 0.5405887600356825\n",
      "max_depth 4:\t F1_valid: 0.5953237410071942\n",
      "max_depth 5:\t F1_valid: 0.5819158460161146\n",
      "max_depth 6:\t F1_valid: 0.5960264900662251\n",
      "max_depth 7:\t F1_valid: 0.572463768115942\n",
      "max_depth 8:\t F1_valid: 0.5731108930323847\n",
      "max_depth 9:\t F1_valid: 0.5691854759568203\n",
      "max_depth 10:\t F1_valid: 0.5251509054325956\n",
      "max_depth 11:\t F1_valid: 0.5245245245245245\n",
      "max_depth 12:\t F1_valid: 0.5046923879040668\n",
      "max_depth 13:\t F1_valid: 0.5027442371020856\n",
      "max_depth 14:\t F1_valid: 0.5\n",
      "max_depth 15:\t F1_valid: 0.48842592592592593\n",
      "max_depth 16:\t F1_valid: 0.48584905660377364\n",
      "max_depth 17:\t F1_valid: 0.4964200477326969\n",
      "max_depth 18:\t F1_valid: 0.48216482164821645\n",
      "max_depth 19:\t F1_valid: 0.48019801980198024\n",
      "_______________________________________________\n",
      "The best of F1_valid_balanced: 0.5960264900662251, depth - 6\n"
     ]
    }
   ],
   "source": [
    "best_result, best_depth = desision_tree_depth(class_weight='balanced')\n",
    "print('_______________________________________________')\n",
    "print(f'The best of F1_valid_balanced: {best_result}, depth - {best_depth}')"
   ]
  },
  {
   "cell_type": "markdown",
   "metadata": {},
   "source": [
    "Качество модели ухудшилось:\n",
    "\n",
    " The best of F1_valid: 0.59, depth - 8 \n",
    " \n",
    " The best of F1_valid_balanced: 0.57, depth - 6"
   ]
  },
  {
   "cell_type": "markdown",
   "metadata": {},
   "source": [
    "#### RandomForestClassifier"
   ]
  },
  {
   "cell_type": "code",
   "execution_count": 24,
   "metadata": {},
   "outputs": [
    {
     "name": "stdout",
     "output_type": "stream",
     "text": [
      "F1_valid: 0.5752212389380531, n_estimators - 13  depth: 2\n",
      "F1_valid: 0.6389548693586699, n_estimators - 18  depth: 10\n",
      "F1_valid: 0.5435435435435435, n_estimators - 27  depth: 18\n",
      "_______________________________________________\n",
      "The best of F1_valid_balanced: 0.6389548693586699, n_estimators - 18 best depth: 10\n"
     ]
    }
   ],
   "source": [
    "best_result = 0\n",
    "result = 0\n",
    "best_depth = 0\n",
    "best_n_estimate = 0\n",
    "for max_depth in range(2, 20, 8):\n",
    "    result, best_n_est = random_f_estimate(max_depth, class_weight='balanced')\n",
    "    if result > best_result:\n",
    "        best_result = result\n",
    "        best_depth = max_depth\n",
    "        best_n_estimate =  best_n_est        \n",
    "        \n",
    "    print(f'F1_valid: {result}, n_estimators - {best_n_est}  depth: {max_depth}' )\n",
    "print('_______________________________________________')\n",
    "print(f'The best of F1_valid_balanced: {best_result}, n_estimators - {best_n_estimate} best depth: {best_depth}') "
   ]
  },
  {
   "cell_type": "markdown",
   "metadata": {},
   "source": [
    "Лучшая модель при балансировке классов - RandomForestClassifier с результатами : \n",
    "\n",
    "F1_valid_balanced: 0.6151724137931034, \n",
    "\n",
    "n_estimators - 37 \n",
    "\n",
    "best depth: 10"
   ]
  },
  {
   "cell_type": "markdown",
   "metadata": {},
   "source": [
    "### Увеличение выборки\n",
    "Выполняется в четыре этапа:\n",
    "\n",
    "•\tРазделить обучающую выборку на отрицательные и положительные объекты;\n",
    "\n",
    "•\tСкопировать несколько раз положительные объекты;\n",
    "\n",
    "•\tС учётом полученных данных создать новую обучающую выборку;\n",
    "\n",
    "•\tПеремешать данные: идущие друг за другом одинаковые вопросы не помогут обучению.\n"
   ]
  },
  {
   "cell_type": "markdown",
   "metadata": {},
   "source": [
    "Объектов для положительного класса явно не достаточно. Продублируем объекты положительного класса и объединим их с объектами отрицательного класса.(повышающая дискретизация)"
   ]
  },
  {
   "cell_type": "code",
   "execution_count": 25,
   "metadata": {},
   "outputs": [
    {
     "name": "stdout",
     "output_type": "stream",
     "text": [
      "(6000, 13)\n",
      "(6000,)\n"
     ]
    }
   ],
   "source": [
    "# Создание новой обучающей выборки(увеличение класса \"1\" и перемешивание)\n",
    "def upsample(repeat):\n",
    "    features_zeros = features_train[target_train == 0]\n",
    "    features_ones = features_train[target_train == 1]\n",
    "    target_zeros = target_train[target_train == 0]\n",
    "    target_ones = target_train[target_train == 1]\n",
    "\n",
    "    features_upsampled = pd.concat(\n",
    "        [features_zeros] + [features_ones] * repeat\n",
    "    )\n",
    "    target_upsampled = pd.concat(\n",
    "        [target_zeros] + [target_ones] * repeat\n",
    "    )\n",
    "# перемешивание\n",
    "    features_upsampled = shuffle(\n",
    "        features_upsampled, random_state=rand_state\n",
    "    )\n",
    "    target_upsampled = shuffle(\n",
    "        target_upsampled, random_state=rand_state\n",
    "    )\n",
    "    return features_upsampled, target_upsampled\n",
    "\n",
    "#features_upsampled, target_upsampled = upsample(3)\n",
    "\n",
    "print(features_train.shape)\n",
    "print(target_train.shape)\n",
    "\n",
    "# print(features_upsampled.shape)\n",
    "# print(target_upsampled.shape)"
   ]
  },
  {
   "cell_type": "markdown",
   "metadata": {},
   "source": [
    "#### LogisticRegression"
   ]
  },
  {
   "cell_type": "code",
   "execution_count": 26,
   "metadata": {},
   "outputs": [
    {
     "name": "stdout",
     "output_type": "stream",
     "text": [
      "F1_valid_upsample: 0.5\n"
     ]
    }
   ],
   "source": [
    "# Обучение  модели LogisticRegression на новых данных\n",
    "model = LogisticRegression(solver='liblinear', random_state=rand_state)\n",
    "\n",
    "f1_upsample = train_and_predict(model, samplefunc=upsample, repeat=3)\n",
    "\n",
    "print(f'F1_valid_upsample: {f1_upsample}')"
   ]
  },
  {
   "cell_type": "markdown",
   "metadata": {},
   "source": [
    "#### DecisionTreeClassifier"
   ]
  },
  {
   "cell_type": "code",
   "execution_count": 27,
   "metadata": {},
   "outputs": [
    {
     "name": "stdout",
     "output_type": "stream",
     "text": [
      "max_depth 2:\t F1_valid: 0.5225225225225224\n",
      "max_depth 3:\t F1_valid: 0.5443037974683544\n",
      "max_depth 4:\t F1_valid: 0.5099150141643061\n",
      "max_depth 5:\t F1_valid: 0.5949535192563081\n",
      "max_depth 6:\t F1_valid: 0.5899280575539568\n",
      "max_depth 7:\t F1_valid: 0.6063569682151589\n",
      "max_depth 8:\t F1_valid: 0.5794621026894865\n",
      "max_depth 9:\t F1_valid: 0.5529841656516443\n",
      "max_depth 10:\t F1_valid: 0.5448028673835126\n",
      "max_depth 11:\t F1_valid: 0.5200945626477541\n",
      "max_depth 12:\t F1_valid: 0.49748743718592964\n",
      "max_depth 13:\t F1_valid: 0.509090909090909\n",
      "max_depth 14:\t F1_valid: 0.4830097087378641\n",
      "max_depth 15:\t F1_valid: 0.4656862745098039\n",
      "max_depth 16:\t F1_valid: 0.4691358024691358\n",
      "max_depth 17:\t F1_valid: 0.4796044499381953\n",
      "max_depth 18:\t F1_valid: 0.48216482164821645\n",
      "max_depth 19:\t F1_valid: 0.4844720496894411\n",
      "_______________________________________________\n",
      "The best of F1_upsample: 0.6063569682151589, depth - 7\n"
     ]
    }
   ],
   "source": [
    "best_result, best_depth = desision_tree_depth(samplefunc=upsample, repeat=2)\n",
    "print('_______________________________________________')\n",
    "print(f'The best of F1_upsample: {best_result}, depth - {best_depth}')"
   ]
  },
  {
   "cell_type": "markdown",
   "metadata": {},
   "source": [
    "#### RandomForestClassifier"
   ]
  },
  {
   "cell_type": "code",
   "execution_count": null,
   "metadata": {},
   "outputs": [],
   "source": []
  },
  {
   "cell_type": "code",
   "execution_count": 28,
   "metadata": {},
   "outputs": [
    {
     "name": "stdout",
     "output_type": "stream",
     "text": [
      "F1_valid: 0.6016451233842538, n_estimators - 23  depth: 4\n",
      "F1_valid: 0.6189889025893958, n_estimators - 17  depth: 5\n",
      "F1_valid: 0.6292397660818715, n_estimators - 29  depth: 6\n",
      "F1_valid: 0.6343713956170703, n_estimators - 30  depth: 7\n",
      "F1_valid: 0.634088200238379, n_estimators - 33  depth: 8\n",
      "F1_valid: 0.637749120750293, n_estimators - 24  depth: 9\n",
      "F1_valid: 0.6365853658536585, n_estimators - 33  depth: 10\n",
      "_______________________________________________\n",
      "The best of F1_valid_upsample: 0.637749120750293, n_estimators - 24 best depth: 9\n"
     ]
    }
   ],
   "source": [
    "best_result = 0\n",
    "result = 0\n",
    "best_depth = 0\n",
    "best_n_estimate = 0\n",
    "for max_depth in range(4, 11):\n",
    "    result, best_n_est = random_f_estimate(\n",
    "        max_depth,\n",
    "        samplefunc=upsample,\n",
    "        repeat=3\n",
    "    )\n",
    "    if result > best_result:\n",
    "        best_result = result\n",
    "        best_depth = max_depth\n",
    "        best_n_estimate =  best_n_est        \n",
    "        \n",
    "    print(f'F1_valid: {result}, n_estimators - {best_n_est}  depth: {max_depth}' )\n",
    "print('_______________________________________________')\n",
    "print(f'The best of F1_valid_upsample: {best_result}, n_estimators - {best_n_estimate} best depth: {best_depth}') "
   ]
  },
  {
   "cell_type": "markdown",
   "metadata": {},
   "source": [
    "F1_valid_upsample: 0.5174353205849268\n",
    "\n",
    "The best of F1_upsample: 0.6167741935483871, depth - 8\n",
    "\n",
    "The best of F1_valid_upsample: 0.6339522546419099, n_estimators - 34 best depth: 5  - **Лучшая модель при увеличении выборки**\n",
    "\n",
    "\n",
    "\n",
    "**Общий вывод**\n",
    "\n",
    "*При увеличении выборки лучшим оказался алгоритм классификации\n",
    "Рандомный лес с F1-мерой = 0,63  с количеством деревьев = 34 и глубиной = 7.*"
   ]
  },
  {
   "cell_type": "code",
   "execution_count": 29,
   "metadata": {},
   "outputs": [],
   "source": [
    "# result, best_n_est = random_f_estimate(\n",
    "#         max_depth=7,\n",
    "#         samplefunc=upsample,\n",
    "#         repeat=3\n",
    "#     )\n",
    "# print(result)"
   ]
  },
  {
   "cell_type": "markdown",
   "metadata": {},
   "source": [
    "## Тестирование модели"
   ]
  },
  {
   "cell_type": "code",
   "execution_count": 35,
   "metadata": {},
   "outputs": [
    {
     "name": "stdout",
     "output_type": "stream",
     "text": [
      "valid: 0.637749120750293\n",
      "test: 0.6456876456876456\n"
     ]
    }
   ],
   "source": [
    "# model = RandomForestClassifier(            \n",
    "#             class_weight='balanced',\n",
    "#             n_estimators=19,\n",
    "#             max_depth=7,\n",
    "#             random_state=rand_state,                                  \n",
    "#         )\n",
    "\n",
    "# model.fit(features_upsampled, target_upsampled)\n",
    "# predicted_test = model.predict(features_test)\n",
    "# result = train_and_predict(df_ohe, model, test=True)\n",
    "\n",
    "# print(result)\n",
    "\n",
    "\n",
    "\n",
    "# target, features = make_target_features(df_ohe)\n",
    "# features_train, features_valid, features_test, target_train, target_valid, target_test = split_scal_data(data=df_ohe, features=features, target=target)\n",
    "# # display(features_train, features_valid, features_test, target_train, target_valid, target_test)\n",
    "\n",
    "model = RandomForestClassifier(n_estimators=24, max_depth=9, random_state=rand_state)\n",
    "features_upsampled, target_upsampled = upsample(3)\n",
    "model.fit(features_upsampled, target_upsampled)\n",
    "\n",
    "predicted_valid = model.predict(features_valid)\n",
    "print('valid:', f1_score(target_valid, predicted_valid))\n",
    "\n",
    "predicted_test = model.predict(features_test)\n",
    "print('test:', f1_score(target_test, predicted_test))"
   ]
  },
  {
   "cell_type": "code",
   "execution_count": 36,
   "metadata": {},
   "outputs": [
    {
     "data": {
      "text/plain": [
       "0.8568450923145409"
      ]
     },
     "execution_count": 36,
     "metadata": {},
     "output_type": "execute_result"
    }
   ],
   "source": [
    "# значения вероятностей классов\n",
    "probabilities_valid = model.predict_proba(features_valid)\n",
    "# значения вероятностей класса «1»\n",
    "probabilities_one_valid = probabilities_valid[:, 1]\n",
    "\n",
    "roc_auc_score(target_valid, probabilities_one_valid)"
   ]
  },
  {
   "cell_type": "markdown",
   "metadata": {},
   "source": [
    "grp = df.groupby(['geography', 'age']) :\n",
    "\n",
    "The best of F1_valid_upsample: 0.637749120750293, n_estimators - 24 best depth: 9\n",
    "\n",
    "valid: 0.637749120750293\n",
    "test: 0.6456876456876456\n",
    "roc_auc_score: 0.8568450923145409\n",
    "__________________________________________________________________________________\n",
    "grp_geogr = df.groupby(['geography']):\n",
    "\n",
    "The best of F1_valid_upsample: 0.6378504672897197, n_estimators - 39 best depth: 8\n",
    "valid: 0.6378504672897197\n",
    "test: 0.649592549476135\n",
    "roc_auc_score: 0.862827932127485\n",
    "\n",
    "___________________________________________________________________________________\n",
    "grp_age = df.groupby(['age']):\n",
    "\n",
    "The best of F1_valid_upsample: 0.6375143843498273, n_estimators - 39 best depth: 6\n",
    "\n",
    "valid: 0.6375143843498273\n",
    "test: 0.6527293844367015\n",
    "roc_auc_score: 0.8633981517737106"
   ]
  },
  {
   "cell_type": "code",
   "execution_count": 32,
   "metadata": {},
   "outputs": [
    {
     "data": {
      "image/png": "[encoded data removed]",
      "text/plain": [
       "<Figure size 432x288 with 1 Axes>"
      ]
     },
     "metadata": {
      "needs_background": "light"
     },
     "output_type": "display_data"
    }
   ],
   "source": [
    "fpr, tpr, thresholds = roc_curve(target_valid, probabilities_one_valid) # < напишите код здесь >\n",
    "\n",
    "plt.figure()\n",
    "plt.plot(fpr, tpr)\n",
    "\n",
    "# ROC-кривая случайной модели (выглядит как прямая)\n",
    "plt.plot([0, 1], [0, 1], linestyle='--')\n",
    "\n",
    "plt.xlim([0.0, 1.0])\n",
    "plt.ylim([0.0, 1.0])\n",
    "plt.xlabel('False Positive Rate')\n",
    "plt.ylabel('True Positive Rate')\n",
    "plt.title('ROC-кривая')\n",
    "plt.show()\n",
    "\n",
    "\n"
   ]
  },
  {
   "cell_type": "markdown",
   "metadata": {},
   "source": [
    "Метрика лучше, чем у случайной модели, но до идеального значения (AUC-ROC = 1) очень далеко. Кривая ошибок выше случайной прямой, но незначительно. "
   ]
  },
  {
   "cell_type": "markdown",
   "metadata": {},
   "source": [
    "### Уменьшение выборки"
   ]
  },
  {
   "cell_type": "code",
   "execution_count": 33,
   "metadata": {},
   "outputs": [],
   "source": [
    "# def downsample(features, target, fraction):\n",
    "#     features_zeros = features_train[target_train == 0]\n",
    "#     features_ones = features_train[target_train == 1]\n",
    "#     target_zeros = target_train[target_train == 0]\n",
    "#     target_ones = target_train[target_train == 1]\n",
    "\n",
    "#     features_downsampled = pd.concat(\n",
    "#         [features_zeros.sample(frac=fraction, \n",
    "#                                random_state=rand_state\n",
    "#                               )] + [features_ones]\n",
    "#     )\n",
    "#     target_downsampled = pd.concat(\n",
    "#         [target_zeros.sample(frac=fraction, \n",
    "#                              random_state=rand_state\n",
    "#                             )] + [target_ones]\n",
    "#     )\n",
    "\n",
    "# # перемешивание\n",
    "#     features_downsampled, target_downsampled = shuffle(\n",
    "#         features_downsampled, target_downsampled,\n",
    "#         random_state=rand_state\n",
    "#     )\n",
    "    \n",
    "#     return features_downsampled, target_downsampled\n",
    "\n",
    "# features_downsampled, target_downsampled = downsample(features_train, target_train, 0.2)\n",
    "\n",
    "# print(features_downsampled.shape)\n",
    "# print(target_downsampled.shape)"
   ]
  },
  {
   "cell_type": "markdown",
   "metadata": {},
   "source": [
    "**Полнота** (Recall) — это доля TP-ответов среди всех, у которых истинная метка 1(TP + FN). Хорошо, когда значение recall близко к единице: модель хорошо ищет положительные объекты. Если ближе к нулю — модель надо перепроверить и починить. Полнота выявляет, какую долю положительных среди всех ответов выделила модель. Обычно они на вес золота, и важно понимать, как хорошо модель их находит.\n",
    "\n",
    "\n",
    "**Точность** (Precission) определяет, как много отрицательных ответов нашла модель, пока искала положительные. Чем больше отрицательных, тем ниже точность. Это доля  TP-ответов среди всех, у которых истинная метка 0(TP + FP).\n",
    "\n",
    "Если в задаче ключевая метрика — полнота, как сделать её максимально высокой? - Обучитm модель, которая отвечает «1» на все объекты. Полнота будет равна 1.0.\n",
    "\n",
    "Важны обе метрики. Контролировать их параллельно помогают агрегирующие метрики, одна из которых — **F1-мера** (англ. F1-score). ***Это среднее гармоническое полноты и точности***. Единица в F1 означает, что соотношение полноты и точности равно 1:1.\n",
    "\n",
    "Граница, где заканчивается отрицательный класс и начинается положительный, называется **порогом** (англ. threshold). По умолчанию он равен 0.5, но что если его поменять?  Eсли уменьшить порог,•\tТочность уменьшится, а полнота увеличится\n",
    "Среди ответов будет больше положительных (1). Наоборот, увеличивая пороговую вероятность, мы увеличиваем точность, но снижаем полноту.\n",
    " "
   ]
  },
  {
   "cell_type": "markdown",
   "metadata": {},
   "source": [
    "## Чек-лист готовности проекта"
   ]
  },
  {
   "cell_type": "markdown",
   "metadata": {},
   "source": [
    "Поставьте 'x' в выполненных пунктах. Далее нажмите Shift+Enter."
   ]
  },
  {
   "cell_type": "markdown",
   "metadata": {},
   "source": [
    "- [x]  Jupyter Notebook открыт\n",
    "- [ ]  Весь код выполняется без ошибок\n",
    "- [ ]  Ячейки с кодом расположены в порядке исполнения\n",
    "- [ ]  Выполнен шаг 1: данные подготовлены\n",
    "- [ ]  Выполнен шаг 2: задача исследована\n",
    "    - [ ]  Исследован баланс классов\n",
    "    - [ ]  Изучены модели без учёта дисбаланса\n",
    "    - [ ]  Написаны выводы по результатам исследования\n",
    "- [ ]  Выполнен шаг 3: учтён дисбаланс\n",
    "    - [ ]  Применено несколько способов борьбы с дисбалансом\n",
    "    - [ ]  Написаны выводы по результатам исследования\n",
    "- [ ]  Выполнен шаг 4: проведено тестирование\n",
    "- [ ]  Удалось достичь *F1*-меры не менее 0.59\n",
    "- [ ]  Исследована метрика *AUC-ROC*"
   ]
  },
  {
   "cell_type": "code",
   "execution_count": null,
   "metadata": {},
   "outputs": [],
   "source": []
  },
  {
   "cell_type": "code",
   "execution_count": null,
   "metadata": {},
   "outputs": [],
   "source": []
  }
 ],
 "metadata": {
  "ExecuteTimeLog": [
   {
    "duration": 166,
    "start_time": "2022-03-14T06:49:49.728Z"
   },
   {
    "duration": 949,
    "start_time": "2022-03-14T06:49:55.602Z"
   },
   {
    "duration": 2766,
    "start_time": "2022-03-14T06:49:57.451Z"
   },
   {
    "duration": 3,
    "start_time": "2022-03-14T06:51:25.084Z"
   },
   {
    "duration": 3,
    "start_time": "2022-03-14T06:51:32.549Z"
   },
   {
    "duration": 2382,
    "start_time": "2022-03-14T06:51:35.580Z"
   },
   {
    "duration": 29,
    "start_time": "2022-03-14T07:01:00.246Z"
   },
   {
    "duration": 4,
    "start_time": "2022-03-14T07:01:03.851Z"
   },
   {
    "duration": 23,
    "start_time": "2022-03-14T07:01:04.442Z"
   },
   {
    "duration": 35,
    "start_time": "2022-03-14T07:01:22.340Z"
   },
   {
    "duration": 45,
    "start_time": "2022-03-14T07:02:29.041Z"
   },
   {
    "duration": 31,
    "start_time": "2022-03-14T07:03:52.533Z"
   },
   {
    "duration": 37,
    "start_time": "2022-03-14T07:12:57.636Z"
   },
   {
    "duration": 32,
    "start_time": "2022-03-14T07:20:48.292Z"
   },
   {
    "duration": 33,
    "start_time": "2022-03-14T07:21:39.473Z"
   },
   {
    "duration": 178,
    "start_time": "2022-03-14T07:24:01.551Z"
   },
   {
    "duration": 3,
    "start_time": "2022-03-14T07:25:01.512Z"
   },
   {
    "duration": 33,
    "start_time": "2022-03-14T07:25:02.152Z"
   },
   {
    "duration": 187,
    "start_time": "2022-03-14T07:25:03.903Z"
   },
   {
    "duration": 33,
    "start_time": "2022-03-14T07:26:04.628Z"
   },
   {
    "duration": 6,
    "start_time": "2022-03-14T07:51:09.654Z"
   },
   {
    "duration": 15,
    "start_time": "2022-03-14T07:52:19.758Z"
   },
   {
    "duration": 16,
    "start_time": "2022-03-14T07:53:46.334Z"
   },
   {
    "duration": 316,
    "start_time": "2022-03-14T07:57:24.210Z"
   },
   {
    "duration": 211,
    "start_time": "2022-03-14T07:57:32.329Z"
   },
   {
    "duration": 196,
    "start_time": "2022-03-14T07:58:51.198Z"
   },
   {
    "duration": 201,
    "start_time": "2022-03-14T07:59:04.432Z"
   },
   {
    "duration": 185,
    "start_time": "2022-03-14T08:18:08.519Z"
   },
   {
    "duration": 166,
    "start_time": "2022-03-14T08:26:33.469Z"
   },
   {
    "duration": 1022,
    "start_time": "2022-03-14T08:27:14.440Z"
   },
   {
    "duration": 284,
    "start_time": "2022-03-14T08:27:15.464Z"
   },
   {
    "duration": -86,
    "start_time": "2022-03-14T08:27:15.838Z"
   },
   {
    "duration": 3363,
    "start_time": "2022-03-14T08:28:17.811Z"
   },
   {
    "duration": 38,
    "start_time": "2022-03-14T08:28:33.697Z"
   },
   {
    "duration": 216,
    "start_time": "2022-03-14T08:46:06.871Z"
   },
   {
    "duration": 40,
    "start_time": "2022-03-14T08:46:27.621Z"
   },
   {
    "duration": 47,
    "start_time": "2022-03-14T08:49:54.510Z"
   },
   {
    "duration": 43,
    "start_time": "2022-03-14T08:50:46.038Z"
   },
   {
    "duration": 1034,
    "start_time": "2022-03-14T09:40:45.726Z"
   },
   {
    "duration": 69,
    "start_time": "2022-03-14T09:40:46.762Z"
   },
   {
    "duration": 215,
    "start_time": "2022-03-14T09:40:46.833Z"
   },
   {
    "duration": 210,
    "start_time": "2022-03-14T11:46:54.648Z"
   },
   {
    "duration": 60,
    "start_time": "2022-03-14T11:47:02.523Z"
   },
   {
    "duration": 77,
    "start_time": "2022-03-14T11:48:33.688Z"
   },
   {
    "duration": 61,
    "start_time": "2022-03-14T11:49:40.945Z"
   },
   {
    "duration": 1053,
    "start_time": "2022-03-14T11:50:06.117Z"
   },
   {
    "duration": 274,
    "start_time": "2022-03-14T11:50:07.172Z"
   },
   {
    "duration": 216,
    "start_time": "2022-03-14T11:50:07.450Z"
   },
   {
    "duration": 676,
    "start_time": "2022-03-14T11:50:33.549Z"
   },
   {
    "duration": 63,
    "start_time": "2022-03-14T11:52:34.405Z"
   },
   {
    "duration": 58,
    "start_time": "2022-03-14T11:52:49.465Z"
   },
   {
    "duration": 224,
    "start_time": "2022-03-14T12:09:19.346Z"
   },
   {
    "duration": 143,
    "start_time": "2022-03-14T12:09:26.186Z"
   },
   {
    "duration": 49,
    "start_time": "2022-03-14T12:09:37.358Z"
   },
   {
    "duration": 3,
    "start_time": "2022-03-14T12:12:25.648Z"
   },
   {
    "duration": 63,
    "start_time": "2022-03-14T12:12:26.396Z"
   },
   {
    "duration": 83846,
    "start_time": "2022-03-14T12:12:27.415Z"
   },
   {
    "duration": 996,
    "start_time": "2022-03-16T05:46:16.292Z"
   },
   {
    "duration": 78,
    "start_time": "2022-03-16T05:46:17.290Z"
   },
   {
    "duration": 223,
    "start_time": "2022-03-16T05:46:17.370Z"
   },
   {
    "duration": 99,
    "start_time": "2022-03-16T05:49:29.179Z"
   },
   {
    "duration": 97,
    "start_time": "2022-03-16T05:50:15.982Z"
   },
   {
    "duration": 99,
    "start_time": "2022-03-16T05:51:08.142Z"
   },
   {
    "duration": 335,
    "start_time": "2022-03-16T06:11:10.650Z"
   },
   {
    "duration": 50,
    "start_time": "2022-03-16T06:20:29.767Z"
   },
   {
    "duration": 375,
    "start_time": "2022-03-16T06:22:17.874Z"
   },
   {
    "duration": 347,
    "start_time": "2022-03-16T06:22:39.987Z"
   },
   {
    "duration": 232,
    "start_time": "2022-03-16T06:23:29.032Z"
   },
   {
    "duration": 98,
    "start_time": "2022-03-16T06:23:38.503Z"
   },
   {
    "duration": 99,
    "start_time": "2022-03-16T06:23:54.924Z"
   },
   {
    "duration": 101,
    "start_time": "2022-03-16T06:31:16.944Z"
   },
   {
    "duration": 175,
    "start_time": "2022-03-16T06:32:36.024Z"
   },
   {
    "duration": 92,
    "start_time": "2022-03-16T06:33:25.374Z"
   },
   {
    "duration": 98,
    "start_time": "2022-03-16T06:37:24.532Z"
   },
   {
    "duration": 58,
    "start_time": "2022-03-16T06:41:34.409Z"
   },
   {
    "duration": 98,
    "start_time": "2022-03-16T06:41:48.086Z"
   },
   {
    "duration": 99,
    "start_time": "2022-03-16T06:45:03.426Z"
   },
   {
    "duration": 96,
    "start_time": "2022-03-16T06:45:56.313Z"
   },
   {
    "duration": 95,
    "start_time": "2022-03-16T06:52:58.707Z"
   },
   {
    "duration": 247,
    "start_time": "2022-03-16T06:53:15.432Z"
   },
   {
    "duration": 104,
    "start_time": "2022-03-16T06:53:18.609Z"
   },
   {
    "duration": 103,
    "start_time": "2022-03-16T06:54:03.104Z"
   },
   {
    "duration": 101,
    "start_time": "2022-03-16T06:54:44.922Z"
   },
   {
    "duration": 106,
    "start_time": "2022-03-16T06:55:30.037Z"
   },
   {
    "duration": 93,
    "start_time": "2022-03-16T06:56:46.862Z"
   },
   {
    "duration": 215,
    "start_time": "2022-03-16T06:57:34.324Z"
   },
   {
    "duration": 114,
    "start_time": "2022-03-16T06:58:01.829Z"
   },
   {
    "duration": 103,
    "start_time": "2022-03-16T07:00:32.684Z"
   },
   {
    "duration": 141,
    "start_time": "2022-03-16T07:01:30.646Z"
   },
   {
    "duration": 104,
    "start_time": "2022-03-16T07:03:47.854Z"
   },
   {
    "duration": 101,
    "start_time": "2022-03-16T07:05:12.341Z"
   },
   {
    "duration": 72,
    "start_time": "2022-03-16T07:06:24.403Z"
   },
   {
    "duration": 37,
    "start_time": "2022-03-16T07:07:02.194Z"
   },
   {
    "duration": 195,
    "start_time": "2022-03-16T07:31:49.283Z"
   },
   {
    "duration": 59,
    "start_time": "2022-03-16T07:33:28.625Z"
   },
   {
    "duration": 81,
    "start_time": "2022-03-16T07:37:34.540Z"
   },
   {
    "duration": 54,
    "start_time": "2022-03-16T07:40:03.862Z"
   },
   {
    "duration": 25,
    "start_time": "2022-03-16T07:40:20.117Z"
   },
   {
    "duration": 54,
    "start_time": "2022-03-16T07:46:04.868Z"
   },
   {
    "duration": 51,
    "start_time": "2022-03-16T07:47:38.436Z"
   },
   {
    "duration": 40,
    "start_time": "2022-03-16T07:49:08.859Z"
   },
   {
    "duration": 39,
    "start_time": "2022-03-16T07:50:06.794Z"
   },
   {
    "duration": 170,
    "start_time": "2022-03-16T07:50:36.121Z"
   },
   {
    "duration": 163,
    "start_time": "2022-03-16T07:50:52.952Z"
   },
   {
    "duration": 39,
    "start_time": "2022-03-16T07:51:04.902Z"
   },
   {
    "duration": 41,
    "start_time": "2022-03-16T07:51:24.471Z"
   },
   {
    "duration": 167,
    "start_time": "2022-03-16T07:59:34.281Z"
   },
   {
    "duration": 40,
    "start_time": "2022-03-16T07:59:50.872Z"
   },
   {
    "duration": 39,
    "start_time": "2022-03-16T08:00:19.885Z"
   },
   {
    "duration": 26,
    "start_time": "2022-03-16T08:02:41.664Z"
   },
   {
    "duration": 74,
    "start_time": "2022-03-16T09:34:36.765Z"
   },
   {
    "duration": 40,
    "start_time": "2022-03-16T09:35:15.541Z"
   },
   {
    "duration": 5,
    "start_time": "2022-03-16T09:48:35.370Z"
   },
   {
    "duration": 271,
    "start_time": "2022-03-16T09:48:47.267Z"
   },
   {
    "duration": 143,
    "start_time": "2022-03-16T09:52:54.967Z"
   },
   {
    "duration": 1164,
    "start_time": "2022-03-16T09:53:36.462Z"
   },
   {
    "duration": 91,
    "start_time": "2022-03-16T09:53:37.628Z"
   },
   {
    "duration": 47,
    "start_time": "2022-03-16T09:53:37.722Z"
   },
   {
    "duration": 23,
    "start_time": "2022-03-16T09:53:37.772Z"
   },
   {
    "duration": 240,
    "start_time": "2022-03-16T09:53:37.797Z"
   },
   {
    "duration": 60499,
    "start_time": "2022-03-16T09:53:38.039Z"
   },
   {
    "duration": 259,
    "start_time": "2022-03-16T09:54:38.540Z"
   },
   {
    "duration": 266,
    "start_time": "2022-03-16T09:57:21.008Z"
   },
   {
    "duration": 1183,
    "start_time": "2022-03-16T09:58:56.743Z"
   },
   {
    "duration": 88,
    "start_time": "2022-03-16T09:58:57.928Z"
   },
   {
    "duration": 43,
    "start_time": "2022-03-16T09:58:58.018Z"
   },
   {
    "duration": 21,
    "start_time": "2022-03-16T09:58:58.063Z"
   },
   {
    "duration": 218,
    "start_time": "2022-03-16T09:58:58.085Z"
   },
   {
    "duration": 223,
    "start_time": "2022-03-16T09:58:58.305Z"
   },
   {
    "duration": -442,
    "start_time": "2022-03-16T09:58:58.971Z"
   },
   {
    "duration": 1147,
    "start_time": "2022-03-16T10:06:35.989Z"
   },
   {
    "duration": 80,
    "start_time": "2022-03-16T10:06:37.138Z"
   },
   {
    "duration": 46,
    "start_time": "2022-03-16T10:06:37.220Z"
   },
   {
    "duration": 21,
    "start_time": "2022-03-16T10:06:37.268Z"
   },
   {
    "duration": 424,
    "start_time": "2022-03-16T10:06:37.290Z"
   },
   {
    "duration": -469,
    "start_time": "2022-03-16T10:06:38.184Z"
   },
   {
    "duration": -471,
    "start_time": "2022-03-16T10:06:38.187Z"
   },
   {
    "duration": 234,
    "start_time": "2022-03-16T11:35:34.952Z"
   },
   {
    "duration": 242,
    "start_time": "2022-03-16T11:45:11.266Z"
   },
   {
    "duration": 212,
    "start_time": "2022-03-16T11:45:23.660Z"
   },
   {
    "duration": 242,
    "start_time": "2022-03-16T11:45:36.226Z"
   },
   {
    "duration": 57,
    "start_time": "2022-03-16T11:53:07.174Z"
   },
   {
    "duration": 252,
    "start_time": "2022-03-16T11:53:21.198Z"
   },
   {
    "duration": 199,
    "start_time": "2022-03-16T11:55:43.397Z"
   },
   {
    "duration": 321,
    "start_time": "2022-03-16T11:58:22.021Z"
   },
   {
    "duration": 1186,
    "start_time": "2022-03-16T11:58:36.756Z"
   },
   {
    "duration": 110,
    "start_time": "2022-03-16T11:58:37.944Z"
   },
   {
    "duration": 45,
    "start_time": "2022-03-16T11:58:38.057Z"
   },
   {
    "duration": 35,
    "start_time": "2022-03-16T11:58:38.104Z"
   },
   {
    "duration": 436,
    "start_time": "2022-03-16T11:58:38.140Z"
   },
   {
    "duration": -642,
    "start_time": "2022-03-16T11:58:39.220Z"
   },
   {
    "duration": -643,
    "start_time": "2022-03-16T11:58:39.222Z"
   },
   {
    "duration": 57,
    "start_time": "2022-03-16T12:02:17.223Z"
   },
   {
    "duration": 211,
    "start_time": "2022-03-16T12:02:39.968Z"
   },
   {
    "duration": 150,
    "start_time": "2022-03-16T12:02:50.367Z"
   },
   {
    "duration": 189,
    "start_time": "2022-03-16T12:03:23.496Z"
   },
   {
    "duration": 189,
    "start_time": "2022-03-16T12:03:42.919Z"
   },
   {
    "duration": 287,
    "start_time": "2022-03-16T12:04:13.349Z"
   },
   {
    "duration": 508,
    "start_time": "2022-03-16T12:04:20.241Z"
   },
   {
    "duration": 189,
    "start_time": "2022-03-16T12:04:40.354Z"
   },
   {
    "duration": 236,
    "start_time": "2022-03-16T12:06:01.544Z"
   },
   {
    "duration": 342,
    "start_time": "2022-03-16T12:08:24.929Z"
   },
   {
    "duration": 405,
    "start_time": "2022-03-16T12:08:35.452Z"
   },
   {
    "duration": 1228,
    "start_time": "2022-03-16T12:10:31.624Z"
   },
   {
    "duration": 84,
    "start_time": "2022-03-16T12:10:32.854Z"
   },
   {
    "duration": 40,
    "start_time": "2022-03-16T12:10:32.940Z"
   },
   {
    "duration": 22,
    "start_time": "2022-03-16T12:10:32.982Z"
   },
   {
    "duration": 237,
    "start_time": "2022-03-16T12:10:33.006Z"
   },
   {
    "duration": 230,
    "start_time": "2022-03-16T12:10:33.245Z"
   },
   {
    "duration": 462,
    "start_time": "2022-03-16T12:10:33.477Z"
   },
   {
    "duration": 245,
    "start_time": "2022-03-16T12:25:29.232Z"
   },
   {
    "duration": 1061,
    "start_time": "2022-03-16T12:26:18.625Z"
   },
   {
    "duration": 42,
    "start_time": "2022-03-16T12:27:56.696Z"
   },
   {
    "duration": 43,
    "start_time": "2022-03-16T12:28:57.538Z"
   },
   {
    "duration": 30,
    "start_time": "2022-03-16T12:29:26.667Z"
   },
   {
    "duration": 46,
    "start_time": "2022-03-16T12:29:43.711Z"
   },
   {
    "duration": 1278,
    "start_time": "2022-03-16T12:29:58.927Z"
   },
   {
    "duration": 51,
    "start_time": "2022-03-16T12:30:00.207Z"
   },
   {
    "duration": 44,
    "start_time": "2022-03-16T12:30:00.260Z"
   },
   {
    "duration": 49,
    "start_time": "2022-03-16T12:30:00.306Z"
   },
   {
    "duration": 240,
    "start_time": "2022-03-16T12:30:00.358Z"
   },
   {
    "duration": 239,
    "start_time": "2022-03-16T12:30:00.600Z"
   },
   {
    "duration": 1362,
    "start_time": "2022-03-16T12:30:00.841Z"
   },
   {
    "duration": 26,
    "start_time": "2022-03-16T12:39:44.169Z"
   },
   {
    "duration": 45,
    "start_time": "2022-03-16T12:40:55.837Z"
   },
   {
    "duration": 60,
    "start_time": "2022-03-16T12:41:22.995Z"
   },
   {
    "duration": 47,
    "start_time": "2022-03-16T12:53:05.723Z"
   },
   {
    "duration": 46,
    "start_time": "2022-03-16T12:53:17.815Z"
   },
   {
    "duration": 194,
    "start_time": "2022-03-16T12:57:09.326Z"
   },
   {
    "duration": 34,
    "start_time": "2022-03-16T13:01:44.152Z"
   },
   {
    "duration": 1184,
    "start_time": "2022-03-16T13:02:43.578Z"
   },
   {
    "duration": 54,
    "start_time": "2022-03-16T13:02:44.764Z"
   },
   {
    "duration": 81,
    "start_time": "2022-03-16T13:02:44.822Z"
   },
   {
    "duration": 85,
    "start_time": "2022-03-16T13:02:44.906Z"
   },
   {
    "duration": 262,
    "start_time": "2022-03-16T13:02:44.994Z"
   },
   {
    "duration": 207,
    "start_time": "2022-03-16T13:02:45.258Z"
   },
   {
    "duration": 1225,
    "start_time": "2022-03-16T13:02:45.467Z"
   },
   {
    "duration": 210,
    "start_time": "2022-03-16T13:15:59.182Z"
   },
   {
    "duration": 196,
    "start_time": "2022-03-16T13:16:05.585Z"
   },
   {
    "duration": 825,
    "start_time": "2022-03-16T13:19:49.671Z"
   },
   {
    "duration": 1191,
    "start_time": "2022-03-16T13:22:16.901Z"
   },
   {
    "duration": 51,
    "start_time": "2022-03-16T13:22:18.095Z"
   },
   {
    "duration": 43,
    "start_time": "2022-03-16T13:22:18.151Z"
   },
   {
    "duration": 84,
    "start_time": "2022-03-16T13:22:18.196Z"
   },
   {
    "duration": 225,
    "start_time": "2022-03-16T13:22:18.282Z"
   },
   {
    "duration": 220,
    "start_time": "2022-03-16T13:22:18.509Z"
   },
   {
    "duration": 890,
    "start_time": "2022-03-16T13:22:18.732Z"
   },
   {
    "duration": 187,
    "start_time": "2022-03-16T13:22:38.590Z"
   },
   {
    "duration": 209,
    "start_time": "2022-03-16T13:22:44.869Z"
   },
   {
    "duration": 872,
    "start_time": "2022-03-16T13:24:05.481Z"
   },
   {
    "duration": 885,
    "start_time": "2022-03-16T13:26:35.161Z"
   },
   {
    "duration": 842,
    "start_time": "2022-03-16T13:28:59.960Z"
   },
   {
    "duration": 1154,
    "start_time": "2022-03-16T13:30:53.277Z"
   },
   {
    "duration": 51,
    "start_time": "2022-03-16T13:30:54.433Z"
   },
   {
    "duration": 39,
    "start_time": "2022-03-16T13:30:54.486Z"
   },
   {
    "duration": 52,
    "start_time": "2022-03-16T13:30:54.527Z"
   },
   {
    "duration": 217,
    "start_time": "2022-03-16T13:30:54.581Z"
   },
   {
    "duration": 216,
    "start_time": "2022-03-16T13:30:54.800Z"
   },
   {
    "duration": 899,
    "start_time": "2022-03-16T13:30:55.018Z"
   },
   {
    "duration": 361,
    "start_time": "2022-03-16T13:34:29.601Z"
   },
   {
    "duration": 824,
    "start_time": "2022-03-16T13:34:37.138Z"
   },
   {
    "duration": 845,
    "start_time": "2022-03-16T13:43:49.275Z"
   },
   {
    "duration": 1143,
    "start_time": "2022-03-16T13:44:09.289Z"
   },
   {
    "duration": 44,
    "start_time": "2022-03-16T13:44:10.433Z"
   },
   {
    "duration": 39,
    "start_time": "2022-03-16T13:44:10.479Z"
   },
   {
    "duration": 59,
    "start_time": "2022-03-16T13:44:10.520Z"
   },
   {
    "duration": 209,
    "start_time": "2022-03-16T13:44:10.580Z"
   },
   {
    "duration": 201,
    "start_time": "2022-03-16T13:44:10.790Z"
   },
   {
    "duration": 884,
    "start_time": "2022-03-16T13:44:10.992Z"
   },
   {
    "duration": 814,
    "start_time": "2022-03-16T13:46:04.537Z"
   },
   {
    "duration": 797,
    "start_time": "2022-03-16T13:47:05.824Z"
   },
   {
    "duration": 668,
    "start_time": "2022-03-16T14:18:14.707Z"
   },
   {
    "duration": 625,
    "start_time": "2022-03-16T14:18:45.831Z"
   },
   {
    "duration": 42,
    "start_time": "2022-03-16T14:20:03.398Z"
   },
   {
    "duration": 1224,
    "start_time": "2022-03-16T14:20:08.926Z"
   },
   {
    "duration": 46,
    "start_time": "2022-03-16T14:20:10.152Z"
   },
   {
    "duration": 47,
    "start_time": "2022-03-16T14:20:10.200Z"
   },
   {
    "duration": 47,
    "start_time": "2022-03-16T14:20:10.248Z"
   },
   {
    "duration": 240,
    "start_time": "2022-03-16T14:20:10.297Z"
   },
   {
    "duration": 210,
    "start_time": "2022-03-16T14:20:10.539Z"
   },
   {
    "duration": 684,
    "start_time": "2022-03-16T14:20:10.750Z"
   },
   {
    "duration": 62,
    "start_time": "2022-03-16T14:49:29.837Z"
   },
   {
    "duration": 40,
    "start_time": "2022-03-16T14:50:05.026Z"
   },
   {
    "duration": 231,
    "start_time": "2022-03-16T15:41:45.310Z"
   },
   {
    "duration": 152,
    "start_time": "2022-03-16T15:42:32.324Z"
   },
   {
    "duration": 165,
    "start_time": "2022-03-16T15:43:31.947Z"
   },
   {
    "duration": 16483,
    "start_time": "2022-03-16T15:44:47.021Z"
   },
   {
    "duration": 16621,
    "start_time": "2022-03-16T15:45:51.361Z"
   },
   {
    "duration": 70,
    "start_time": "2022-03-16T16:00:06.504Z"
   },
   {
    "duration": 81,
    "start_time": "2022-03-16T16:01:03.504Z"
   },
   {
    "duration": 120,
    "start_time": "2022-03-16T16:03:01.301Z"
   },
   {
    "duration": 42,
    "start_time": "2022-03-16T16:10:06.526Z"
   },
   {
    "duration": 133,
    "start_time": "2022-03-16T16:10:23.833Z"
   },
   {
    "duration": 396,
    "start_time": "2022-03-16T16:10:38.186Z"
   },
   {
    "duration": 408,
    "start_time": "2022-03-16T16:11:57.815Z"
   },
   {
    "duration": 370,
    "start_time": "2022-03-16T16:12:20.474Z"
   },
   {
    "duration": 425,
    "start_time": "2022-03-16T16:13:03.332Z"
   },
   {
    "duration": 151,
    "start_time": "2022-03-16T16:32:11.311Z"
   },
   {
    "duration": 485,
    "start_time": "2022-03-16T16:32:39.914Z"
   },
   {
    "duration": 542,
    "start_time": "2022-03-16T16:33:11.621Z"
   },
   {
    "duration": 342,
    "start_time": "2022-03-16T16:34:11.063Z"
   },
   {
    "duration": 447,
    "start_time": "2022-03-16T16:34:43.992Z"
   },
   {
    "duration": 321,
    "start_time": "2022-03-16T16:36:37.710Z"
   },
   {
    "duration": 267,
    "start_time": "2022-03-16T16:37:01.714Z"
   },
   {
    "duration": 272,
    "start_time": "2022-03-16T16:37:50.928Z"
   },
   {
    "duration": 250,
    "start_time": "2022-03-16T16:38:12.710Z"
   },
   {
    "duration": 1200,
    "start_time": "2022-03-16T16:54:44.144Z"
   },
   {
    "duration": 45,
    "start_time": "2022-03-16T16:54:45.346Z"
   },
   {
    "duration": 52,
    "start_time": "2022-03-16T16:54:45.393Z"
   },
   {
    "duration": 50,
    "start_time": "2022-03-16T16:54:45.447Z"
   },
   {
    "duration": 120,
    "start_time": "2022-03-16T16:54:45.499Z"
   },
   {
    "duration": 216,
    "start_time": "2022-03-16T16:54:45.621Z"
   },
   {
    "duration": 669,
    "start_time": "2022-03-16T16:54:45.839Z"
   },
   {
    "duration": 652,
    "start_time": "2022-03-16T17:21:46.022Z"
   },
   {
    "duration": 649,
    "start_time": "2022-03-16T17:22:17.990Z"
   },
   {
    "duration": 1095,
    "start_time": "2022-03-17T03:17:31.664Z"
   },
   {
    "duration": 42,
    "start_time": "2022-03-17T03:17:32.761Z"
   },
   {
    "duration": 51,
    "start_time": "2022-03-17T03:17:32.808Z"
   },
   {
    "duration": 71,
    "start_time": "2022-03-17T03:17:32.861Z"
   },
   {
    "duration": 75,
    "start_time": "2022-03-17T03:17:32.934Z"
   },
   {
    "duration": 205,
    "start_time": "2022-03-17T03:17:33.011Z"
   },
   {
    "duration": 651,
    "start_time": "2022-03-17T03:17:33.219Z"
   },
   {
    "duration": 585,
    "start_time": "2022-03-17T03:21:01.665Z"
   },
   {
    "duration": 32,
    "start_time": "2022-03-17T03:21:25.065Z"
   },
   {
    "duration": 580,
    "start_time": "2022-03-17T03:23:51.948Z"
   },
   {
    "duration": 582,
    "start_time": "2022-03-17T03:25:13.280Z"
   },
   {
    "duration": 44,
    "start_time": "2022-03-17T03:39:11.063Z"
   },
   {
    "duration": 21,
    "start_time": "2022-03-17T03:40:52.602Z"
   },
   {
    "duration": 20,
    "start_time": "2022-03-17T03:41:29.818Z"
   },
   {
    "duration": 1103,
    "start_time": "2022-03-17T03:41:36.902Z"
   },
   {
    "duration": 48,
    "start_time": "2022-03-17T03:41:38.007Z"
   },
   {
    "duration": 39,
    "start_time": "2022-03-17T03:41:38.058Z"
   },
   {
    "duration": 62,
    "start_time": "2022-03-17T03:41:38.099Z"
   },
   {
    "duration": 22,
    "start_time": "2022-03-17T03:41:38.162Z"
   },
   {
    "duration": 103,
    "start_time": "2022-03-17T03:41:38.185Z"
   },
   {
    "duration": 196,
    "start_time": "2022-03-17T03:41:38.290Z"
   },
   {
    "duration": 627,
    "start_time": "2022-03-17T03:41:38.488Z"
   },
   {
    "duration": 41,
    "start_time": "2022-03-17T03:41:39.117Z"
   },
   {
    "duration": 1126,
    "start_time": "2022-03-17T03:43:23.069Z"
   },
   {
    "duration": 46,
    "start_time": "2022-03-17T03:43:24.197Z"
   },
   {
    "duration": 41,
    "start_time": "2022-03-17T03:43:24.246Z"
   },
   {
    "duration": 69,
    "start_time": "2022-03-17T03:43:24.289Z"
   },
   {
    "duration": 20,
    "start_time": "2022-03-17T03:43:24.360Z"
   },
   {
    "duration": 100,
    "start_time": "2022-03-17T03:43:24.382Z"
   },
   {
    "duration": 193,
    "start_time": "2022-03-17T03:43:24.484Z"
   },
   {
    "duration": 636,
    "start_time": "2022-03-17T03:43:24.679Z"
   },
   {
    "duration": 41,
    "start_time": "2022-03-17T03:43:25.317Z"
   },
   {
    "duration": 41,
    "start_time": "2022-03-17T03:44:32.156Z"
   },
   {
    "duration": 36,
    "start_time": "2022-03-17T03:44:40.122Z"
   },
   {
    "duration": 43,
    "start_time": "2022-03-17T03:45:03.423Z"
   },
   {
    "duration": 35,
    "start_time": "2022-03-17T03:45:11.266Z"
   },
   {
    "duration": 249,
    "start_time": "2022-03-17T03:46:14.884Z"
   },
   {
    "duration": 1104,
    "start_time": "2022-03-17T03:46:30.208Z"
   },
   {
    "duration": 43,
    "start_time": "2022-03-17T03:46:31.314Z"
   },
   {
    "duration": 38,
    "start_time": "2022-03-17T03:46:31.359Z"
   },
   {
    "duration": 64,
    "start_time": "2022-03-17T03:46:31.399Z"
   },
   {
    "duration": 90,
    "start_time": "2022-03-17T03:46:31.465Z"
   },
   {
    "duration": 4,
    "start_time": "2022-03-17T03:46:31.557Z"
   },
   {
    "duration": 29,
    "start_time": "2022-03-17T03:46:31.562Z"
   },
   {
    "duration": 82,
    "start_time": "2022-03-17T03:46:31.593Z"
   },
   {
    "duration": 26,
    "start_time": "2022-03-17T03:46:31.676Z"
   }
  ],
  "kernelspec": {
   "display_name": "Python 3 (ipykernel)",
   "language": "python",
   "name": "python3"
  },
  "language_info": {
   "codemirror_mode": {
    "name": "ipython",
    "version": 3
   },
   "file_extension": ".py",
   "mimetype": "text/x-python",
   "name": "python",
   "nbconvert_exporter": "python",
   "pygments_lexer": "ipython3",
   "version": "3.10.3"
  },
  "toc": {
   "base_numbering": 1,
   "nav_menu": {},
   "number_sections": true,
   "sideBar": true,
   "skip_h1_title": true,
   "title_cell": "Содержание",
   "title_sidebar": "Contents",
   "toc_cell": true,
   "toc_position": {
    "height": "calc(100% - 180px)",
    "left": "10px",
    "top": "150px",
    "width": "310.075px"
   },
   "toc_section_display": true,
   "toc_window_display": true
  }
 },
 "nbformat": 4,
 "nbformat_minor": 4
}
