{
 "cells": [
  {
   "cell_type": "markdown",
   "metadata": {},
   "source": [
    "<font color='steelblue' size=5><b>Комментарий ревьюера</b></font>\n",
    "\n",
    "<font color='steelblue'>Привет, Наталья! Меня зовут Ольга Васильева, я буду проверять этот проект. Спасибо за проделанную работу! Предлагаю общаться на «ты», если более комфортно на «вы», пожалуйста напиши об этом.</font>\n",
    "\n",
    "<font color='steelblue'>Я буду использовать различные цвета и знаки, чтобы было удобнее воспринимать мои комментарии:</font>\n",
    "\n",
    "\n",
    "---\n",
    "\n",
    "\n",
    "<font color='steelblue'>синий текст - просто текст комментария</font>\n",
    "\n",
    "<font color='green'>✔️ и зеленый текст - все отлично</font>\n",
    "\n",
    "<font color='darkorange'>⚠️ и оранжевый текст - сделано все правильно, однако есть рекомендации, на что стоит обратить внимание</font>\n",
    "\n",
    "<font color='crimson'>❌ и красный текст - есть недочеты</font>\n",
    "\n",
    "---\n",
    "\n",
    "<font color='steelblue'>Пожалуйста, не удаляй мои комментарии в случае возврата работы, так будет проще разобраться, какие были недочеты, а также сразу увидеть исправленное. \n",
    "\n",
    "Ответы на мои комментарии лучше тоже помечать.\n",
    "Например, так: <b>Комментарий студента</b>\n",
    "\n",
    "<b>Давай смотреть, что получилось!</b></font>"
   ]
  },
  {
   "cell_type": "markdown",
   "metadata": {},
   "source": [
    "\n",
    "<div class=\"alert alert-info\" style=\"background:#ffdbf1;color:#2e00ab\">\n",
    "<h5> Комментарий студента </h5>\n",
    "    \n",
    "Ольга, привет!\n",
    "\n",
    "Ответы на твои комментарии расположены непосредственной под твоими. Их легко найти в содержании работы, в заголовках 5-го порядка.\n",
    "Буду благодарна за рекомендации по улучшению кода.\n",
    "\n",
    "\n",
    "</div>"
   ]
  },
  {
   "cell_type": "markdown",
   "metadata": {},
   "source": [
    "<font color='steelblue'>Комментарий ревьюера:<br> \n",
    "Отлично, спасибо, что делаешь комментарии заметными.<br>\n",
    "</font>\n",
    "---\n",
    "<font color='steelblue'>Комментарий ревьюера <b>v2</b>: так я буду помечать комментарии второй проверки.<br>\n",
    "</font>"
   ]
  },
  {
   "cell_type": "markdown",
   "metadata": {},
   "source": [
    "<font color='steelblue'><b>Комментарий ревьюера v2: </b></font> ✔️ <br>\n",
    "<font color='green'>Как ты и просила, рекоммендации по улучшкнию кода :) Важно, чтоб код был не только рабочим, но и красивым, сущесутвует стандарт PEP-8, вот ссылка:<br>\n",
    "https://pythonworld.ru/osnovy/pep-8-rukovodstvo-po-napisaniyu-koda-na-python.html </font>"
   ]
  },
  {
   "cell_type": "markdown",
   "metadata": {
    "toc": true
   },
   "source": [
    "<h1>Содержание<span class=\"tocSkip\"></span></h1>\n",
    "<div class=\"toc\"><ul class=\"toc-item\"><li><ul class=\"toc-item\"><li><ul class=\"toc-item\"><li><ul class=\"toc-item\"><li><span><a href=\"#-Комментарий-студента-\" data-toc-modified-id=\"-Комментарий-студента--0.0.0.1\"><span class=\"toc-item-num\">0.0.0.1&nbsp;&nbsp;</span> Комментарий студента </a></span></li></ul></li></ul></li></ul></li><li><span><a href=\"#Подготовка-данных\" data-toc-modified-id=\"Подготовка-данных-1\"><span class=\"toc-item-num\">1&nbsp;&nbsp;</span>Подготовка данных</a></span><ul class=\"toc-item\"><li><span><a href=\"#Описание-данных\" data-toc-modified-id=\"Описание-данных-1.1\"><span class=\"toc-item-num\">1.1&nbsp;&nbsp;</span>Описание данных</a></span><ul class=\"toc-item\"><li><span><a href=\"#Признаки\" data-toc-modified-id=\"Признаки-1.1.1\"><span class=\"toc-item-num\">1.1.1&nbsp;&nbsp;</span>Признаки</a></span><ul class=\"toc-item\"><li><span><a href=\"#-Комментарий-студента-\" data-toc-modified-id=\"-Комментарий-студента--1.1.1.1\"><span class=\"toc-item-num\">1.1.1.1&nbsp;&nbsp;</span> Комментарий студента </a></span></li></ul></li><li><span><a href=\"#Целевой-признак\" data-toc-modified-id=\"Целевой-признак-1.1.2\"><span class=\"toc-item-num\">1.1.2&nbsp;&nbsp;</span>Целевой признак</a></span><ul class=\"toc-item\"><li><span><a href=\"#-Комментарий-студента-\" data-toc-modified-id=\"-Комментарий-студента--1.1.2.1\"><span class=\"toc-item-num\">1.1.2.1&nbsp;&nbsp;</span> Комментарий студента </a></span></li><li><span><a href=\"#-Комментарий-студента-\" data-toc-modified-id=\"-Комментарий-студента--1.1.2.2\"><span class=\"toc-item-num\">1.1.2.2&nbsp;&nbsp;</span> Комментарий студента </a></span></li></ul></li></ul></li></ul></li><li><span><a href=\"#Исследование-задачи\" data-toc-modified-id=\"Исследование-задачи-2\"><span class=\"toc-item-num\">2&nbsp;&nbsp;</span>Исследование задачи</a></span><ul class=\"toc-item\"><li><ul class=\"toc-item\"><li><span><a href=\"#LogisticRegression\" data-toc-modified-id=\"LogisticRegression-2.0.1\"><span class=\"toc-item-num\">2.0.1&nbsp;&nbsp;</span>LogisticRegression</a></span></li><li><span><a href=\"#DecisionTreeClassifier\" data-toc-modified-id=\"DecisionTreeClassifier-2.0.2\"><span class=\"toc-item-num\">2.0.2&nbsp;&nbsp;</span>DecisionTreeClassifier</a></span></li><li><span><a href=\"#RandomForestClassifier\" data-toc-modified-id=\"RandomForestClassifier-2.0.3\"><span class=\"toc-item-num\">2.0.3&nbsp;&nbsp;</span>RandomForestClassifier</a></span></li></ul></li></ul></li><li><span><a href=\"#Борьба-с-дисбалансом\" data-toc-modified-id=\"Борьба-с-дисбалансом-3\"><span class=\"toc-item-num\">3&nbsp;&nbsp;</span>Борьба с дисбалансом</a></span><ul class=\"toc-item\"><li><span><a href=\"#Балансировка-классов\" data-toc-modified-id=\"Балансировка-классов-3.1\"><span class=\"toc-item-num\">3.1&nbsp;&nbsp;</span>Балансировка классов</a></span><ul class=\"toc-item\"><li><span><a href=\"#LogisticRegression\" data-toc-modified-id=\"LogisticRegression-3.1.1\"><span class=\"toc-item-num\">3.1.1&nbsp;&nbsp;</span>LogisticRegression</a></span></li><li><span><a href=\"#DecisionTreeClassifier\" data-toc-modified-id=\"DecisionTreeClassifier-3.1.2\"><span class=\"toc-item-num\">3.1.2&nbsp;&nbsp;</span>DecisionTreeClassifier</a></span></li><li><span><a href=\"#RandomForestClassifier\" data-toc-modified-id=\"RandomForestClassifier-3.1.3\"><span class=\"toc-item-num\">3.1.3&nbsp;&nbsp;</span>RandomForestClassifier</a></span></li></ul></li><li><span><a href=\"#Увеличение-выборки\" data-toc-modified-id=\"Увеличение-выборки-3.2\"><span class=\"toc-item-num\">3.2&nbsp;&nbsp;</span>Увеличение выборки</a></span><ul class=\"toc-item\"><li><span><a href=\"#LogisticRegression\" data-toc-modified-id=\"LogisticRegression-3.2.1\"><span class=\"toc-item-num\">3.2.1&nbsp;&nbsp;</span>LogisticRegression</a></span></li><li><span><a href=\"#DecisionTreeClassifier\" data-toc-modified-id=\"DecisionTreeClassifier-3.2.2\"><span class=\"toc-item-num\">3.2.2&nbsp;&nbsp;</span>DecisionTreeClassifier</a></span></li><li><span><a href=\"#RandomForestClassifier\" data-toc-modified-id=\"RandomForestClassifier-3.2.3\"><span class=\"toc-item-num\">3.2.3&nbsp;&nbsp;</span>RandomForestClassifier</a></span></li></ul></li></ul></li><li><span><a href=\"#Тестирование-модели\" data-toc-modified-id=\"Тестирование-модели-4\"><span class=\"toc-item-num\">4&nbsp;&nbsp;</span>Тестирование модели</a></span><ul class=\"toc-item\"><li><ul class=\"toc-item\"><li><ul class=\"toc-item\"><li><span><a href=\"#-Комментарий-студента-\" data-toc-modified-id=\"-Комментарий-студента--4.0.0.1\"><span class=\"toc-item-num\">4.0.0.1&nbsp;&nbsp;</span> Комментарий студента </a></span></li></ul></li></ul></li></ul></li><li><span><a href=\"#Чек-лист-готовности-проекта\" data-toc-modified-id=\"Чек-лист-готовности-проекта-5\"><span class=\"toc-item-num\">5&nbsp;&nbsp;</span>Чек-лист готовности проекта</a></span><ul class=\"toc-item\"><li><ul class=\"toc-item\"><li><ul class=\"toc-item\"><li><span><a href=\"#-Комментарий-студента-\" data-toc-modified-id=\"-Комментарий-студента--5.0.0.1\"><span class=\"toc-item-num\">5.0.0.1&nbsp;&nbsp;</span> Комментарий студента </a></span></li><li><span><a href=\"#-Комментарий-студента-\" data-toc-modified-id=\"-Комментарий-студента--5.0.0.2\"><span class=\"toc-item-num\">5.0.0.2&nbsp;&nbsp;</span> Комментарий студента </a></span></li></ul></li></ul></li></ul></li></ul></div>"
   ]
  },
  {
   "cell_type": "markdown",
   "metadata": {},
   "source": [
    "# Отток клиентов"
   ]
  },
  {
   "cell_type": "markdown",
   "metadata": {},
   "source": [
    "Из «Бета-Банка» стали уходить клиенты. Каждый месяц. Немного, но заметно. Банковские маркетологи посчитали: сохранять текущих клиентов дешевле, чем привлекать новых.\n",
    "\n",
    "Нужно спрогнозировать, уйдёт клиент из банка в ближайшее время или нет. Вам предоставлены исторические данные о поведении клиентов и расторжении договоров с банком. \n",
    "\n",
    "Постройте модель с предельно большим значением *F1*-меры. Чтобы сдать проект успешно, нужно довести метрику до 0.59. Проверьте *F1*-меру на тестовой выборке самостоятельно.\n",
    "\n",
    "Дополнительно измеряйте *AUC-ROC*, сравнивайте её значение с *F1*-мерой.\n",
    "\n",
    "Источник данных: [https://www.kaggle.com/barelydedicated/bank-customer-churn-modeling](https://www.kaggle.com/barelydedicated/bank-customer-churn-modeling)"
   ]
  },
  {
   "cell_type": "markdown",
   "metadata": {},
   "source": [
    "## Подготовка данных"
   ]
  },
  {
   "cell_type": "code",
   "execution_count": 1,
   "metadata": {},
   "outputs": [],
   "source": [
    "import pandas as pd\n",
    "import numpy as np\n",
    "import seaborn as sns\n",
    "from matplotlib import pyplot as plt\n",
    "\n",
    "from sklearn.model_selection import train_test_split\n",
    "from sklearn.preprocessing import StandardScaler\n",
    "\n",
    "from sklearn.linear_model import LogisticRegression\n",
    "from sklearn.tree import DecisionTreeClassifier\n",
    "from sklearn.ensemble import RandomForestClassifier\n",
    "\n",
    "from sklearn.metrics import accuracy_score, recall_score, precision_score, f1_score, classification_report, roc_auc_score\n",
    "from sklearn.metrics import confusion_matrix\n",
    "from sklearn.utils import shuffle\n",
    "from sklearn.metrics import roc_curve \n"
   ]
  },
  {
   "cell_type": "markdown",
   "metadata": {},
   "source": [
    "<font color='steelblue'><b>Комментарий ревьюера: </b></font> ✔️ <br>\n",
    "<font color='green'>Здорово, что все импорты находятся в одной ячейке.</font>"
   ]
  },
  {
   "cell_type": "code",
   "execution_count": 2,
   "metadata": {},
   "outputs": [
    {
     "data": {
      "text/html": [
       "<div>\n",
       "<style scoped>\n",
       "    .dataframe tbody tr th:only-of-type {\n",
       "        vertical-align: middle;\n",
       "    }\n",
       "\n",
       "    .dataframe tbody tr th {\n",
       "        vertical-align: top;\n",
       "    }\n",
       "\n",
       "    .dataframe thead th {\n",
       "        text-align: right;\n",
       "    }\n",
       "</style>\n",
       "<table border=\"1\" class=\"dataframe\">\n",
       "  <thead>\n",
       "    <tr style=\"text-align: right;\">\n",
       "      <th></th>\n",
       "      <th>row_number</th>\n",
       "      <th>customer_id</th>\n",
       "      <th>surname</th>\n",
       "      <th>credit_score</th>\n",
       "      <th>geography</th>\n",
       "      <th>gender</th>\n",
       "      <th>age</th>\n",
       "      <th>tenure</th>\n",
       "      <th>balance</th>\n",
       "      <th>num_of_products</th>\n",
       "      <th>has_cr_card</th>\n",
       "      <th>is_active_member</th>\n",
       "      <th>estimated_salary</th>\n",
       "      <th>exited</th>\n",
       "    </tr>\n",
       "  </thead>\n",
       "  <tbody>\n",
       "    <tr>\n",
       "      <th>0</th>\n",
       "      <td>1</td>\n",
       "      <td>15634602</td>\n",
       "      <td>Hargrave</td>\n",
       "      <td>619</td>\n",
       "      <td>France</td>\n",
       "      <td>Female</td>\n",
       "      <td>42</td>\n",
       "      <td>2.0</td>\n",
       "      <td>0.00</td>\n",
       "      <td>1</td>\n",
       "      <td>1</td>\n",
       "      <td>1</td>\n",
       "      <td>101348.88</td>\n",
       "      <td>1</td>\n",
       "    </tr>\n",
       "    <tr>\n",
       "      <th>1</th>\n",
       "      <td>2</td>\n",
       "      <td>15647311</td>\n",
       "      <td>Hill</td>\n",
       "      <td>608</td>\n",
       "      <td>Spain</td>\n",
       "      <td>Female</td>\n",
       "      <td>41</td>\n",
       "      <td>1.0</td>\n",
       "      <td>83807.86</td>\n",
       "      <td>1</td>\n",
       "      <td>0</td>\n",
       "      <td>1</td>\n",
       "      <td>112542.58</td>\n",
       "      <td>0</td>\n",
       "    </tr>\n",
       "    <tr>\n",
       "      <th>2</th>\n",
       "      <td>3</td>\n",
       "      <td>15619304</td>\n",
       "      <td>Onio</td>\n",
       "      <td>502</td>\n",
       "      <td>France</td>\n",
       "      <td>Female</td>\n",
       "      <td>42</td>\n",
       "      <td>8.0</td>\n",
       "      <td>159660.80</td>\n",
       "      <td>3</td>\n",
       "      <td>1</td>\n",
       "      <td>0</td>\n",
       "      <td>113931.57</td>\n",
       "      <td>1</td>\n",
       "    </tr>\n",
       "    <tr>\n",
       "      <th>3</th>\n",
       "      <td>4</td>\n",
       "      <td>15701354</td>\n",
       "      <td>Boni</td>\n",
       "      <td>699</td>\n",
       "      <td>France</td>\n",
       "      <td>Female</td>\n",
       "      <td>39</td>\n",
       "      <td>1.0</td>\n",
       "      <td>0.00</td>\n",
       "      <td>2</td>\n",
       "      <td>0</td>\n",
       "      <td>0</td>\n",
       "      <td>93826.63</td>\n",
       "      <td>0</td>\n",
       "    </tr>\n",
       "    <tr>\n",
       "      <th>4</th>\n",
       "      <td>5</td>\n",
       "      <td>15737888</td>\n",
       "      <td>Mitchell</td>\n",
       "      <td>850</td>\n",
       "      <td>Spain</td>\n",
       "      <td>Female</td>\n",
       "      <td>43</td>\n",
       "      <td>2.0</td>\n",
       "      <td>125510.82</td>\n",
       "      <td>1</td>\n",
       "      <td>1</td>\n",
       "      <td>1</td>\n",
       "      <td>79084.10</td>\n",
       "      <td>0</td>\n",
       "    </tr>\n",
       "    <tr>\n",
       "      <th>...</th>\n",
       "      <td>...</td>\n",
       "      <td>...</td>\n",
       "      <td>...</td>\n",
       "      <td>...</td>\n",
       "      <td>...</td>\n",
       "      <td>...</td>\n",
       "      <td>...</td>\n",
       "      <td>...</td>\n",
       "      <td>...</td>\n",
       "      <td>...</td>\n",
       "      <td>...</td>\n",
       "      <td>...</td>\n",
       "      <td>...</td>\n",
       "      <td>...</td>\n",
       "    </tr>\n",
       "    <tr>\n",
       "      <th>9995</th>\n",
       "      <td>9996</td>\n",
       "      <td>15606229</td>\n",
       "      <td>Obijiaku</td>\n",
       "      <td>771</td>\n",
       "      <td>France</td>\n",
       "      <td>Male</td>\n",
       "      <td>39</td>\n",
       "      <td>5.0</td>\n",
       "      <td>0.00</td>\n",
       "      <td>2</td>\n",
       "      <td>1</td>\n",
       "      <td>0</td>\n",
       "      <td>96270.64</td>\n",
       "      <td>0</td>\n",
       "    </tr>\n",
       "    <tr>\n",
       "      <th>9996</th>\n",
       "      <td>9997</td>\n",
       "      <td>15569892</td>\n",
       "      <td>Johnstone</td>\n",
       "      <td>516</td>\n",
       "      <td>France</td>\n",
       "      <td>Male</td>\n",
       "      <td>35</td>\n",
       "      <td>10.0</td>\n",
       "      <td>57369.61</td>\n",
       "      <td>1</td>\n",
       "      <td>1</td>\n",
       "      <td>1</td>\n",
       "      <td>101699.77</td>\n",
       "      <td>0</td>\n",
       "    </tr>\n",
       "    <tr>\n",
       "      <th>9997</th>\n",
       "      <td>9998</td>\n",
       "      <td>15584532</td>\n",
       "      <td>Liu</td>\n",
       "      <td>709</td>\n",
       "      <td>France</td>\n",
       "      <td>Female</td>\n",
       "      <td>36</td>\n",
       "      <td>7.0</td>\n",
       "      <td>0.00</td>\n",
       "      <td>1</td>\n",
       "      <td>0</td>\n",
       "      <td>1</td>\n",
       "      <td>42085.58</td>\n",
       "      <td>1</td>\n",
       "    </tr>\n",
       "    <tr>\n",
       "      <th>9998</th>\n",
       "      <td>9999</td>\n",
       "      <td>15682355</td>\n",
       "      <td>Sabbatini</td>\n",
       "      <td>772</td>\n",
       "      <td>Germany</td>\n",
       "      <td>Male</td>\n",
       "      <td>42</td>\n",
       "      <td>3.0</td>\n",
       "      <td>75075.31</td>\n",
       "      <td>2</td>\n",
       "      <td>1</td>\n",
       "      <td>0</td>\n",
       "      <td>92888.52</td>\n",
       "      <td>1</td>\n",
       "    </tr>\n",
       "    <tr>\n",
       "      <th>9999</th>\n",
       "      <td>10000</td>\n",
       "      <td>15628319</td>\n",
       "      <td>Walker</td>\n",
       "      <td>792</td>\n",
       "      <td>France</td>\n",
       "      <td>Female</td>\n",
       "      <td>28</td>\n",
       "      <td>NaN</td>\n",
       "      <td>130142.79</td>\n",
       "      <td>1</td>\n",
       "      <td>1</td>\n",
       "      <td>0</td>\n",
       "      <td>38190.78</td>\n",
       "      <td>0</td>\n",
       "    </tr>\n",
       "  </tbody>\n",
       "</table>\n",
       "<p>10000 rows × 14 columns</p>\n",
       "</div>"
      ],
      "text/plain": [
       "      row_number  customer_id    surname  credit_score geography  gender  age  \\\n",
       "0              1     15634602   Hargrave           619    France  Female   42   \n",
       "1              2     15647311       Hill           608     Spain  Female   41   \n",
       "2              3     15619304       Onio           502    France  Female   42   \n",
       "3              4     15701354       Boni           699    France  Female   39   \n",
       "4              5     15737888   Mitchell           850     Spain  Female   43   \n",
       "...          ...          ...        ...           ...       ...     ...  ...   \n",
       "9995        9996     15606229   Obijiaku           771    France    Male   39   \n",
       "9996        9997     15569892  Johnstone           516    France    Male   35   \n",
       "9997        9998     15584532        Liu           709    France  Female   36   \n",
       "9998        9999     15682355  Sabbatini           772   Germany    Male   42   \n",
       "9999       10000     15628319     Walker           792    France  Female   28   \n",
       "\n",
       "      tenure    balance  num_of_products  has_cr_card  is_active_member  \\\n",
       "0        2.0       0.00                1            1                 1   \n",
       "1        1.0   83807.86                1            0                 1   \n",
       "2        8.0  159660.80                3            1                 0   \n",
       "3        1.0       0.00                2            0                 0   \n",
       "4        2.0  125510.82                1            1                 1   \n",
       "...      ...        ...              ...          ...               ...   \n",
       "9995     5.0       0.00                2            1                 0   \n",
       "9996    10.0   57369.61                1            1                 1   \n",
       "9997     7.0       0.00                1            0                 1   \n",
       "9998     3.0   75075.31                2            1                 0   \n",
       "9999     NaN  130142.79                1            1                 0   \n",
       "\n",
       "      estimated_salary  exited  \n",
       "0            101348.88       1  \n",
       "1            112542.58       0  \n",
       "2            113931.57       1  \n",
       "3             93826.63       0  \n",
       "4             79084.10       0  \n",
       "...                ...     ...  \n",
       "9995          96270.64       0  \n",
       "9996         101699.77       0  \n",
       "9997          42085.58       1  \n",
       "9998          92888.52       1  \n",
       "9999          38190.78       0  \n",
       "\n",
       "[10000 rows x 14 columns]"
      ]
     },
     "metadata": {},
     "output_type": "display_data"
    }
   ],
   "source": [
    "df = pd.read_csv('../data/Churn.csv')\n",
    "\n",
    "# Приведение наименований столбцов к нижнему регистру и змениному стилю:\n",
    "df.columns = map(str.lower, df.columns)\n",
    "df.rename(\n",
    "    columns={'rownumber': 'row_number','customerid': 'customer_id', 'creditscore': 'credit_score',\n",
    "    'numofproducts': 'num_of_products', 'hascrcard': 'has_cr_card', \n",
    "    'isactivemember': 'is_active_member', 'estimatedsalary': 'estimated_salary'}, inplace=True\n",
    ")\n",
    "display(df)"
   ]
  },
  {
   "cell_type": "markdown",
   "metadata": {},
   "source": [
    "<font color='steelblue'><b>Комментарий ревьюера: </b></font> ✔️ <br>\n",
    "<font color='green'>Путь к файлу указан верно, хорошо, что переименовываешь колонки. Лучше использовать методы head() и tail().</font>"
   ]
  },
  {
   "cell_type": "markdown",
   "metadata": {},
   "source": [
    "### Описание данных\n",
    "\n",
    "**Признаки**\n",
    "\n",
    "•\trow_number — индекс строки в данных\n",
    "\n",
    "•\tcustomer_id — уникальный идентификатор клиента\n",
    "\n",
    "•\tsurname — фамилия\n",
    "\n",
    "•\tcredit_score — кредитный рейтинг\n",
    "\n",
    "•\tgeography — страна проживания\n",
    "\n",
    "•\tgender — пол\n",
    "\n",
    "•\tage — возраст\n",
    "\n",
    "•\ttenure — сколько лет человек является клиентом банка\n",
    "\n",
    "•\tbalance — баланс на счёте\n",
    "\n",
    "•\tnum_of_products — количество продуктов банка, используемых клиентом\n",
    "\n",
    "•\thas_cr_card — наличие кредитной карты\n",
    "\n",
    "•\tis_active_member — активность клиента\n",
    "\n",
    "•\testimated_salary — предполагаемая зарплата\n",
    "\n",
    "**Целевой признак**\n",
    "\n",
    "•\texited — факт ухода клиента\n"
   ]
  },
  {
   "cell_type": "markdown",
   "metadata": {},
   "source": [
    "#### Признаки"
   ]
  },
  {
   "cell_type": "code",
   "execution_count": 3,
   "metadata": {},
   "outputs": [
    {
     "data": {
      "text/html": [
       "<div>\n",
       "<style scoped>\n",
       "    .dataframe tbody tr th:only-of-type {\n",
       "        vertical-align: middle;\n",
       "    }\n",
       "\n",
       "    .dataframe tbody tr th {\n",
       "        vertical-align: top;\n",
       "    }\n",
       "\n",
       "    .dataframe thead th {\n",
       "        text-align: right;\n",
       "    }\n",
       "</style>\n",
       "<table border=\"1\" class=\"dataframe\">\n",
       "  <thead>\n",
       "    <tr style=\"text-align: right;\">\n",
       "      <th></th>\n",
       "      <th>0</th>\n",
       "    </tr>\n",
       "  </thead>\n",
       "  <tbody>\n",
       "    <tr>\n",
       "      <th>row_number</th>\n",
       "      <td>10000</td>\n",
       "    </tr>\n",
       "    <tr>\n",
       "      <th>customer_id</th>\n",
       "      <td>10000</td>\n",
       "    </tr>\n",
       "    <tr>\n",
       "      <th>surname</th>\n",
       "      <td>2932</td>\n",
       "    </tr>\n",
       "    <tr>\n",
       "      <th>credit_score</th>\n",
       "      <td>460</td>\n",
       "    </tr>\n",
       "    <tr>\n",
       "      <th>geography</th>\n",
       "      <td>3</td>\n",
       "    </tr>\n",
       "    <tr>\n",
       "      <th>gender</th>\n",
       "      <td>2</td>\n",
       "    </tr>\n",
       "    <tr>\n",
       "      <th>age</th>\n",
       "      <td>70</td>\n",
       "    </tr>\n",
       "    <tr>\n",
       "      <th>tenure</th>\n",
       "      <td>11</td>\n",
       "    </tr>\n",
       "    <tr>\n",
       "      <th>balance</th>\n",
       "      <td>6382</td>\n",
       "    </tr>\n",
       "    <tr>\n",
       "      <th>num_of_products</th>\n",
       "      <td>4</td>\n",
       "    </tr>\n",
       "    <tr>\n",
       "      <th>has_cr_card</th>\n",
       "      <td>2</td>\n",
       "    </tr>\n",
       "    <tr>\n",
       "      <th>is_active_member</th>\n",
       "      <td>2</td>\n",
       "    </tr>\n",
       "    <tr>\n",
       "      <th>estimated_salary</th>\n",
       "      <td>9999</td>\n",
       "    </tr>\n",
       "    <tr>\n",
       "      <th>exited</th>\n",
       "      <td>2</td>\n",
       "    </tr>\n",
       "  </tbody>\n",
       "</table>\n",
       "</div>"
      ],
      "text/plain": [
       "                      0\n",
       "row_number        10000\n",
       "customer_id       10000\n",
       "surname            2932\n",
       "credit_score        460\n",
       "geography             3\n",
       "gender                2\n",
       "age                  70\n",
       "tenure               11\n",
       "balance            6382\n",
       "num_of_products       4\n",
       "has_cr_card           2\n",
       "is_active_member      2\n",
       "estimated_salary   9999\n",
       "exited                2"
      ]
     },
     "metadata": {},
     "output_type": "display_data"
    },
    {
     "data": {
      "text/html": [
       "<div>\n",
       "<style scoped>\n",
       "    .dataframe tbody tr th:only-of-type {\n",
       "        vertical-align: middle;\n",
       "    }\n",
       "\n",
       "    .dataframe tbody tr th {\n",
       "        vertical-align: top;\n",
       "    }\n",
       "\n",
       "    .dataframe thead th {\n",
       "        text-align: right;\n",
       "    }\n",
       "</style>\n",
       "<table border=\"1\" class=\"dataframe\">\n",
       "  <thead>\n",
       "    <tr style=\"text-align: right;\">\n",
       "      <th></th>\n",
       "      <th>surname</th>\n",
       "      <th>geography</th>\n",
       "      <th>gender</th>\n",
       "    </tr>\n",
       "  </thead>\n",
       "  <tbody>\n",
       "    <tr>\n",
       "      <th>0</th>\n",
       "      <td>Hargrave</td>\n",
       "      <td>France</td>\n",
       "      <td>Female</td>\n",
       "    </tr>\n",
       "    <tr>\n",
       "      <th>1</th>\n",
       "      <td>Hill</td>\n",
       "      <td>Spain</td>\n",
       "      <td>Female</td>\n",
       "    </tr>\n",
       "    <tr>\n",
       "      <th>2</th>\n",
       "      <td>Onio</td>\n",
       "      <td>France</td>\n",
       "      <td>Female</td>\n",
       "    </tr>\n",
       "    <tr>\n",
       "      <th>3</th>\n",
       "      <td>Boni</td>\n",
       "      <td>France</td>\n",
       "      <td>Female</td>\n",
       "    </tr>\n",
       "    <tr>\n",
       "      <th>4</th>\n",
       "      <td>Mitchell</td>\n",
       "      <td>Spain</td>\n",
       "      <td>Female</td>\n",
       "    </tr>\n",
       "  </tbody>\n",
       "</table>\n",
       "</div>"
      ],
      "text/plain": [
       "    surname geography  gender\n",
       "0  Hargrave    France  Female\n",
       "1      Hill     Spain  Female\n",
       "2      Onio    France  Female\n",
       "3      Boni    France  Female\n",
       "4  Mitchell     Spain  Female"
      ]
     },
     "metadata": {},
     "output_type": "display_data"
    },
    {
     "name": "stdout",
     "output_type": "stream",
     "text": [
      "Smith       32\n",
      "Scott       29\n",
      "Martin      29\n",
      "Walker      28\n",
      "Brown       26\n",
      "            ..\n",
      "Izmailov     1\n",
      "Bold         1\n",
      "Bonham       1\n",
      "Poninski     1\n",
      "Burbidge     1\n",
      "Name: surname, Length: 2932, dtype: int64\n",
      "France     5014\n",
      "Germany    2509\n",
      "Spain      2477\n",
      "Name: geography, dtype: int64\n",
      "Male      5457\n",
      "Female    4543\n",
      "Name: gender, dtype: int64\n"
     ]
    }
   ],
   "source": [
    "display(pd.DataFrame(df.nunique()))\n",
    "display(df.select_dtypes(exclude=[np.number]). head())\n",
    "print(df['surname'].value_counts())\n",
    "print(df['geography'].value_counts())\n",
    "print(df['gender'].value_counts())"
   ]
  },
  {
   "cell_type": "code",
   "execution_count": 4,
   "metadata": {},
   "outputs": [
    {
     "data": {
      "text/html": [
       "<div>\n",
       "<style scoped>\n",
       "    .dataframe tbody tr th:only-of-type {\n",
       "        vertical-align: middle;\n",
       "    }\n",
       "\n",
       "    .dataframe tbody tr th {\n",
       "        vertical-align: top;\n",
       "    }\n",
       "\n",
       "    .dataframe thead th {\n",
       "        text-align: right;\n",
       "    }\n",
       "</style>\n",
       "<table border=\"1\" class=\"dataframe\">\n",
       "  <thead>\n",
       "    <tr style=\"text-align: right;\">\n",
       "      <th></th>\n",
       "      <th>row_number</th>\n",
       "      <th>customer_id</th>\n",
       "      <th>surname</th>\n",
       "      <th>credit_score</th>\n",
       "      <th>geography</th>\n",
       "      <th>gender</th>\n",
       "      <th>age</th>\n",
       "      <th>tenure</th>\n",
       "      <th>balance</th>\n",
       "      <th>num_of_products</th>\n",
       "      <th>has_cr_card</th>\n",
       "      <th>is_active_member</th>\n",
       "      <th>estimated_salary</th>\n",
       "      <th>exited</th>\n",
       "    </tr>\n",
       "  </thead>\n",
       "  <tbody>\n",
       "    <tr>\n",
       "      <th>30</th>\n",
       "      <td>31</td>\n",
       "      <td>15589475</td>\n",
       "      <td>Azikiwe</td>\n",
       "      <td>591</td>\n",
       "      <td>Spain</td>\n",
       "      <td>Female</td>\n",
       "      <td>39</td>\n",
       "      <td>NaN</td>\n",
       "      <td>0.00</td>\n",
       "      <td>3</td>\n",
       "      <td>1</td>\n",
       "      <td>0</td>\n",
       "      <td>140469.38</td>\n",
       "      <td>1</td>\n",
       "    </tr>\n",
       "    <tr>\n",
       "      <th>48</th>\n",
       "      <td>49</td>\n",
       "      <td>15766205</td>\n",
       "      <td>Yin</td>\n",
       "      <td>550</td>\n",
       "      <td>Germany</td>\n",
       "      <td>Male</td>\n",
       "      <td>38</td>\n",
       "      <td>NaN</td>\n",
       "      <td>103391.38</td>\n",
       "      <td>1</td>\n",
       "      <td>0</td>\n",
       "      <td>1</td>\n",
       "      <td>90878.13</td>\n",
       "      <td>0</td>\n",
       "    </tr>\n",
       "    <tr>\n",
       "      <th>51</th>\n",
       "      <td>52</td>\n",
       "      <td>15768193</td>\n",
       "      <td>Trevisani</td>\n",
       "      <td>585</td>\n",
       "      <td>Germany</td>\n",
       "      <td>Male</td>\n",
       "      <td>36</td>\n",
       "      <td>NaN</td>\n",
       "      <td>146050.97</td>\n",
       "      <td>2</td>\n",
       "      <td>0</td>\n",
       "      <td>0</td>\n",
       "      <td>86424.57</td>\n",
       "      <td>0</td>\n",
       "    </tr>\n",
       "    <tr>\n",
       "      <th>53</th>\n",
       "      <td>54</td>\n",
       "      <td>15702298</td>\n",
       "      <td>Parkhill</td>\n",
       "      <td>655</td>\n",
       "      <td>Germany</td>\n",
       "      <td>Male</td>\n",
       "      <td>41</td>\n",
       "      <td>NaN</td>\n",
       "      <td>125561.97</td>\n",
       "      <td>1</td>\n",
       "      <td>0</td>\n",
       "      <td>0</td>\n",
       "      <td>164040.94</td>\n",
       "      <td>1</td>\n",
       "    </tr>\n",
       "    <tr>\n",
       "      <th>60</th>\n",
       "      <td>61</td>\n",
       "      <td>15651280</td>\n",
       "      <td>Hunter</td>\n",
       "      <td>742</td>\n",
       "      <td>Germany</td>\n",
       "      <td>Male</td>\n",
       "      <td>35</td>\n",
       "      <td>NaN</td>\n",
       "      <td>136857.00</td>\n",
       "      <td>1</td>\n",
       "      <td>0</td>\n",
       "      <td>0</td>\n",
       "      <td>84509.57</td>\n",
       "      <td>0</td>\n",
       "    </tr>\n",
       "    <tr>\n",
       "      <th>...</th>\n",
       "      <td>...</td>\n",
       "      <td>...</td>\n",
       "      <td>...</td>\n",
       "      <td>...</td>\n",
       "      <td>...</td>\n",
       "      <td>...</td>\n",
       "      <td>...</td>\n",
       "      <td>...</td>\n",
       "      <td>...</td>\n",
       "      <td>...</td>\n",
       "      <td>...</td>\n",
       "      <td>...</td>\n",
       "      <td>...</td>\n",
       "      <td>...</td>\n",
       "    </tr>\n",
       "    <tr>\n",
       "      <th>9944</th>\n",
       "      <td>9945</td>\n",
       "      <td>15703923</td>\n",
       "      <td>Cameron</td>\n",
       "      <td>744</td>\n",
       "      <td>Germany</td>\n",
       "      <td>Male</td>\n",
       "      <td>41</td>\n",
       "      <td>NaN</td>\n",
       "      <td>190409.34</td>\n",
       "      <td>2</td>\n",
       "      <td>1</td>\n",
       "      <td>1</td>\n",
       "      <td>138361.48</td>\n",
       "      <td>0</td>\n",
       "    </tr>\n",
       "    <tr>\n",
       "      <th>9956</th>\n",
       "      <td>9957</td>\n",
       "      <td>15707861</td>\n",
       "      <td>Nucci</td>\n",
       "      <td>520</td>\n",
       "      <td>France</td>\n",
       "      <td>Female</td>\n",
       "      <td>46</td>\n",
       "      <td>NaN</td>\n",
       "      <td>85216.61</td>\n",
       "      <td>1</td>\n",
       "      <td>1</td>\n",
       "      <td>0</td>\n",
       "      <td>117369.52</td>\n",
       "      <td>1</td>\n",
       "    </tr>\n",
       "    <tr>\n",
       "      <th>9964</th>\n",
       "      <td>9965</td>\n",
       "      <td>15642785</td>\n",
       "      <td>Douglas</td>\n",
       "      <td>479</td>\n",
       "      <td>France</td>\n",
       "      <td>Male</td>\n",
       "      <td>34</td>\n",
       "      <td>NaN</td>\n",
       "      <td>117593.48</td>\n",
       "      <td>2</td>\n",
       "      <td>0</td>\n",
       "      <td>0</td>\n",
       "      <td>113308.29</td>\n",
       "      <td>0</td>\n",
       "    </tr>\n",
       "    <tr>\n",
       "      <th>9985</th>\n",
       "      <td>9986</td>\n",
       "      <td>15586914</td>\n",
       "      <td>Nepean</td>\n",
       "      <td>659</td>\n",
       "      <td>France</td>\n",
       "      <td>Male</td>\n",
       "      <td>36</td>\n",
       "      <td>NaN</td>\n",
       "      <td>123841.49</td>\n",
       "      <td>2</td>\n",
       "      <td>1</td>\n",
       "      <td>0</td>\n",
       "      <td>96833.00</td>\n",
       "      <td>0</td>\n",
       "    </tr>\n",
       "    <tr>\n",
       "      <th>9999</th>\n",
       "      <td>10000</td>\n",
       "      <td>15628319</td>\n",
       "      <td>Walker</td>\n",
       "      <td>792</td>\n",
       "      <td>France</td>\n",
       "      <td>Female</td>\n",
       "      <td>28</td>\n",
       "      <td>NaN</td>\n",
       "      <td>130142.79</td>\n",
       "      <td>1</td>\n",
       "      <td>1</td>\n",
       "      <td>0</td>\n",
       "      <td>38190.78</td>\n",
       "      <td>0</td>\n",
       "    </tr>\n",
       "  </tbody>\n",
       "</table>\n",
       "<p>909 rows × 14 columns</p>\n",
       "</div>"
      ],
      "text/plain": [
       "      row_number  customer_id    surname  credit_score geography  gender  age  \\\n",
       "30            31     15589475    Azikiwe           591     Spain  Female   39   \n",
       "48            49     15766205        Yin           550   Germany    Male   38   \n",
       "51            52     15768193  Trevisani           585   Germany    Male   36   \n",
       "53            54     15702298   Parkhill           655   Germany    Male   41   \n",
       "60            61     15651280     Hunter           742   Germany    Male   35   \n",
       "...          ...          ...        ...           ...       ...     ...  ...   \n",
       "9944        9945     15703923    Cameron           744   Germany    Male   41   \n",
       "9956        9957     15707861      Nucci           520    France  Female   46   \n",
       "9964        9965     15642785    Douglas           479    France    Male   34   \n",
       "9985        9986     15586914     Nepean           659    France    Male   36   \n",
       "9999       10000     15628319     Walker           792    France  Female   28   \n",
       "\n",
       "      tenure    balance  num_of_products  has_cr_card  is_active_member  \\\n",
       "30       NaN       0.00                3            1                 0   \n",
       "48       NaN  103391.38                1            0                 1   \n",
       "51       NaN  146050.97                2            0                 0   \n",
       "53       NaN  125561.97                1            0                 0   \n",
       "60       NaN  136857.00                1            0                 0   \n",
       "...      ...        ...              ...          ...               ...   \n",
       "9944     NaN  190409.34                2            1                 1   \n",
       "9956     NaN   85216.61                1            1                 0   \n",
       "9964     NaN  117593.48                2            0                 0   \n",
       "9985     NaN  123841.49                2            1                 0   \n",
       "9999     NaN  130142.79                1            1                 0   \n",
       "\n",
       "      estimated_salary  exited  \n",
       "30           140469.38       1  \n",
       "48            90878.13       0  \n",
       "51            86424.57       0  \n",
       "53           164040.94       1  \n",
       "60            84509.57       0  \n",
       "...                ...     ...  \n",
       "9944         138361.48       0  \n",
       "9956         117369.52       1  \n",
       "9964         113308.29       0  \n",
       "9985          96833.00       0  \n",
       "9999          38190.78       0  \n",
       "\n",
       "[909 rows x 14 columns]"
      ]
     },
     "metadata": {},
     "output_type": "display_data"
    }
   ],
   "source": [
    "display(df[df.isnull().any(1)])\n"
   ]
  },
  {
   "cell_type": "code",
   "execution_count": 5,
   "metadata": {},
   "outputs": [
    {
     "name": "stdout",
     "output_type": "stream",
     "text": [
      "row_number            0\n",
      "customer_id           0\n",
      "surname               0\n",
      "credit_score          0\n",
      "geography             0\n",
      "gender                0\n",
      "age                   0\n",
      "tenure              909\n",
      "balance               0\n",
      "num_of_products       0\n",
      "has_cr_card           0\n",
      "is_active_member      0\n",
      "estimated_salary      0\n",
      "exited                0\n",
      "dtype: int64\n"
     ]
    },
    {
     "data": {
      "text/html": [
       "<div>\n",
       "<style scoped>\n",
       "    .dataframe tbody tr th:only-of-type {\n",
       "        vertical-align: middle;\n",
       "    }\n",
       "\n",
       "    .dataframe tbody tr th {\n",
       "        vertical-align: top;\n",
       "    }\n",
       "\n",
       "    .dataframe thead th {\n",
       "        text-align: right;\n",
       "    }\n",
       "</style>\n",
       "<table border=\"1\" class=\"dataframe\">\n",
       "  <thead>\n",
       "    <tr style=\"text-align: right;\">\n",
       "      <th></th>\n",
       "      <th>row_number</th>\n",
       "      <th>customer_id</th>\n",
       "      <th>credit_score</th>\n",
       "      <th>age</th>\n",
       "      <th>tenure</th>\n",
       "      <th>balance</th>\n",
       "      <th>num_of_products</th>\n",
       "      <th>has_cr_card</th>\n",
       "      <th>is_active_member</th>\n",
       "      <th>estimated_salary</th>\n",
       "      <th>exited</th>\n",
       "    </tr>\n",
       "    <tr>\n",
       "      <th>geography</th>\n",
       "      <th></th>\n",
       "      <th></th>\n",
       "      <th></th>\n",
       "      <th></th>\n",
       "      <th></th>\n",
       "      <th></th>\n",
       "      <th></th>\n",
       "      <th></th>\n",
       "      <th></th>\n",
       "      <th></th>\n",
       "      <th></th>\n",
       "    </tr>\n",
       "  </thead>\n",
       "  <tbody>\n",
       "    <tr>\n",
       "      <th>France</th>\n",
       "      <td>25196496</td>\n",
       "      <td>78672919670</td>\n",
       "      <td>3257437</td>\n",
       "      <td>193098</td>\n",
       "      <td>22768.0</td>\n",
       "      <td>3.113325e+08</td>\n",
       "      <td>7676</td>\n",
       "      <td>3543</td>\n",
       "      <td>2591</td>\n",
       "      <td>5.008945e+08</td>\n",
       "      <td>810</td>\n",
       "    </tr>\n",
       "    <tr>\n",
       "      <th>Germany</th>\n",
       "      <td>12545700</td>\n",
       "      <td>39367604133</td>\n",
       "      <td>1634497</td>\n",
       "      <td>99787</td>\n",
       "      <td>11422.0</td>\n",
       "      <td>3.004029e+08</td>\n",
       "      <td>3813</td>\n",
       "      <td>1791</td>\n",
       "      <td>1248</td>\n",
       "      <td>2.536936e+08</td>\n",
       "      <td>814</td>\n",
       "    </tr>\n",
       "    <tr>\n",
       "      <th>Spain</th>\n",
       "      <td>12262804</td>\n",
       "      <td>38868881891</td>\n",
       "      <td>1613354</td>\n",
       "      <td>96333</td>\n",
       "      <td>11244.0</td>\n",
       "      <td>1.531236e+08</td>\n",
       "      <td>3813</td>\n",
       "      <td>1721</td>\n",
       "      <td>1312</td>\n",
       "      <td>2.463143e+08</td>\n",
       "      <td>413</td>\n",
       "    </tr>\n",
       "  </tbody>\n",
       "</table>\n",
       "</div>"
      ],
      "text/plain": [
       "           row_number  customer_id  credit_score     age   tenure  \\\n",
       "geography                                                           \n",
       "France       25196496  78672919670       3257437  193098  22768.0   \n",
       "Germany      12545700  39367604133       1634497   99787  11422.0   \n",
       "Spain        12262804  38868881891       1613354   96333  11244.0   \n",
       "\n",
       "                balance  num_of_products  has_cr_card  is_active_member  \\\n",
       "geography                                                                 \n",
       "France     3.113325e+08             7676         3543              2591   \n",
       "Germany    3.004029e+08             3813         1791              1248   \n",
       "Spain      1.531236e+08             3813         1721              1312   \n",
       "\n",
       "           estimated_salary  exited  \n",
       "geography                            \n",
       "France         5.008945e+08     810  \n",
       "Germany        2.536936e+08     814  \n",
       "Spain          2.463143e+08     413  "
      ]
     },
     "metadata": {},
     "output_type": "display_data"
    },
    {
     "name": "stdout",
     "output_type": "stream",
     "text": [
      "row_number          0\n",
      "customer_id         0\n",
      "surname             0\n",
      "credit_score        0\n",
      "geography           0\n",
      "gender              0\n",
      "age                 0\n",
      "tenure              0\n",
      "balance             0\n",
      "num_of_products     0\n",
      "has_cr_card         0\n",
      "is_active_member    0\n",
      "estimated_salary    0\n",
      "exited              0\n",
      "dtype: int64\n"
     ]
    },
    {
     "data": {
      "text/html": [
       "<div>\n",
       "<style scoped>\n",
       "    .dataframe tbody tr th:only-of-type {\n",
       "        vertical-align: middle;\n",
       "    }\n",
       "\n",
       "    .dataframe tbody tr th {\n",
       "        vertical-align: top;\n",
       "    }\n",
       "\n",
       "    .dataframe thead th {\n",
       "        text-align: right;\n",
       "    }\n",
       "</style>\n",
       "<table border=\"1\" class=\"dataframe\">\n",
       "  <thead>\n",
       "    <tr style=\"text-align: right;\">\n",
       "      <th></th>\n",
       "      <th>row_number</th>\n",
       "      <th>customer_id</th>\n",
       "      <th>surname</th>\n",
       "      <th>credit_score</th>\n",
       "      <th>geography</th>\n",
       "      <th>gender</th>\n",
       "      <th>age</th>\n",
       "      <th>tenure</th>\n",
       "      <th>balance</th>\n",
       "      <th>num_of_products</th>\n",
       "      <th>has_cr_card</th>\n",
       "      <th>is_active_member</th>\n",
       "      <th>estimated_salary</th>\n",
       "      <th>exited</th>\n",
       "    </tr>\n",
       "  </thead>\n",
       "  <tbody>\n",
       "    <tr>\n",
       "      <th>29</th>\n",
       "      <td>30</td>\n",
       "      <td>15656300</td>\n",
       "      <td>Lucciano</td>\n",
       "      <td>411</td>\n",
       "      <td>France</td>\n",
       "      <td>Male</td>\n",
       "      <td>29</td>\n",
       "      <td>0.0</td>\n",
       "      <td>59697.17</td>\n",
       "      <td>2</td>\n",
       "      <td>1</td>\n",
       "      <td>1</td>\n",
       "      <td>53483.21</td>\n",
       "      <td>0</td>\n",
       "    </tr>\n",
       "    <tr>\n",
       "      <th>30</th>\n",
       "      <td>31</td>\n",
       "      <td>15589475</td>\n",
       "      <td>Azikiwe</td>\n",
       "      <td>591</td>\n",
       "      <td>Spain</td>\n",
       "      <td>Female</td>\n",
       "      <td>39</td>\n",
       "      <td>5.0</td>\n",
       "      <td>0.00</td>\n",
       "      <td>3</td>\n",
       "      <td>1</td>\n",
       "      <td>0</td>\n",
       "      <td>140469.38</td>\n",
       "      <td>1</td>\n",
       "    </tr>\n",
       "    <tr>\n",
       "      <th>31</th>\n",
       "      <td>32</td>\n",
       "      <td>15706552</td>\n",
       "      <td>Odinakachukwu</td>\n",
       "      <td>533</td>\n",
       "      <td>France</td>\n",
       "      <td>Male</td>\n",
       "      <td>36</td>\n",
       "      <td>7.0</td>\n",
       "      <td>85311.70</td>\n",
       "      <td>1</td>\n",
       "      <td>0</td>\n",
       "      <td>1</td>\n",
       "      <td>156731.91</td>\n",
       "      <td>0</td>\n",
       "    </tr>\n",
       "    <tr>\n",
       "      <th>32</th>\n",
       "      <td>33</td>\n",
       "      <td>15750181</td>\n",
       "      <td>Sanderson</td>\n",
       "      <td>553</td>\n",
       "      <td>Germany</td>\n",
       "      <td>Male</td>\n",
       "      <td>41</td>\n",
       "      <td>9.0</td>\n",
       "      <td>110112.54</td>\n",
       "      <td>2</td>\n",
       "      <td>0</td>\n",
       "      <td>0</td>\n",
       "      <td>81898.81</td>\n",
       "      <td>0</td>\n",
       "    </tr>\n",
       "    <tr>\n",
       "      <th>33</th>\n",
       "      <td>34</td>\n",
       "      <td>15659428</td>\n",
       "      <td>Maggard</td>\n",
       "      <td>520</td>\n",
       "      <td>Spain</td>\n",
       "      <td>Female</td>\n",
       "      <td>42</td>\n",
       "      <td>6.0</td>\n",
       "      <td>0.00</td>\n",
       "      <td>2</td>\n",
       "      <td>1</td>\n",
       "      <td>1</td>\n",
       "      <td>34410.55</td>\n",
       "      <td>0</td>\n",
       "    </tr>\n",
       "    <tr>\n",
       "      <th>34</th>\n",
       "      <td>35</td>\n",
       "      <td>15732963</td>\n",
       "      <td>Clements</td>\n",
       "      <td>722</td>\n",
       "      <td>Spain</td>\n",
       "      <td>Female</td>\n",
       "      <td>29</td>\n",
       "      <td>9.0</td>\n",
       "      <td>0.00</td>\n",
       "      <td>2</td>\n",
       "      <td>1</td>\n",
       "      <td>1</td>\n",
       "      <td>142033.07</td>\n",
       "      <td>0</td>\n",
       "    </tr>\n",
       "    <tr>\n",
       "      <th>35</th>\n",
       "      <td>36</td>\n",
       "      <td>15794171</td>\n",
       "      <td>Lombardo</td>\n",
       "      <td>475</td>\n",
       "      <td>France</td>\n",
       "      <td>Female</td>\n",
       "      <td>45</td>\n",
       "      <td>0.0</td>\n",
       "      <td>134264.04</td>\n",
       "      <td>1</td>\n",
       "      <td>1</td>\n",
       "      <td>0</td>\n",
       "      <td>27822.99</td>\n",
       "      <td>1</td>\n",
       "    </tr>\n",
       "    <tr>\n",
       "      <th>36</th>\n",
       "      <td>37</td>\n",
       "      <td>15788448</td>\n",
       "      <td>Watson</td>\n",
       "      <td>490</td>\n",
       "      <td>Spain</td>\n",
       "      <td>Male</td>\n",
       "      <td>31</td>\n",
       "      <td>3.0</td>\n",
       "      <td>145260.23</td>\n",
       "      <td>1</td>\n",
       "      <td>0</td>\n",
       "      <td>1</td>\n",
       "      <td>114066.77</td>\n",
       "      <td>0</td>\n",
       "    </tr>\n",
       "    <tr>\n",
       "      <th>37</th>\n",
       "      <td>38</td>\n",
       "      <td>15729599</td>\n",
       "      <td>Lorenzo</td>\n",
       "      <td>804</td>\n",
       "      <td>Spain</td>\n",
       "      <td>Male</td>\n",
       "      <td>33</td>\n",
       "      <td>7.0</td>\n",
       "      <td>76548.60</td>\n",
       "      <td>1</td>\n",
       "      <td>0</td>\n",
       "      <td>1</td>\n",
       "      <td>98453.45</td>\n",
       "      <td>0</td>\n",
       "    </tr>\n",
       "    <tr>\n",
       "      <th>38</th>\n",
       "      <td>39</td>\n",
       "      <td>15717426</td>\n",
       "      <td>Armstrong</td>\n",
       "      <td>850</td>\n",
       "      <td>France</td>\n",
       "      <td>Male</td>\n",
       "      <td>36</td>\n",
       "      <td>7.0</td>\n",
       "      <td>0.00</td>\n",
       "      <td>1</td>\n",
       "      <td>1</td>\n",
       "      <td>1</td>\n",
       "      <td>40812.90</td>\n",
       "      <td>0</td>\n",
       "    </tr>\n",
       "    <tr>\n",
       "      <th>39</th>\n",
       "      <td>40</td>\n",
       "      <td>15585768</td>\n",
       "      <td>Cameron</td>\n",
       "      <td>582</td>\n",
       "      <td>Germany</td>\n",
       "      <td>Male</td>\n",
       "      <td>41</td>\n",
       "      <td>6.0</td>\n",
       "      <td>70349.48</td>\n",
       "      <td>2</td>\n",
       "      <td>0</td>\n",
       "      <td>1</td>\n",
       "      <td>178074.04</td>\n",
       "      <td>0</td>\n",
       "    </tr>\n",
       "    <tr>\n",
       "      <th>40</th>\n",
       "      <td>41</td>\n",
       "      <td>15619360</td>\n",
       "      <td>Hsiao</td>\n",
       "      <td>472</td>\n",
       "      <td>Spain</td>\n",
       "      <td>Male</td>\n",
       "      <td>40</td>\n",
       "      <td>4.0</td>\n",
       "      <td>0.00</td>\n",
       "      <td>1</td>\n",
       "      <td>1</td>\n",
       "      <td>0</td>\n",
       "      <td>70154.22</td>\n",
       "      <td>0</td>\n",
       "    </tr>\n",
       "    <tr>\n",
       "      <th>41</th>\n",
       "      <td>42</td>\n",
       "      <td>15738148</td>\n",
       "      <td>Clarke</td>\n",
       "      <td>465</td>\n",
       "      <td>France</td>\n",
       "      <td>Female</td>\n",
       "      <td>51</td>\n",
       "      <td>8.0</td>\n",
       "      <td>122522.32</td>\n",
       "      <td>1</td>\n",
       "      <td>0</td>\n",
       "      <td>0</td>\n",
       "      <td>181297.65</td>\n",
       "      <td>1</td>\n",
       "    </tr>\n",
       "    <tr>\n",
       "      <th>42</th>\n",
       "      <td>43</td>\n",
       "      <td>15687946</td>\n",
       "      <td>Osborne</td>\n",
       "      <td>556</td>\n",
       "      <td>France</td>\n",
       "      <td>Female</td>\n",
       "      <td>61</td>\n",
       "      <td>2.0</td>\n",
       "      <td>117419.35</td>\n",
       "      <td>1</td>\n",
       "      <td>1</td>\n",
       "      <td>1</td>\n",
       "      <td>94153.83</td>\n",
       "      <td>0</td>\n",
       "    </tr>\n",
       "    <tr>\n",
       "      <th>43</th>\n",
       "      <td>44</td>\n",
       "      <td>15755196</td>\n",
       "      <td>Lavine</td>\n",
       "      <td>834</td>\n",
       "      <td>France</td>\n",
       "      <td>Female</td>\n",
       "      <td>49</td>\n",
       "      <td>2.0</td>\n",
       "      <td>131394.56</td>\n",
       "      <td>1</td>\n",
       "      <td>0</td>\n",
       "      <td>0</td>\n",
       "      <td>194365.76</td>\n",
       "      <td>1</td>\n",
       "    </tr>\n",
       "    <tr>\n",
       "      <th>44</th>\n",
       "      <td>45</td>\n",
       "      <td>15684171</td>\n",
       "      <td>Bianchi</td>\n",
       "      <td>660</td>\n",
       "      <td>Spain</td>\n",
       "      <td>Female</td>\n",
       "      <td>61</td>\n",
       "      <td>5.0</td>\n",
       "      <td>155931.11</td>\n",
       "      <td>1</td>\n",
       "      <td>1</td>\n",
       "      <td>1</td>\n",
       "      <td>158338.39</td>\n",
       "      <td>0</td>\n",
       "    </tr>\n",
       "    <tr>\n",
       "      <th>45</th>\n",
       "      <td>46</td>\n",
       "      <td>15754849</td>\n",
       "      <td>Tyler</td>\n",
       "      <td>776</td>\n",
       "      <td>Germany</td>\n",
       "      <td>Female</td>\n",
       "      <td>32</td>\n",
       "      <td>4.0</td>\n",
       "      <td>109421.13</td>\n",
       "      <td>2</td>\n",
       "      <td>1</td>\n",
       "      <td>1</td>\n",
       "      <td>126517.46</td>\n",
       "      <td>0</td>\n",
       "    </tr>\n",
       "    <tr>\n",
       "      <th>46</th>\n",
       "      <td>47</td>\n",
       "      <td>15602280</td>\n",
       "      <td>Martin</td>\n",
       "      <td>829</td>\n",
       "      <td>Germany</td>\n",
       "      <td>Female</td>\n",
       "      <td>27</td>\n",
       "      <td>9.0</td>\n",
       "      <td>112045.67</td>\n",
       "      <td>1</td>\n",
       "      <td>1</td>\n",
       "      <td>1</td>\n",
       "      <td>119708.21</td>\n",
       "      <td>1</td>\n",
       "    </tr>\n",
       "    <tr>\n",
       "      <th>47</th>\n",
       "      <td>48</td>\n",
       "      <td>15771573</td>\n",
       "      <td>Okagbue</td>\n",
       "      <td>637</td>\n",
       "      <td>Germany</td>\n",
       "      <td>Female</td>\n",
       "      <td>39</td>\n",
       "      <td>9.0</td>\n",
       "      <td>137843.80</td>\n",
       "      <td>1</td>\n",
       "      <td>1</td>\n",
       "      <td>1</td>\n",
       "      <td>117622.80</td>\n",
       "      <td>1</td>\n",
       "    </tr>\n",
       "    <tr>\n",
       "      <th>48</th>\n",
       "      <td>49</td>\n",
       "      <td>15766205</td>\n",
       "      <td>Yin</td>\n",
       "      <td>550</td>\n",
       "      <td>Germany</td>\n",
       "      <td>Male</td>\n",
       "      <td>38</td>\n",
       "      <td>5.0</td>\n",
       "      <td>103391.38</td>\n",
       "      <td>1</td>\n",
       "      <td>0</td>\n",
       "      <td>1</td>\n",
       "      <td>90878.13</td>\n",
       "      <td>0</td>\n",
       "    </tr>\n",
       "    <tr>\n",
       "      <th>49</th>\n",
       "      <td>50</td>\n",
       "      <td>15771873</td>\n",
       "      <td>Buccho</td>\n",
       "      <td>776</td>\n",
       "      <td>Germany</td>\n",
       "      <td>Female</td>\n",
       "      <td>37</td>\n",
       "      <td>2.0</td>\n",
       "      <td>103769.22</td>\n",
       "      <td>2</td>\n",
       "      <td>1</td>\n",
       "      <td>0</td>\n",
       "      <td>194099.12</td>\n",
       "      <td>0</td>\n",
       "    </tr>\n",
       "    <tr>\n",
       "      <th>50</th>\n",
       "      <td>51</td>\n",
       "      <td>15616550</td>\n",
       "      <td>Chidiebele</td>\n",
       "      <td>698</td>\n",
       "      <td>Germany</td>\n",
       "      <td>Male</td>\n",
       "      <td>44</td>\n",
       "      <td>10.0</td>\n",
       "      <td>116363.37</td>\n",
       "      <td>2</td>\n",
       "      <td>1</td>\n",
       "      <td>0</td>\n",
       "      <td>198059.16</td>\n",
       "      <td>0</td>\n",
       "    </tr>\n",
       "    <tr>\n",
       "      <th>51</th>\n",
       "      <td>52</td>\n",
       "      <td>15768193</td>\n",
       "      <td>Trevisani</td>\n",
       "      <td>585</td>\n",
       "      <td>Germany</td>\n",
       "      <td>Male</td>\n",
       "      <td>36</td>\n",
       "      <td>5.0</td>\n",
       "      <td>146050.97</td>\n",
       "      <td>2</td>\n",
       "      <td>0</td>\n",
       "      <td>0</td>\n",
       "      <td>86424.57</td>\n",
       "      <td>0</td>\n",
       "    </tr>\n",
       "    <tr>\n",
       "      <th>52</th>\n",
       "      <td>53</td>\n",
       "      <td>15683553</td>\n",
       "      <td>O'Brien</td>\n",
       "      <td>788</td>\n",
       "      <td>France</td>\n",
       "      <td>Female</td>\n",
       "      <td>33</td>\n",
       "      <td>5.0</td>\n",
       "      <td>0.00</td>\n",
       "      <td>2</td>\n",
       "      <td>0</td>\n",
       "      <td>0</td>\n",
       "      <td>116978.19</td>\n",
       "      <td>0</td>\n",
       "    </tr>\n",
       "    <tr>\n",
       "      <th>53</th>\n",
       "      <td>54</td>\n",
       "      <td>15702298</td>\n",
       "      <td>Parkhill</td>\n",
       "      <td>655</td>\n",
       "      <td>Germany</td>\n",
       "      <td>Male</td>\n",
       "      <td>41</td>\n",
       "      <td>5.0</td>\n",
       "      <td>125561.97</td>\n",
       "      <td>1</td>\n",
       "      <td>0</td>\n",
       "      <td>0</td>\n",
       "      <td>164040.94</td>\n",
       "      <td>1</td>\n",
       "    </tr>\n",
       "    <tr>\n",
       "      <th>54</th>\n",
       "      <td>55</td>\n",
       "      <td>15569590</td>\n",
       "      <td>Yoo</td>\n",
       "      <td>601</td>\n",
       "      <td>Germany</td>\n",
       "      <td>Male</td>\n",
       "      <td>42</td>\n",
       "      <td>1.0</td>\n",
       "      <td>98495.72</td>\n",
       "      <td>1</td>\n",
       "      <td>1</td>\n",
       "      <td>0</td>\n",
       "      <td>40014.76</td>\n",
       "      <td>1</td>\n",
       "    </tr>\n",
       "    <tr>\n",
       "      <th>55</th>\n",
       "      <td>56</td>\n",
       "      <td>15760861</td>\n",
       "      <td>Phillipps</td>\n",
       "      <td>619</td>\n",
       "      <td>France</td>\n",
       "      <td>Male</td>\n",
       "      <td>43</td>\n",
       "      <td>1.0</td>\n",
       "      <td>125211.92</td>\n",
       "      <td>1</td>\n",
       "      <td>1</td>\n",
       "      <td>1</td>\n",
       "      <td>113410.49</td>\n",
       "      <td>0</td>\n",
       "    </tr>\n",
       "    <tr>\n",
       "      <th>56</th>\n",
       "      <td>57</td>\n",
       "      <td>15630053</td>\n",
       "      <td>Tsao</td>\n",
       "      <td>656</td>\n",
       "      <td>France</td>\n",
       "      <td>Male</td>\n",
       "      <td>45</td>\n",
       "      <td>5.0</td>\n",
       "      <td>127864.40</td>\n",
       "      <td>1</td>\n",
       "      <td>1</td>\n",
       "      <td>0</td>\n",
       "      <td>87107.57</td>\n",
       "      <td>0</td>\n",
       "    </tr>\n",
       "    <tr>\n",
       "      <th>57</th>\n",
       "      <td>58</td>\n",
       "      <td>15647091</td>\n",
       "      <td>Endrizzi</td>\n",
       "      <td>725</td>\n",
       "      <td>Germany</td>\n",
       "      <td>Male</td>\n",
       "      <td>19</td>\n",
       "      <td>0.0</td>\n",
       "      <td>75888.20</td>\n",
       "      <td>1</td>\n",
       "      <td>0</td>\n",
       "      <td>0</td>\n",
       "      <td>45613.75</td>\n",
       "      <td>0</td>\n",
       "    </tr>\n",
       "    <tr>\n",
       "      <th>58</th>\n",
       "      <td>59</td>\n",
       "      <td>15623944</td>\n",
       "      <td>T'ien</td>\n",
       "      <td>511</td>\n",
       "      <td>Spain</td>\n",
       "      <td>Female</td>\n",
       "      <td>66</td>\n",
       "      <td>4.0</td>\n",
       "      <td>0.00</td>\n",
       "      <td>1</td>\n",
       "      <td>1</td>\n",
       "      <td>0</td>\n",
       "      <td>1643.11</td>\n",
       "      <td>1</td>\n",
       "    </tr>\n",
       "    <tr>\n",
       "      <th>59</th>\n",
       "      <td>60</td>\n",
       "      <td>15804771</td>\n",
       "      <td>Velazquez</td>\n",
       "      <td>614</td>\n",
       "      <td>France</td>\n",
       "      <td>Male</td>\n",
       "      <td>51</td>\n",
       "      <td>4.0</td>\n",
       "      <td>40685.92</td>\n",
       "      <td>1</td>\n",
       "      <td>1</td>\n",
       "      <td>1</td>\n",
       "      <td>46775.28</td>\n",
       "      <td>0</td>\n",
       "    </tr>\n",
       "    <tr>\n",
       "      <th>60</th>\n",
       "      <td>61</td>\n",
       "      <td>15651280</td>\n",
       "      <td>Hunter</td>\n",
       "      <td>742</td>\n",
       "      <td>Germany</td>\n",
       "      <td>Male</td>\n",
       "      <td>35</td>\n",
       "      <td>5.0</td>\n",
       "      <td>136857.00</td>\n",
       "      <td>1</td>\n",
       "      <td>0</td>\n",
       "      <td>0</td>\n",
       "      <td>84509.57</td>\n",
       "      <td>0</td>\n",
       "    </tr>\n",
       "  </tbody>\n",
       "</table>\n",
       "</div>"
      ],
      "text/plain": [
       "    row_number  customer_id        surname  credit_score geography  gender  \\\n",
       "29          30     15656300       Lucciano           411    France    Male   \n",
       "30          31     15589475        Azikiwe           591     Spain  Female   \n",
       "31          32     15706552  Odinakachukwu           533    France    Male   \n",
       "32          33     15750181      Sanderson           553   Germany    Male   \n",
       "33          34     15659428        Maggard           520     Spain  Female   \n",
       "34          35     15732963       Clements           722     Spain  Female   \n",
       "35          36     15794171       Lombardo           475    France  Female   \n",
       "36          37     15788448         Watson           490     Spain    Male   \n",
       "37          38     15729599        Lorenzo           804     Spain    Male   \n",
       "38          39     15717426      Armstrong           850    France    Male   \n",
       "39          40     15585768        Cameron           582   Germany    Male   \n",
       "40          41     15619360          Hsiao           472     Spain    Male   \n",
       "41          42     15738148         Clarke           465    France  Female   \n",
       "42          43     15687946        Osborne           556    France  Female   \n",
       "43          44     15755196         Lavine           834    France  Female   \n",
       "44          45     15684171        Bianchi           660     Spain  Female   \n",
       "45          46     15754849          Tyler           776   Germany  Female   \n",
       "46          47     15602280         Martin           829   Germany  Female   \n",
       "47          48     15771573        Okagbue           637   Germany  Female   \n",
       "48          49     15766205            Yin           550   Germany    Male   \n",
       "49          50     15771873         Buccho           776   Germany  Female   \n",
       "50          51     15616550     Chidiebele           698   Germany    Male   \n",
       "51          52     15768193      Trevisani           585   Germany    Male   \n",
       "52          53     15683553        O'Brien           788    France  Female   \n",
       "53          54     15702298       Parkhill           655   Germany    Male   \n",
       "54          55     15569590            Yoo           601   Germany    Male   \n",
       "55          56     15760861      Phillipps           619    France    Male   \n",
       "56          57     15630053           Tsao           656    France    Male   \n",
       "57          58     15647091       Endrizzi           725   Germany    Male   \n",
       "58          59     15623944          T'ien           511     Spain  Female   \n",
       "59          60     15804771      Velazquez           614    France    Male   \n",
       "60          61     15651280         Hunter           742   Germany    Male   \n",
       "\n",
       "    age  tenure    balance  num_of_products  has_cr_card  is_active_member  \\\n",
       "29   29     0.0   59697.17                2            1                 1   \n",
       "30   39     5.0       0.00                3            1                 0   \n",
       "31   36     7.0   85311.70                1            0                 1   \n",
       "32   41     9.0  110112.54                2            0                 0   \n",
       "33   42     6.0       0.00                2            1                 1   \n",
       "34   29     9.0       0.00                2            1                 1   \n",
       "35   45     0.0  134264.04                1            1                 0   \n",
       "36   31     3.0  145260.23                1            0                 1   \n",
       "37   33     7.0   76548.60                1            0                 1   \n",
       "38   36     7.0       0.00                1            1                 1   \n",
       "39   41     6.0   70349.48                2            0                 1   \n",
       "40   40     4.0       0.00                1            1                 0   \n",
       "41   51     8.0  122522.32                1            0                 0   \n",
       "42   61     2.0  117419.35                1            1                 1   \n",
       "43   49     2.0  131394.56                1            0                 0   \n",
       "44   61     5.0  155931.11                1            1                 1   \n",
       "45   32     4.0  109421.13                2            1                 1   \n",
       "46   27     9.0  112045.67                1            1                 1   \n",
       "47   39     9.0  137843.80                1            1                 1   \n",
       "48   38     5.0  103391.38                1            0                 1   \n",
       "49   37     2.0  103769.22                2            1                 0   \n",
       "50   44    10.0  116363.37                2            1                 0   \n",
       "51   36     5.0  146050.97                2            0                 0   \n",
       "52   33     5.0       0.00                2            0                 0   \n",
       "53   41     5.0  125561.97                1            0                 0   \n",
       "54   42     1.0   98495.72                1            1                 0   \n",
       "55   43     1.0  125211.92                1            1                 1   \n",
       "56   45     5.0  127864.40                1            1                 0   \n",
       "57   19     0.0   75888.20                1            0                 0   \n",
       "58   66     4.0       0.00                1            1                 0   \n",
       "59   51     4.0   40685.92                1            1                 1   \n",
       "60   35     5.0  136857.00                1            0                 0   \n",
       "\n",
       "    estimated_salary  exited  \n",
       "29          53483.21       0  \n",
       "30         140469.38       1  \n",
       "31         156731.91       0  \n",
       "32          81898.81       0  \n",
       "33          34410.55       0  \n",
       "34         142033.07       0  \n",
       "35          27822.99       1  \n",
       "36         114066.77       0  \n",
       "37          98453.45       0  \n",
       "38          40812.90       0  \n",
       "39         178074.04       0  \n",
       "40          70154.22       0  \n",
       "41         181297.65       1  \n",
       "42          94153.83       0  \n",
       "43         194365.76       1  \n",
       "44         158338.39       0  \n",
       "45         126517.46       0  \n",
       "46         119708.21       1  \n",
       "47         117622.80       1  \n",
       "48          90878.13       0  \n",
       "49         194099.12       0  \n",
       "50         198059.16       0  \n",
       "51          86424.57       0  \n",
       "52         116978.19       0  \n",
       "53         164040.94       1  \n",
       "54          40014.76       1  \n",
       "55         113410.49       0  \n",
       "56          87107.57       0  \n",
       "57          45613.75       0  \n",
       "58           1643.11       1  \n",
       "59          46775.28       0  \n",
       "60          84509.57       0  "
      ]
     },
     "metadata": {},
     "output_type": "display_data"
    },
    {
     "data": {
      "text/plain": [
       "(10000, 14)"
      ]
     },
     "execution_count": 5,
     "metadata": {},
     "output_type": "execute_result"
    }
   ],
   "source": [
    "print(df.isna().sum())\n",
    "# grp = df.groupby(['geography', 'age'])\n",
    "grp = df.groupby(['geography'])\n",
    "# grp = df.groupby(['age'])\n",
    "display(grp.aggregate(np.sum))\n",
    "df['tenure'] = grp.tenure.apply(lambda x: x.fillna(x.median()))\n",
    "print(df.isna().sum())\n",
    "display(df.loc[29:60])\n",
    "df.shape"
   ]
  },
  {
   "cell_type": "markdown",
   "metadata": {},
   "source": [
    "<font color='steelblue'><b>Комментарий ревьюера: </b></font> ⚠️ <br>\n",
    "<font color='darkorange'>Лучше не удалять пропуски, а заполнить из медианным значением по группам, например, медианным значением по возрасту и стране. Распределение не изменится и у нас останется больше данных.</font>"
   ]
  },
  {
   "cell_type": "markdown",
   "metadata": {},
   "source": [
    "<div class=\"alert alert-info\" style=\"background:#ffdbf1;color:#2e00ab\">\n",
    "<h5> Комментарий студента </h5>    \n",
    "    Код (Ввод[4]) , удаляющий 9,09% данных, я закоментировала ( хочу оставить себе для опыта) и оставила только данные с пропусками.\n",
    "    Пропуски заполнены медианными значениями [ 'tenure'] по странам [ 'geography'], так как наилучшие результаты метрик показала данная группировка.\n",
    "    Результаты по трем способам группировки данных для замены пропусков, приведены в конце работы.\n",
    "\n",
    "</div>"
   ]
  },
  {
   "cell_type": "markdown",
   "metadata": {},
   "source": [
    "<font color='steelblue'><b>Комментарий ревьюера v2: </b></font> ✔️ <br>\n",
    "<font color='green'>Хорошо. Это можно написать в одну строку:<br>\n",
    "df['tenure'] = df['tenure'].fillna(df.groupby(by=['geography'])['tenure'].transform('median'))\n",
    "</font>"
   ]
  },
  {
   "cell_type": "markdown",
   "metadata": {},
   "source": [
    "Данные содержат категориальные признаки (**'surname'**, **'geography'**, **'gender'**). \n",
    "\n",
    "Необходимо преобразование категориальных признаков в численные с помощью OHE (One-Hot Encoding - техника прямого кодирования, или отображения)"
   ]
  },
  {
   "cell_type": "markdown",
   "metadata": {},
   "source": [
    "<font color='steelblue'><b>Комментарий ревьюера: </b></font> ✔️ <br>\n",
    "<font color='green'>Хорошо.</font>"
   ]
  },
  {
   "cell_type": "markdown",
   "metadata": {
    "tags": []
   },
   "source": [
    "#### Целевой признак"
   ]
  },
  {
   "cell_type": "code",
   "execution_count": 6,
   "metadata": {},
   "outputs": [
    {
     "data": {
      "text/plain": [
       "<AxesSubplot:ylabel='exited'>"
      ]
     },
     "execution_count": 6,
     "metadata": {},
     "output_type": "execute_result"
    },
    {
     "data": {
      "image/png": "[encoded data removed]",
      "text/plain": [
       "<Figure size 432x288 with 1 Axes>"
      ]
     },
     "metadata": {},
     "output_type": "display_data"
    }
   ],
   "source": [
    "df['exited'].value_counts().plot(kind='pie', y='exited', legend=True)"
   ]
  },
  {
   "cell_type": "markdown",
   "metadata": {},
   "source": [
    "<font color='steelblue'><b>Комментарий ревьюера: </b>⚠️</font>  <br>\n",
    "<font color='darkorange'>Пожалуйста, опиши, что удалось узнать о целевом признаке. </font>"
   ]
  },
  {
   "cell_type": "markdown",
   "metadata": {},
   "source": [
    "<div class=\"alert alert-info\" style=\"background:#ffdbf1;color:#2e00ab\">\n",
    "<h5> Комментарий студента </h5>\n",
    "    \n",
    "Круговая диаграмм наглядно демонстрирует дисбаланс классов - положительных значений целевого признака менее четверти.\n",
    "\n",
    "</div>"
   ]
  },
  {
   "cell_type": "markdown",
   "metadata": {},
   "source": [
    "<font color='steelblue'><b>Комментарий ревьюера v2: </b></font> ✔️ <br>\n",
    "<font color='green'>Всё верно.</font>"
   ]
  },
  {
   "cell_type": "code",
   "execution_count": 7,
   "metadata": {},
   "outputs": [],
   "source": [
    "df.drop(columns=['row_number', 'customer_id', 'surname'], axis=1, inplace=True)"
   ]
  },
  {
   "cell_type": "markdown",
   "metadata": {},
   "source": [
    "<font color='steelblue'><b>Комментарий ревьюера: </b>⚠️</font>  <br>\n",
    "<font color='darkorange'>Верно, что удаляешь эти колонки. Пожалуйста, напиши пару слов о том, почему. </font>"
   ]
  },
  {
   "cell_type": "markdown",
   "metadata": {},
   "source": [
    "<div class=\"alert alert-info\" style=\"background:#ffdbf1;color:#2e00ab\">\n",
    "<h5> Комментарий студента </h5>\n",
    "    \n",
    "- 'row_number', 'customer_id' - порядковые типы данных, их значения уникальны.\n",
    "\n",
    "- 'surname' - номинальный тип\n",
    "\n",
    "- все три признака  не коррелируют с целевым признаком.\n",
    "\n",
    "</div>"
   ]
  },
  {
   "cell_type": "markdown",
   "metadata": {},
   "source": [
    "<font color='steelblue'><b>Комментарий ревьюера v2: </b></font> ✔️ <br>\n",
    "<font color='green'>Хорошо.</font>"
   ]
  },
  {
   "cell_type": "code",
   "execution_count": 8,
   "metadata": {},
   "outputs": [
    {
     "data": {
      "text/html": [
       "<div>\n",
       "<style scoped>\n",
       "    .dataframe tbody tr th:only-of-type {\n",
       "        vertical-align: middle;\n",
       "    }\n",
       "\n",
       "    .dataframe tbody tr th {\n",
       "        vertical-align: top;\n",
       "    }\n",
       "\n",
       "    .dataframe thead th {\n",
       "        text-align: right;\n",
       "    }\n",
       "</style>\n",
       "<table border=\"1\" class=\"dataframe\">\n",
       "  <thead>\n",
       "    <tr style=\"text-align: right;\">\n",
       "      <th></th>\n",
       "      <th>credit_score</th>\n",
       "      <th>age</th>\n",
       "      <th>tenure</th>\n",
       "      <th>balance</th>\n",
       "      <th>num_of_products</th>\n",
       "      <th>has_cr_card</th>\n",
       "      <th>is_active_member</th>\n",
       "      <th>estimated_salary</th>\n",
       "      <th>exited</th>\n",
       "      <th>geography_France</th>\n",
       "      <th>geography_Germany</th>\n",
       "      <th>geography_Spain</th>\n",
       "      <th>gender_Female</th>\n",
       "      <th>gender_Male</th>\n",
       "    </tr>\n",
       "  </thead>\n",
       "  <tbody>\n",
       "    <tr>\n",
       "      <th>0</th>\n",
       "      <td>619</td>\n",
       "      <td>42</td>\n",
       "      <td>2.0</td>\n",
       "      <td>0.00</td>\n",
       "      <td>1</td>\n",
       "      <td>1</td>\n",
       "      <td>1</td>\n",
       "      <td>101348.88</td>\n",
       "      <td>1</td>\n",
       "      <td>1</td>\n",
       "      <td>0</td>\n",
       "      <td>0</td>\n",
       "      <td>1</td>\n",
       "      <td>0</td>\n",
       "    </tr>\n",
       "    <tr>\n",
       "      <th>1</th>\n",
       "      <td>608</td>\n",
       "      <td>41</td>\n",
       "      <td>1.0</td>\n",
       "      <td>83807.86</td>\n",
       "      <td>1</td>\n",
       "      <td>0</td>\n",
       "      <td>1</td>\n",
       "      <td>112542.58</td>\n",
       "      <td>0</td>\n",
       "      <td>0</td>\n",
       "      <td>0</td>\n",
       "      <td>1</td>\n",
       "      <td>1</td>\n",
       "      <td>0</td>\n",
       "    </tr>\n",
       "    <tr>\n",
       "      <th>2</th>\n",
       "      <td>502</td>\n",
       "      <td>42</td>\n",
       "      <td>8.0</td>\n",
       "      <td>159660.80</td>\n",
       "      <td>3</td>\n",
       "      <td>1</td>\n",
       "      <td>0</td>\n",
       "      <td>113931.57</td>\n",
       "      <td>1</td>\n",
       "      <td>1</td>\n",
       "      <td>0</td>\n",
       "      <td>0</td>\n",
       "      <td>1</td>\n",
       "      <td>0</td>\n",
       "    </tr>\n",
       "    <tr>\n",
       "      <th>3</th>\n",
       "      <td>699</td>\n",
       "      <td>39</td>\n",
       "      <td>1.0</td>\n",
       "      <td>0.00</td>\n",
       "      <td>2</td>\n",
       "      <td>0</td>\n",
       "      <td>0</td>\n",
       "      <td>93826.63</td>\n",
       "      <td>0</td>\n",
       "      <td>1</td>\n",
       "      <td>0</td>\n",
       "      <td>0</td>\n",
       "      <td>1</td>\n",
       "      <td>0</td>\n",
       "    </tr>\n",
       "    <tr>\n",
       "      <th>4</th>\n",
       "      <td>850</td>\n",
       "      <td>43</td>\n",
       "      <td>2.0</td>\n",
       "      <td>125510.82</td>\n",
       "      <td>1</td>\n",
       "      <td>1</td>\n",
       "      <td>1</td>\n",
       "      <td>79084.10</td>\n",
       "      <td>0</td>\n",
       "      <td>0</td>\n",
       "      <td>0</td>\n",
       "      <td>1</td>\n",
       "      <td>1</td>\n",
       "      <td>0</td>\n",
       "    </tr>\n",
       "    <tr>\n",
       "      <th>...</th>\n",
       "      <td>...</td>\n",
       "      <td>...</td>\n",
       "      <td>...</td>\n",
       "      <td>...</td>\n",
       "      <td>...</td>\n",
       "      <td>...</td>\n",
       "      <td>...</td>\n",
       "      <td>...</td>\n",
       "      <td>...</td>\n",
       "      <td>...</td>\n",
       "      <td>...</td>\n",
       "      <td>...</td>\n",
       "      <td>...</td>\n",
       "      <td>...</td>\n",
       "    </tr>\n",
       "    <tr>\n",
       "      <th>9995</th>\n",
       "      <td>771</td>\n",
       "      <td>39</td>\n",
       "      <td>5.0</td>\n",
       "      <td>0.00</td>\n",
       "      <td>2</td>\n",
       "      <td>1</td>\n",
       "      <td>0</td>\n",
       "      <td>96270.64</td>\n",
       "      <td>0</td>\n",
       "      <td>1</td>\n",
       "      <td>0</td>\n",
       "      <td>0</td>\n",
       "      <td>0</td>\n",
       "      <td>1</td>\n",
       "    </tr>\n",
       "    <tr>\n",
       "      <th>9996</th>\n",
       "      <td>516</td>\n",
       "      <td>35</td>\n",
       "      <td>10.0</td>\n",
       "      <td>57369.61</td>\n",
       "      <td>1</td>\n",
       "      <td>1</td>\n",
       "      <td>1</td>\n",
       "      <td>101699.77</td>\n",
       "      <td>0</td>\n",
       "      <td>1</td>\n",
       "      <td>0</td>\n",
       "      <td>0</td>\n",
       "      <td>0</td>\n",
       "      <td>1</td>\n",
       "    </tr>\n",
       "    <tr>\n",
       "      <th>9997</th>\n",
       "      <td>709</td>\n",
       "      <td>36</td>\n",
       "      <td>7.0</td>\n",
       "      <td>0.00</td>\n",
       "      <td>1</td>\n",
       "      <td>0</td>\n",
       "      <td>1</td>\n",
       "      <td>42085.58</td>\n",
       "      <td>1</td>\n",
       "      <td>1</td>\n",
       "      <td>0</td>\n",
       "      <td>0</td>\n",
       "      <td>1</td>\n",
       "      <td>0</td>\n",
       "    </tr>\n",
       "    <tr>\n",
       "      <th>9998</th>\n",
       "      <td>772</td>\n",
       "      <td>42</td>\n",
       "      <td>3.0</td>\n",
       "      <td>75075.31</td>\n",
       "      <td>2</td>\n",
       "      <td>1</td>\n",
       "      <td>0</td>\n",
       "      <td>92888.52</td>\n",
       "      <td>1</td>\n",
       "      <td>0</td>\n",
       "      <td>1</td>\n",
       "      <td>0</td>\n",
       "      <td>0</td>\n",
       "      <td>1</td>\n",
       "    </tr>\n",
       "    <tr>\n",
       "      <th>9999</th>\n",
       "      <td>792</td>\n",
       "      <td>28</td>\n",
       "      <td>5.0</td>\n",
       "      <td>130142.79</td>\n",
       "      <td>1</td>\n",
       "      <td>1</td>\n",
       "      <td>0</td>\n",
       "      <td>38190.78</td>\n",
       "      <td>0</td>\n",
       "      <td>1</td>\n",
       "      <td>0</td>\n",
       "      <td>0</td>\n",
       "      <td>1</td>\n",
       "      <td>0</td>\n",
       "    </tr>\n",
       "  </tbody>\n",
       "</table>\n",
       "<p>10000 rows × 14 columns</p>\n",
       "</div>"
      ],
      "text/plain": [
       "      credit_score  age  tenure    balance  num_of_products  has_cr_card  \\\n",
       "0              619   42     2.0       0.00                1            1   \n",
       "1              608   41     1.0   83807.86                1            0   \n",
       "2              502   42     8.0  159660.80                3            1   \n",
       "3              699   39     1.0       0.00                2            0   \n",
       "4              850   43     2.0  125510.82                1            1   \n",
       "...            ...  ...     ...        ...              ...          ...   \n",
       "9995           771   39     5.0       0.00                2            1   \n",
       "9996           516   35    10.0   57369.61                1            1   \n",
       "9997           709   36     7.0       0.00                1            0   \n",
       "9998           772   42     3.0   75075.31                2            1   \n",
       "9999           792   28     5.0  130142.79                1            1   \n",
       "\n",
       "      is_active_member  estimated_salary  exited  geography_France  \\\n",
       "0                    1         101348.88       1                 1   \n",
       "1                    1         112542.58       0                 0   \n",
       "2                    0         113931.57       1                 1   \n",
       "3                    0          93826.63       0                 1   \n",
       "4                    1          79084.10       0                 0   \n",
       "...                ...               ...     ...               ...   \n",
       "9995                 0          96270.64       0                 1   \n",
       "9996                 1         101699.77       0                 1   \n",
       "9997                 1          42085.58       1                 1   \n",
       "9998                 0          92888.52       1                 0   \n",
       "9999                 0          38190.78       0                 1   \n",
       "\n",
       "      geography_Germany  geography_Spain  gender_Female  gender_Male  \n",
       "0                     0                0              1            0  \n",
       "1                     0                1              1            0  \n",
       "2                     0                0              1            0  \n",
       "3                     0                0              1            0  \n",
       "4                     0                1              1            0  \n",
       "...                 ...              ...            ...          ...  \n",
       "9995                  0                0              0            1  \n",
       "9996                  0                0              0            1  \n",
       "9997                  0                0              1            0  \n",
       "9998                  1                0              0            1  \n",
       "9999                  0                0              1            0  \n",
       "\n",
       "[10000 rows x 14 columns]"
      ]
     },
     "metadata": {},
     "output_type": "display_data"
    }
   ],
   "source": [
    "# преобразование категориальных признаков в численные с помощью One-Hot Encoding\n",
    "df_ohe = pd.get_dummies(df, drop_first=False)\n",
    "display(df_ohe)"
   ]
  },
  {
   "cell_type": "markdown",
   "metadata": {},
   "source": [
    "<font color='steelblue'><b>Комментарий ревьюера: </b></font> ✔️ <br>\n",
    "<font color='green'>Использовать OHE — отличная идея.</font>"
   ]
  },
  {
   "cell_type": "markdown",
   "metadata": {},
   "source": [
    "<font color='steelblue'><b>Комментарий ревьюера v2: </b></font> ✔️ <br>\n",
    "<font color='green'>Тут лучше drop_first=True, чтобы новые колонки не коррелировали друг с другом.</font>"
   ]
  },
  {
   "cell_type": "code",
   "execution_count": 9,
   "metadata": {},
   "outputs": [],
   "source": [
    "def make_target_features(data, target_column='exited'):\n",
    "    target = data[target_column]\n",
    "    features = data.drop(target_column, axis=1)\n",
    "    return target, features\n",
    "\n",
    "rand_state = 12345\n",
    "def split_scal_data(features, target):\n",
    "    features_train, features_valid, target_train, target_valid = train_test_split(\n",
    "        features, target, test_size=0.199978, random_state=rand_state)\n",
    "\n",
    "    features_train, features_test, target_train, target_test = train_test_split(\n",
    "        features_train, target_train, test_size=0.249965626, random_state=rand_state, shuffle=False)\n",
    "     # Масштабирование численных признаков методом стандартизации данных\n",
    "    numeric = ['credit_score', 'age', 'tenure', 'balance', 'num_of_products', 'estimated_salary']\n",
    "    scaler = StandardScaler()\n",
    "    scaler.fit(features_train[numeric]) \n",
    "\n",
    "    features_train[numeric] = scaler.transform(features_train[numeric])\n",
    "    features_valid[numeric] = scaler.transform(features_valid[numeric]) \n",
    "    features_test[numeric] = scaler.transform(features_test[numeric])\n",
    "    return features_train, features_valid, features_test, target_train, target_valid, target_test"
   ]
  },
  {
   "cell_type": "markdown",
   "metadata": {},
   "source": [
    "<font color='steelblue'><b>Комментарий ревьюера v2: </b>⚠️</font>  <br>\n",
    "<font color='darkorange'>Лучше бы поменять значения test_size в функции split_scal_data на 0.2 и 0.25 соответственно, эти выглядят странно.\n",
    "</font>"
   ]
  },
  {
   "cell_type": "code",
   "execution_count": 10,
   "metadata": {},
   "outputs": [
    {
     "data": {
      "text/html": [
       "<div>\n",
       "<style scoped>\n",
       "    .dataframe tbody tr th:only-of-type {\n",
       "        vertical-align: middle;\n",
       "    }\n",
       "\n",
       "    .dataframe tbody tr th {\n",
       "        vertical-align: top;\n",
       "    }\n",
       "\n",
       "    .dataframe thead th {\n",
       "        text-align: right;\n",
       "    }\n",
       "</style>\n",
       "<table border=\"1\" class=\"dataframe\">\n",
       "  <thead>\n",
       "    <tr style=\"text-align: right;\">\n",
       "      <th></th>\n",
       "      <th>credit_score</th>\n",
       "      <th>age</th>\n",
       "      <th>tenure</th>\n",
       "      <th>balance</th>\n",
       "      <th>num_of_products</th>\n",
       "      <th>has_cr_card</th>\n",
       "      <th>is_active_member</th>\n",
       "      <th>estimated_salary</th>\n",
       "      <th>geography_France</th>\n",
       "      <th>geography_Germany</th>\n",
       "      <th>geography_Spain</th>\n",
       "      <th>gender_Female</th>\n",
       "      <th>gender_Male</th>\n",
       "    </tr>\n",
       "  </thead>\n",
       "  <tbody>\n",
       "    <tr>\n",
       "      <th>454</th>\n",
       "      <td>1.106233</td>\n",
       "      <td>0.024139</td>\n",
       "      <td>0.369420</td>\n",
       "      <td>0.827373</td>\n",
       "      <td>-0.903118</td>\n",
       "      <td>0</td>\n",
       "      <td>1</td>\n",
       "      <td>-0.771197</td>\n",
       "      <td>1</td>\n",
       "      <td>0</td>\n",
       "      <td>0</td>\n",
       "      <td>1</td>\n",
       "      <td>0</td>\n",
       "    </tr>\n",
       "    <tr>\n",
       "      <th>8307</th>\n",
       "      <td>-0.333797</td>\n",
       "      <td>-0.837381</td>\n",
       "      <td>-0.717998</td>\n",
       "      <td>0.931047</td>\n",
       "      <td>-0.903118</td>\n",
       "      <td>1</td>\n",
       "      <td>1</td>\n",
       "      <td>-1.206655</td>\n",
       "      <td>1</td>\n",
       "      <td>0</td>\n",
       "      <td>0</td>\n",
       "      <td>0</td>\n",
       "      <td>1</td>\n",
       "    </tr>\n",
       "    <tr>\n",
       "      <th>4811</th>\n",
       "      <td>-0.776092</td>\n",
       "      <td>-1.220279</td>\n",
       "      <td>0.731893</td>\n",
       "      <td>-1.208208</td>\n",
       "      <td>0.820938</td>\n",
       "      <td>1</td>\n",
       "      <td>0</td>\n",
       "      <td>0.196438</td>\n",
       "      <td>0</td>\n",
       "      <td>0</td>\n",
       "      <td>1</td>\n",
       "      <td>1</td>\n",
       "      <td>0</td>\n",
       "    </tr>\n",
       "  </tbody>\n",
       "</table>\n",
       "</div>"
      ],
      "text/plain": [
       "      credit_score       age    tenure   balance  num_of_products  \\\n",
       "454       1.106233  0.024139  0.369420  0.827373        -0.903118   \n",
       "8307     -0.333797 -0.837381 -0.717998  0.931047        -0.903118   \n",
       "4811     -0.776092 -1.220279  0.731893 -1.208208         0.820938   \n",
       "\n",
       "      has_cr_card  is_active_member  estimated_salary  geography_France  \\\n",
       "454             0                 1         -0.771197                 1   \n",
       "8307            1                 1         -1.206655                 1   \n",
       "4811            1                 0          0.196438                 0   \n",
       "\n",
       "      geography_Germany  geography_Spain  gender_Female  gender_Male  \n",
       "454                   0                0              1            0  \n",
       "8307                  0                0              0            1  \n",
       "4811                  0                1              1            0  "
      ]
     },
     "metadata": {},
     "output_type": "display_data"
    },
    {
     "data": {
      "text/plain": [
       "(6000, 13)"
      ]
     },
     "metadata": {},
     "output_type": "display_data"
    },
    {
     "data": {
      "text/html": [
       "<div>\n",
       "<style scoped>\n",
       "    .dataframe tbody tr th:only-of-type {\n",
       "        vertical-align: middle;\n",
       "    }\n",
       "\n",
       "    .dataframe tbody tr th {\n",
       "        vertical-align: top;\n",
       "    }\n",
       "\n",
       "    .dataframe thead th {\n",
       "        text-align: right;\n",
       "    }\n",
       "</style>\n",
       "<table border=\"1\" class=\"dataframe\">\n",
       "  <thead>\n",
       "    <tr style=\"text-align: right;\">\n",
       "      <th></th>\n",
       "      <th>credit_score</th>\n",
       "      <th>age</th>\n",
       "      <th>tenure</th>\n",
       "      <th>balance</th>\n",
       "      <th>num_of_products</th>\n",
       "      <th>has_cr_card</th>\n",
       "      <th>is_active_member</th>\n",
       "      <th>estimated_salary</th>\n",
       "      <th>geography_France</th>\n",
       "      <th>geography_Germany</th>\n",
       "      <th>geography_Spain</th>\n",
       "      <th>gender_Female</th>\n",
       "      <th>gender_Male</th>\n",
       "    </tr>\n",
       "  </thead>\n",
       "  <tbody>\n",
       "    <tr>\n",
       "      <th>7867</th>\n",
       "      <td>-0.107507</td>\n",
       "      <td>0.694210</td>\n",
       "      <td>-0.717998</td>\n",
       "      <td>-1.208208</td>\n",
       "      <td>-0.903118</td>\n",
       "      <td>1</td>\n",
       "      <td>1</td>\n",
       "      <td>0.953384</td>\n",
       "      <td>0</td>\n",
       "      <td>0</td>\n",
       "      <td>1</td>\n",
       "      <td>1</td>\n",
       "      <td>0</td>\n",
       "    </tr>\n",
       "    <tr>\n",
       "      <th>1402</th>\n",
       "      <td>1.095947</td>\n",
       "      <td>-0.933106</td>\n",
       "      <td>1.094366</td>\n",
       "      <td>0.874503</td>\n",
       "      <td>-0.903118</td>\n",
       "      <td>1</td>\n",
       "      <td>0</td>\n",
       "      <td>-0.409746</td>\n",
       "      <td>1</td>\n",
       "      <td>0</td>\n",
       "      <td>0</td>\n",
       "      <td>0</td>\n",
       "      <td>1</td>\n",
       "    </tr>\n",
       "    <tr>\n",
       "      <th>8606</th>\n",
       "      <td>1.610244</td>\n",
       "      <td>0.311312</td>\n",
       "      <td>0.006947</td>\n",
       "      <td>-1.208208</td>\n",
       "      <td>0.820938</td>\n",
       "      <td>1</td>\n",
       "      <td>1</td>\n",
       "      <td>-0.454182</td>\n",
       "      <td>0</td>\n",
       "      <td>0</td>\n",
       "      <td>1</td>\n",
       "      <td>0</td>\n",
       "      <td>1</td>\n",
       "    </tr>\n",
       "  </tbody>\n",
       "</table>\n",
       "</div>"
      ],
      "text/plain": [
       "      credit_score       age    tenure   balance  num_of_products  \\\n",
       "7867     -0.107507  0.694210 -0.717998 -1.208208        -0.903118   \n",
       "1402      1.095947 -0.933106  1.094366  0.874503        -0.903118   \n",
       "8606      1.610244  0.311312  0.006947 -1.208208         0.820938   \n",
       "\n",
       "      has_cr_card  is_active_member  estimated_salary  geography_France  \\\n",
       "7867            1                 1          0.953384                 0   \n",
       "1402            1                 0         -0.409746                 1   \n",
       "8606            1                 1         -0.454182                 0   \n",
       "\n",
       "      geography_Germany  geography_Spain  gender_Female  gender_Male  \n",
       "7867                  0                1              1            0  \n",
       "1402                  0                0              0            1  \n",
       "8606                  0                1              0            1  "
      ]
     },
     "metadata": {},
     "output_type": "display_data"
    },
    {
     "data": {
      "text/plain": [
       "(2000, 13)"
      ]
     },
     "metadata": {},
     "output_type": "display_data"
    },
    {
     "data": {
      "text/html": [
       "<div>\n",
       "<style scoped>\n",
       "    .dataframe tbody tr th:only-of-type {\n",
       "        vertical-align: middle;\n",
       "    }\n",
       "\n",
       "    .dataframe tbody tr th {\n",
       "        vertical-align: top;\n",
       "    }\n",
       "\n",
       "    .dataframe thead th {\n",
       "        text-align: right;\n",
       "    }\n",
       "</style>\n",
       "<table border=\"1\" class=\"dataframe\">\n",
       "  <thead>\n",
       "    <tr style=\"text-align: right;\">\n",
       "      <th></th>\n",
       "      <th>credit_score</th>\n",
       "      <th>age</th>\n",
       "      <th>tenure</th>\n",
       "      <th>balance</th>\n",
       "      <th>num_of_products</th>\n",
       "      <th>has_cr_card</th>\n",
       "      <th>is_active_member</th>\n",
       "      <th>estimated_salary</th>\n",
       "      <th>geography_France</th>\n",
       "      <th>geography_Germany</th>\n",
       "      <th>geography_Spain</th>\n",
       "      <th>gender_Female</th>\n",
       "      <th>gender_Male</th>\n",
       "    </tr>\n",
       "  </thead>\n",
       "  <tbody>\n",
       "    <tr>\n",
       "      <th>3417</th>\n",
       "      <td>-0.395513</td>\n",
       "      <td>0.311312</td>\n",
       "      <td>1.819311</td>\n",
       "      <td>-0.001518</td>\n",
       "      <td>-0.903118</td>\n",
       "      <td>0</td>\n",
       "      <td>0</td>\n",
       "      <td>0.839592</td>\n",
       "      <td>1</td>\n",
       "      <td>0</td>\n",
       "      <td>0</td>\n",
       "      <td>1</td>\n",
       "      <td>0</td>\n",
       "    </tr>\n",
       "    <tr>\n",
       "      <th>2581</th>\n",
       "      <td>0.550793</td>\n",
       "      <td>-0.741657</td>\n",
       "      <td>0.006947</td>\n",
       "      <td>-1.208208</td>\n",
       "      <td>0.820938</td>\n",
       "      <td>1</td>\n",
       "      <td>0</td>\n",
       "      <td>1.416664</td>\n",
       "      <td>1</td>\n",
       "      <td>0</td>\n",
       "      <td>0</td>\n",
       "      <td>0</td>\n",
       "      <td>1</td>\n",
       "    </tr>\n",
       "    <tr>\n",
       "      <th>7574</th>\n",
       "      <td>1.013660</td>\n",
       "      <td>-0.550208</td>\n",
       "      <td>-1.442944</td>\n",
       "      <td>-0.019284</td>\n",
       "      <td>-0.903118</td>\n",
       "      <td>1</td>\n",
       "      <td>0</td>\n",
       "      <td>-1.401157</td>\n",
       "      <td>1</td>\n",
       "      <td>0</td>\n",
       "      <td>0</td>\n",
       "      <td>1</td>\n",
       "      <td>0</td>\n",
       "    </tr>\n",
       "  </tbody>\n",
       "</table>\n",
       "</div>"
      ],
      "text/plain": [
       "      credit_score       age    tenure   balance  num_of_products  \\\n",
       "3417     -0.395513  0.311312  1.819311 -0.001518        -0.903118   \n",
       "2581      0.550793 -0.741657  0.006947 -1.208208         0.820938   \n",
       "7574      1.013660 -0.550208 -1.442944 -0.019284        -0.903118   \n",
       "\n",
       "      has_cr_card  is_active_member  estimated_salary  geography_France  \\\n",
       "3417            0                 0          0.839592                 1   \n",
       "2581            1                 0          1.416664                 1   \n",
       "7574            1                 0         -1.401157                 1   \n",
       "\n",
       "      geography_Germany  geography_Spain  gender_Female  gender_Male  \n",
       "3417                  0                0              1            0  \n",
       "2581                  0                0              0            1  \n",
       "7574                  0                0              1            0  "
      ]
     },
     "metadata": {},
     "output_type": "display_data"
    },
    {
     "data": {
      "text/plain": [
       "(2000, 13)"
      ]
     },
     "metadata": {},
     "output_type": "display_data"
    }
   ],
   "source": [
    "target, features = make_target_features(df_ohe, target_column='exited')\n",
    "\n",
    "features_train, features_valid, features_test, target_train, target_valid, target_test = split_scal_data(\n",
    "    features, target\n",
    ")\n",
    "\n",
    "\n",
    "display(features_train.head(3), features_train.shape, features_valid.head(3),\n",
    "        features_valid.shape, features_test.head(3), features_test.shape\n",
    ")"
   ]
  },
  {
   "cell_type": "markdown",
   "metadata": {},
   "source": [
    "<font color='steelblue'><b>Комментарий ревьюера v2: </b><br>\n",
    "Чтобы не появлялись такие вот красные ячейки с предупреждениями, нужно импортировать warnings\n",
    "и задать warnings.filterwarnings('ignore')</font>"
   ]
  },
  {
   "cell_type": "markdown",
   "metadata": {},
   "source": [
    "<font color='steelblue'><b>Комментарий ревьюера: </b></font> ✔️ <br>\n",
    "<font color='green'>Всё верно. Хорошо, что для масштабирования fit только на train, а transform train, valid, test.</font>"
   ]
  },
  {
   "cell_type": "code",
   "execution_count": 11,
   "metadata": {
    "tags": []
   },
   "outputs": [
    {
     "name": "stdout",
     "output_type": "stream",
     "text": [
      "0    0.8015\n",
      "1    0.1985\n",
      "dtype: float64\n"
     ]
    },
    {
     "data": {
      "image/png": "[encoded data removed]",
      "text/plain": [
       "<Figure size 288x288 with 1 Axes>"
      ]
     },
     "metadata": {},
     "output_type": "display_data"
    }
   ],
   "source": [
    "# создание пустой модели и сохранение её в переменной структуры данных DecisionTreeClassifier\n",
    "model = DecisionTreeClassifier(random_state=rand_state)\n",
    "# обучение модели \n",
    "model.fit(features_train, target_train)\n",
    "# расчёт предсказания ответов на обучающей выборке \n",
    "predicted_valid = model.predict(features_valid)\n",
    "\n",
    "accuracy_valid = accuracy_score(target_valid, predicted_valid) \n",
    "\n",
    "# для работы функции value_counts(),преобразуем результат к pd.Series \n",
    "predicted_valid = pd.Series(model.predict(features_valid))\n",
    "\n",
    "# анализ частоты классов в результатах предсказаний решающего дерева \n",
    "class_frequency = predicted_valid.value_counts(normalize=True)\n",
    "print(class_frequency)\n",
    "\n",
    "class_frequency.plot.pie(legend=True, labeldistance=1.2, autopct='%1.2f%%', figsize=(4,4), \n",
    "                title='Соотношение классов по факту ухода клиентов'\n",
    ")\n",
    "plt.show()\n",
    "\n",
    "# df['exited'].value_counts().plot(kind='pie', utopct='%1.2f%%', legend=True)"
   ]
  },
  {
   "cell_type": "code",
   "execution_count": 12,
   "metadata": {},
   "outputs": [],
   "source": [
    "def train_and_predict(model, samplefunc=None, test=False, repeat=None):\n",
    "  \n",
    "\n",
    "    #global features_train, target_train\n",
    "    features = features_train\n",
    "    target = target_train\n",
    "\n",
    "    if samplefunc:\n",
    "        features, target = samplefunc(repeat)\n",
    "\n",
    "    \n",
    "    model.fit(features, target)  # обучение\n",
    "    predicted_valid = model.predict(features_valid)# расчёт предсказания ответов на валидационной выборке\n",
    "    f1 = f1_score(target_valid, predicted_valid)\n",
    "    \n",
    "    if test:\n",
    "        predictions_test = model.predict(features_test)\n",
    "        f1 = f1_score(target_test, predictions_test)\n",
    "        return f1\n",
    "    \n",
    "    return f1"
   ]
  },
  {
   "cell_type": "markdown",
   "metadata": {},
   "source": [
    "<font color='steelblue'><b>Комментарий ревьюера: </b></font> ✔️ <br>\n",
    "<font color='green'>Здорово, что пишешь функцию, а не повторяешь код.</font>\n"
   ]
  },
  {
   "cell_type": "markdown",
   "metadata": {
    "tags": []
   },
   "source": [
    "## Исследование задачи"
   ]
  },
  {
   "cell_type": "markdown",
   "metadata": {},
   "source": [
    "Пороверка на адекватность. "
   ]
  },
  {
   "cell_type": "code",
   "execution_count": 13,
   "metadata": {},
   "outputs": [
    {
     "name": "stdout",
     "output_type": "stream",
     "text": [
      "Доля правильных ответов константной модели =  0.7963\n",
      "Доля правильных ответов дерева решений =  0.794\n"
     ]
    }
   ],
   "source": [
    "# Создание константной модели: любому объекту она прогнозирует класс «0».\n",
    "target_pred_constant = pd.Series(0, index=target.index)\n",
    "print('Доля правильных ответов константной модели = ', accuracy_score(target, target_pred_constant)) \n",
    "print('Доля правильных ответов дерева решений = ',accuracy_valid)\n"
   ]
  },
  {
   "cell_type": "markdown",
   "metadata": {},
   "source": [
    "<font color='steelblue'><b>Комментарий ревьюера: </b></font> ✔️ <br>\n",
    "<font color='green'>Хорошо. Можно использовать sklearn.dummy.DummyClassifier.</font>"
   ]
  },
  {
   "cell_type": "markdown",
   "metadata": {},
   "source": [
    "Аccuracy решающего дерева и константной модели почти одинаковы.\n",
    "\n",
    "Наблюдается сильный дисбаланс классов, что плохо сказывается на обучении модели. Соотношение клиентов оставшихся в банке и клиентов расторгнувших договор с банком составляет  80 : 20."
   ]
  },
  {
   "cell_type": "code",
   "execution_count": 14,
   "metadata": {},
   "outputs": [
    {
     "name": "stdout",
     "output_type": "stream",
     "text": [
      "[[1382  191]\n",
      " [ 221  206]]\n"
     ]
    }
   ],
   "source": [
    "# Матрица ошибок\n",
    "print(confusion_matrix(target_valid, predicted_valid))"
   ]
  },
  {
   "cell_type": "markdown",
   "metadata": {},
   "source": [
    "TN (1262) — это количество клиентов, которые:\n",
    "•\tпо прогнозу модели  не прекратили сотрудничество с банком;\n",
    "•\tпо факту не ушли из банка.\n",
    "\n",
    "TP (195) — это количество клиентов, которые:\n",
    "•\tпо прогнозу модели прекратили сотрудничество с банком;\n",
    "•\tпо факту ушли из банка.\n",
    "\n",
    "\n",
    "FP (187) — это количество клиентов, которые:\n",
    "•\tпо прогнозу модели  прекратили сотрудничество с банком;\n",
    "•\tпо факту не ушли из банка.\n",
    "\n",
    "FN (174) — это количество клиентов, которые:\n",
    "•\tпо прогнозу модели  не прекратили сотрудничество с банком;\n",
    "•\tпо факту ушли из банка."
   ]
  },
  {
   "cell_type": "markdown",
   "metadata": {
    "jp-MarkdownHeadingCollapsed": true,
    "tags": []
   },
   "source": [
    "#### LogisticRegression"
   ]
  },
  {
   "cell_type": "code",
   "execution_count": 15,
   "metadata": {},
   "outputs": [
    {
     "name": "stdout",
     "output_type": "stream",
     "text": [
      "_______________________________________________\n",
      "F1_valid: 0.2785714285714286\n"
     ]
    }
   ],
   "source": [
    "model = LogisticRegression(solver='liblinear', random_state=rand_state)\n",
    "f1 = train_and_predict(model, samplefunc=None, test=False)\n",
    "\n",
    "print('_______________________________________________')\n",
    "print(f'F1_valid: {f1}')"
   ]
  },
  {
   "cell_type": "markdown",
   "metadata": {
    "tags": []
   },
   "source": [
    "#### DecisionTreeClassifier"
   ]
  },
  {
   "cell_type": "code",
   "execution_count": 16,
   "metadata": {},
   "outputs": [
    {
     "name": "stdout",
     "output_type": "stream",
     "text": [
      "max_depth 2:\t F1_valid: 0.5272969374167776\n",
      "max_depth 3:\t F1_valid: 0.4113475177304965\n",
      "max_depth 4:\t F1_valid: 0.42807017543859643\n",
      "max_depth 5:\t F1_valid: 0.5625000000000001\n",
      "max_depth 6:\t F1_valid: 0.5088\n",
      "max_depth 7:\t F1_valid: 0.5634218289085545\n",
      "max_depth 8:\t F1_valid: 0.5475177304964539\n",
      "max_depth 9:\t F1_valid: 0.5517241379310345\n",
      "_______________________________________________\n",
      "The best of F1_valid: 0.5634218289085545, depth - 7\n"
     ]
    }
   ],
   "source": [
    "def desision_tree_depth(class_weight=None, samplefunc=None, repeat=None):\n",
    "    best_model = None\n",
    "    best_depth = 0\n",
    "    best_result = 0\n",
    "    for max_depth in range(2, 10):\n",
    "        model = DecisionTreeClassifier(\n",
    "            \n",
    "            class_weight=class_weight,\n",
    "            max_depth=max_depth, \n",
    "            random_state=rand_state\n",
    "            )\n",
    "        \n",
    "        result = train_and_predict(\n",
    "            model, \n",
    "            samplefunc=samplefunc, \n",
    "            repeat=repeat\n",
    "            )\n",
    "        \n",
    "        if result > best_result:\n",
    "            best_model = model\n",
    "            best_result = result\n",
    "            best_depth = max_depth\n",
    "        print(f'max_depth {max_depth}:\\t F1_valid: {result}')\n",
    "    return best_result, best_depth\n",
    "\n",
    "best_result, best_depth = desision_tree_depth()\n",
    "print('_______________________________________________')\n",
    "print(f'The best of F1_valid: {best_result}, depth - {best_depth}')"
   ]
  },
  {
   "cell_type": "markdown",
   "metadata": {},
   "source": [
    "<font color='steelblue'><b>Комментарий ревьюера: </b></font> ✔️ <br>\n",
    "<font color='green'>Молодец, что ищешь лучшие гиперпараметры.</font>"
   ]
  },
  {
   "cell_type": "markdown",
   "metadata": {
    "tags": []
   },
   "source": [
    "#### RandomForestClassifier"
   ]
  },
  {
   "cell_type": "code",
   "execution_count": 17,
   "metadata": {},
   "outputs": [
    {
     "name": "stdout",
     "output_type": "stream",
     "text": [
      "F1_valid: 0.11868131868131869, n_estimators - 31  depth: 2\n",
      "F1_valid: 0.2840466926070039, n_estimators - 37  depth: 4\n",
      "F1_valid: 0.44670050761421315, n_estimators - 18  depth: 6\n",
      "F1_valid: 0.48604269293924474, n_estimators - 38  depth: 8\n",
      "F1_valid: 0.5493171471927162, n_estimators - 9  depth: 10\n",
      "F1_valid: 0.5398773006134968, n_estimators - 20  depth: 12\n",
      "F1_valid: 0.5503759398496241, n_estimators - 39  depth: 14\n",
      "_______________________________________________\n",
      "The best of F1_valid: 0.5503759398496241, n_estimators - 39 best depth: 14\n"
     ]
    }
   ],
   "source": [
    "def random_f_estimate(max_depth, class_weight=None, samplefunc=None, repeat=None):    \n",
    "\n",
    "    best_n_estimators = 0\n",
    "    best_result = 0\n",
    "    for est in range(2, 40, 1):\n",
    "        model = RandomForestClassifier(\n",
    "            \n",
    "            class_weight=class_weight,\n",
    "            n_estimators=est,\n",
    "            max_depth=max_depth,\n",
    "            random_state=rand_state,\n",
    "            n_jobs=8\n",
    "            \n",
    "        )\n",
    "        result = train_and_predict(model,samplefunc=samplefunc, repeat=repeat)\n",
    "        if result > best_result:\n",
    "            best_result = result\n",
    "            best_n_estimators = est\n",
    "    \n",
    "    return best_result, best_n_estimators\n",
    "\n",
    "\n",
    "best_result = 0\n",
    "result = 0\n",
    "best_depth = 0\n",
    "best_n_estimate = 0\n",
    "for max_depth in range(2, 15, 2):\n",
    "    result, best_n_est = random_f_estimate(max_depth)\n",
    "    if result > best_result:\n",
    "        best_result = result\n",
    "        best_depth = max_depth\n",
    "        best_n_estimate =  best_n_est        \n",
    "        \n",
    "    print(f'F1_valid: {result}, n_estimators - {best_n_est}  depth: {max_depth}' )\n",
    "print('_______________________________________________')\n",
    "print(f'The best of F1_valid: {best_result}, n_estimators - {best_n_estimate} best depth: {best_depth}')    "
   ]
  },
  {
   "cell_type": "markdown",
   "metadata": {},
   "source": [
    "**Вывод:**\n",
    "\n",
    "F1_valid: 0.33  - самое низкое значение метрики показала Логистическая регрессия\n",
    "\n",
    "F1_valid: 0.60, depth - 7  - ***Лучший результат принадлежит Дереву решений ***\n",
    "\n",
    "F1_valid: 0.57, n_estimators - 33  depth: 14"
   ]
  },
  {
   "cell_type": "markdown",
   "metadata": {},
   "source": [
    "<font color='steelblue'><b>Комментарий ревьюера: </b></font> ✔️ <br>\n",
    "<font color='green'>Хорошо.</font>"
   ]
  },
  {
   "cell_type": "markdown",
   "metadata": {},
   "source": [
    "## Борьба с дисбалансом"
   ]
  },
  {
   "cell_type": "markdown",
   "metadata": {
    "tags": []
   },
   "source": [
    "### Балансировка классов"
   ]
  },
  {
   "cell_type": "markdown",
   "metadata": {},
   "source": [
    "#### LogisticRegression"
   ]
  },
  {
   "cell_type": "code",
   "execution_count": 18,
   "metadata": {},
   "outputs": [
    {
     "name": "stdout",
     "output_type": "stream",
     "text": [
      "F1_valid_balanced: 0.5037783375314862\n"
     ]
    }
   ],
   "source": [
    "# Балансировка весов классов\n",
    "model = LogisticRegression(class_weight=\"balanced\", random_state=rand_state, solver='liblinear')\n",
    "f1_balanced = train_and_predict(model, samplefunc=None, test=False)\n",
    "print(f'F1_valid_balanced: {f1_balanced}')"
   ]
  },
  {
   "cell_type": "markdown",
   "metadata": {},
   "source": [
    "Балансировка увеличила качество модели, F1 до балансировки = 0,33"
   ]
  },
  {
   "cell_type": "markdown",
   "metadata": {},
   "source": [
    "#### DecisionTreeClassifier"
   ]
  },
  {
   "cell_type": "code",
   "execution_count": 19,
   "metadata": {},
   "outputs": [
    {
     "name": "stdout",
     "output_type": "stream",
     "text": [
      "max_depth 2:\t F1_valid: 0.5405887600356825\n",
      "max_depth 3:\t F1_valid: 0.5405887600356825\n",
      "max_depth 4:\t F1_valid: 0.5953237410071942\n",
      "max_depth 5:\t F1_valid: 0.5819158460161146\n",
      "max_depth 6:\t F1_valid: 0.5960264900662251\n",
      "max_depth 7:\t F1_valid: 0.572972972972973\n",
      "max_depth 8:\t F1_valid: 0.5719921104536488\n",
      "max_depth 9:\t F1_valid: 0.5650048875855327\n",
      "_______________________________________________\n",
      "The best of F1_valid_balanced: 0.5960264900662251, depth - 6\n"
     ]
    }
   ],
   "source": [
    "best_result, best_depth = desision_tree_depth(class_weight='balanced')\n",
    "print('_______________________________________________')\n",
    "print(f'The best of F1_valid_balanced: {best_result}, depth - {best_depth}')"
   ]
  },
  {
   "cell_type": "markdown",
   "metadata": {},
   "source": [
    "Качество модели ухудшилось:\n",
    "\n",
    "- F1_valid: 0.60  \n",
    "- F1_valid_balanced: 0.57"
   ]
  },
  {
   "cell_type": "markdown",
   "metadata": {},
   "source": [
    "#### RandomForestClassifier"
   ]
  },
  {
   "cell_type": "code",
   "execution_count": null,
   "metadata": {},
   "outputs": [
    {
     "name": "stdout",
     "output_type": "stream",
     "text": [
      "F1_valid: 0.5752212389380531, n_estimators - 13  depth: 2\n",
      "F1_valid: 0.6291309669522644, n_estimators - 26  depth: 10\n",
      "F1_valid: 0.5532544378698224, n_estimators - 31  depth: 18\n",
      "_______________________________________________\n",
      "The best of F1_valid_balanced: 0.6291309669522644, n_estimators - 26 best depth: 10\n"
     ]
    }
   ],
   "source": [
    "best_result = 0\n",
    "result = 0\n",
    "best_depth = 0\n",
    "best_n_estimate = 0\n",
    "for max_depth in range(2, 20, 8):\n",
    "    result, best_n_est = random_f_estimate(max_depth, class_weight='balanced')\n",
    "    if result > best_result:\n",
    "        best_result = result\n",
    "        best_depth = max_depth\n",
    "        best_n_estimate =  best_n_est        \n",
    "        \n",
    "    print(f'F1_valid: {result}, n_estimators - {best_n_est}  depth: {max_depth}' )\n",
    "print('_______________________________________________')\n",
    "print(f'The best of F1_valid_balanced: {best_result}, n_estimators - {best_n_estimate} best depth: {best_depth}') "
   ]
  },
  {
   "cell_type": "markdown",
   "metadata": {},
   "source": [
    "**Вывод:**\n",
    "\n",
    "Лучшая модель при балансировке классов - RandomForestClassifier с результатами:\n",
    "\n",
    "F1_valid_balanced = 0.62; n_estimators = 39; best depth = 10"
   ]
  },
  {
   "cell_type": "markdown",
   "metadata": {},
   "source": [
    "<font color='steelblue'><b>Комментарий ревьюера: </b></font> ✔️ <br>\n",
    "<font color='green'>Всё верно.</font>"
   ]
  },
  {
   "cell_type": "markdown",
   "metadata": {
    "tags": []
   },
   "source": [
    "### Увеличение выборки\n",
    "\n",
    "Объектов для положительного класса явно не достаточно. Продублируем объекты положительного класса и объединим их с объектами отрицательного класса.(повышающая дискретизация)\n",
    "\n",
    "Выполняется в четыре этапа:\n",
    "\n",
    "•\tРазделить обучающую выборку на отрицательные и положительные объекты;\n",
    "\n",
    "•\tСкопировать несколько раз положительные объекты;\n",
    "\n",
    "•\tС учётом полученных данных создать новую обучающую выборку;\n",
    "\n",
    "•\tПеремешать данные: идущие друг за другом одинаковые вопросы не помогут обучению.\n"
   ]
  },
  {
   "cell_type": "code",
   "execution_count": null,
   "metadata": {},
   "outputs": [
    {
     "name": "stdout",
     "output_type": "stream",
     "text": [
      "(6000, 13)\n",
      "(6000,)\n"
     ]
    }
   ],
   "source": [
    "# Создание новой обучающей выборки(увеличение класса \"1\" и перемешивание)\n",
    "def upsample(repeat):\n",
    "    features_zeros = features_train[target_train == 0]\n",
    "    features_ones = features_train[target_train == 1]\n",
    "    target_zeros = target_train[target_train == 0]\n",
    "    target_ones = target_train[target_train == 1]\n",
    "\n",
    "    features_upsampled = pd.concat(\n",
    "        [features_zeros] + [features_ones] * repeat\n",
    "    )\n",
    "    target_upsampled = pd.concat(\n",
    "        [target_zeros] + [target_ones] * repeat\n",
    "    )\n",
    "# перемешивание\n",
    "    features_upsampled = shuffle(\n",
    "        features_upsampled, random_state=rand_state\n",
    "    )\n",
    "    target_upsampled = shuffle(\n",
    "        target_upsampled, random_state=rand_state\n",
    "    )\n",
    "    return features_upsampled, target_upsampled\n",
    "\n",
    "print(features_train.shape)\n",
    "print(target_train.shape)"
   ]
  },
  {
   "cell_type": "markdown",
   "metadata": {},
   "source": [
    "#### LogisticRegression"
   ]
  },
  {
   "cell_type": "code",
   "execution_count": null,
   "metadata": {},
   "outputs": [
    {
     "name": "stdout",
     "output_type": "stream",
     "text": [
      "F1_valid_upsample: 0.5\n"
     ]
    }
   ],
   "source": [
    "# Обучение  модели LogisticRegression на новых данных\n",
    "model = LogisticRegression(solver='liblinear', random_state=rand_state)\n",
    "\n",
    "f1_upsample = train_and_predict(model,  , repeat=3)\n",
    "\n",
    "print(f'F1_valid_upsample: {f1_upsample}')"
   ]
  },
  {
   "cell_type": "markdown",
   "metadata": {},
   "source": [
    "Улучшение метрики на 0,01"
   ]
  },
  {
   "cell_type": "markdown",
   "metadata": {},
   "source": [
    "#### DecisionTreeClassifier"
   ]
  },
  {
   "cell_type": "code",
   "execution_count": null,
   "metadata": {},
   "outputs": [
    {
     "name": "stdout",
     "output_type": "stream",
     "text": [
      "max_depth 2:\t F1_valid: 0.5225225225225224\n",
      "max_depth 3:\t F1_valid: 0.5443037974683544\n",
      "max_depth 4:\t F1_valid: 0.5099150141643061\n",
      "max_depth 5:\t F1_valid: 0.5949535192563081\n",
      "max_depth 6:\t F1_valid: 0.5899280575539568\n",
      "max_depth 7:\t F1_valid: 0.6063569682151589\n",
      "max_depth 8:\t F1_valid: 0.5794621026894865\n",
      "max_depth 9:\t F1_valid: 0.5565006075334145\n",
      "_______________________________________________\n",
      "The best of F1_upsample: 0.6063569682151589, depth - 7\n"
     ]
    }
   ],
   "source": [
    "best_result, best_depth = desision_tree_depth(samplefunc=upsample, repeat=2)\n",
    "print('_______________________________________________')\n",
    "print(f'The best of F1_upsample: {best_result}, depth - {best_depth}')"
   ]
  },
  {
   "cell_type": "markdown",
   "metadata": {},
   "source": [
    "#### RandomForestClassifier"
   ]
  },
  {
   "cell_type": "code",
   "execution_count": null,
   "metadata": {},
   "outputs": [
    {
     "name": "stdout",
     "output_type": "stream",
     "text": [
      "F1_valid: 0.5904317386231037, n_estimators - 20  depth: 2\n",
      "F1_valid: 0.6206896551724138, n_estimators - 17  depth: 5\n",
      "F1_valid: 0.6378504672897197, n_estimators - 39  depth: 8\n",
      "_______________________________________________\n",
      "The best of F1_valid_upsample: 0.6378504672897197, n_estimators - 39 best depth: 8\n"
     ]
    }
   ],
   "source": [
    "best_result = 0\n",
    "result = 0\n",
    "best_depth = 0\n",
    "best_n_estimate = 0\n",
    "for max_depth in range(2, 10, 3):\n",
    "    result, best_n_est = random_f_estimate(\n",
    "        max_depth,\n",
    "        samplefunc=upsample,\n",
    "        repeat=3\n",
    "    )\n",
    "    if result > best_result:\n",
    "        best_result = result\n",
    "        best_depth = max_depth\n",
    "        best_n_estimate =  best_n_est        \n",
    "        \n",
    "    print(f'F1_valid: {result}, n_estimators - {best_n_est}  depth: {max_depth}' )\n",
    "print('_______________________________________________')\n",
    "print(f'The best of F1_valid_upsample: {best_result}, n_estimators - {best_n_estimate} best depth: {best_depth}') "
   ]
  },
  {
   "cell_type": "markdown",
   "metadata": {},
   "source": [
    "F1_valid_upsample: 0.52\n",
    "\n",
    "The best of F1_upsample: 0.62, depth - 8\n",
    "\n",
    "The best of F1_valid_upsample: 0.63, n_estimators - 34 depth: 5  - **Лучшая модель при увеличении выборки**\n"
   ]
  },
  {
   "cell_type": "markdown",
   "metadata": {},
   "source": [
    "<font color='steelblue'><b>Комментарий ревьюера: </b></font> ✔️ <br>\n",
    "<font color='green'>Здорово, что пробуешь 3 метода борьбы с дисбалансом классов.</font>"
   ]
  },
  {
   "cell_type": "markdown",
   "metadata": {},
   "source": [
    "## Тестирование модели"
   ]
  },
  {
   "cell_type": "code",
   "execution_count": null,
   "metadata": {},
   "outputs": [
    {
     "name": "stdout",
     "output_type": "stream",
     "text": [
      " F1_valid: 0.6378504672897197\n",
      " F1_test: 0.649592549476135\n"
     ]
    }
   ],
   "source": [
    "model = RandomForestClassifier(n_estimators=39, max_depth=8, random_state=rand_state)\n",
    "features_upsampled, target_upsampled = upsample(3)\n",
    "model.fit(features_upsampled, target_upsampled)\n",
    "\n",
    "predicted_valid = model.predict(features_valid)\n",
    "print(' F1_valid:', f1_score(target_valid, predicted_valid))\n",
    "\n",
    "predicted_test = model.predict(features_test)\n",
    "print(' F1_test:', f1_score(target_test, predicted_test))"
   ]
  },
  {
   "cell_type": "markdown",
   "metadata": {},
   "source": [
    "<font color='steelblue'><b>Комментарий ревьюера: </b></font> ✔️ <br>\n",
    "<font color='green'>Модель тестируется на тестовой выборке.</font>\n",
    "---\n",
    "<font color='steelblue'><b>Комментарий ревьюера: </b></font> ❌ <br>\n",
    "<font color='crimson'>F1 на тестовой выборке меньше 0.59. Попробуй ещё поподбирать гиперпараметры.</font>"
   ]
  },
  {
   "cell_type": "markdown",
   "metadata": {},
   "source": [
    "<div class=\"alert alert-info\" style=\"background:#ffdbf1;color:#2e00ab\">\n",
    "<h5> Комментарий студента </h5>\n",
    "F1 на тестовой выборке больше 0.59 и приблизилась к  0,65.\n",
    "</div>"
   ]
  },
  {
   "cell_type": "markdown",
   "metadata": {},
   "source": [
    "<font color='steelblue'><b>Комментарий ревьюера v2: </b></font> ✔️ <br>\n",
    "<font color='green'>Отлично 🔥</font>"
   ]
  },
  {
   "cell_type": "code",
   "execution_count": null,
   "metadata": {},
   "outputs": [
    {
     "name": "stdout",
     "output_type": "stream",
     "text": [
      "AUC-ROC - 0.8672609060090432\n"
     ]
    }
   ],
   "source": [
    "# значения вероятностей классов\n",
    "probabilities_valid = model.predict_proba(features_valid)\n",
    "# значения вероятностей класса «1»\n",
    "probabilities_one_valid = probabilities_valid[:, 1]\n",
    "\n",
    "auc_roc = roc_auc_score(target_valid, probabilities_one_valid)\n",
    "print(f'AUC-ROC - {auc_roc}')"
   ]
  },
  {
   "cell_type": "code",
   "execution_count": null,
   "metadata": {},
   "outputs": [
    {
     "data": {
      "image/png": "[encoded data removed]",
      "text/plain": [
       "<Figure size 432x288 with 1 Axes>"
      ]
     },
     "metadata": {
      "needs_background": "light"
     },
     "output_type": "display_data"
    }
   ],
   "source": [
    "# Построение графика ROC-кривой\n",
    "fpr, tpr, thresholds = roc_curve(target_valid, probabilities_one_valid) # < напишите код здесь >\n",
    "\n",
    "plt.figure()\n",
    "plt.plot(fpr, tpr)\n",
    "\n",
    "# ROC-кривая случайной модели (выглядит как прямая)\n",
    "plt.plot([0, 1], [0, 1], linestyle='--')\n",
    "\n",
    "plt.xlim([0.0, 1.0])\n",
    "plt.ylim([0.0, 1.0])\n",
    "plt.xlabel('False Positive Rate')\n",
    "plt.ylabel('True Positive Rate')\n",
    "plt.title('ROC-кривая')\n",
    "plt.show()\n"
   ]
  },
  {
   "cell_type": "markdown",
   "metadata": {},
   "source": [
    "Метрика лучше, чем у случайной модели, но до идеального значения (AUC-ROC = 1) очень далеко. Кривая ошибок выше случайной прямой, но незначительно. "
   ]
  },
  {
   "cell_type": "markdown",
   "metadata": {},
   "source": [
    "<font color='steelblue'><b>Комментарий ревьюера: </b></font> ✔️ <br>\n",
    "<font color='green'>Изучено значения метрики AUC-ROC.</font>"
   ]
  },
  {
   "cell_type": "markdown",
   "metadata": {},
   "source": [
    "# AUCμ - для работы с мультиклассификацией(если больше 2-х классов)\n",
    "\n",
    "AUC-ROC.- для двух классов"
   ]
  },
  {
   "cell_type": "markdown",
   "metadata": {},
   "source": [
    "## Чек-лист готовности проекта"
   ]
  },
  {
   "cell_type": "markdown",
   "metadata": {},
   "source": [
    "Поставьте 'x' в выполненных пунктах. Далее нажмите Shift+Enter."
   ]
  },
  {
   "cell_type": "markdown",
   "metadata": {},
   "source": [
    "- [x]  Jupyter Notebook открыт\n",
    "- [x]  Весь код выполняется без ошибок\n",
    "- [x]  Ячейки с кодом расположены в порядке исполнения\n",
    "- [x]  Выполнен шаг 1: данные подготовлены\n",
    "- [x]  Выполнен шаг 2: задача исследована\n",
    "    - [x]  Исследован баланс классов\n",
    "    - [x]  Изучены модели без учёта дисбаланса\n",
    "    - [x]  Написаны выводы по результатам исследования\n",
    "- [x]  Выполнен шаг 3: учтён дисбаланс\n",
    "    - [x]  Применено несколько способов борьбы с дисбалансом\n",
    "    - [x]  Написаны выводы по результатам исследования\n",
    "- [x]  Выполнен шаг 4: проведено тестирование\n",
    "- [x]  Удалось достичь *F1*-меры не менее 0.59\n",
    "- [x]  Исследована метрика *AUC-ROC*"
   ]
  },
  {
   "cell_type": "markdown",
   "metadata": {},
   "source": [
    "<font color='steelblue'><b>Итоговый комментарий ревьюера</b></font><br>\n",
    "<font color='green'>У тебя получился хороший проект, однако есть несколько нюансов.</font>\n",
    "\n",
    "<font color='steelblue'>Что можно сделать лучше:</font>\n",
    "\n",
    "<ul><font color='crimson'>1) F1 на тестовой выборке меньше 0.59. Попробуй ещё поподбирать гиперпараметры.</font></ul>\n",
    "<ul><font color='darkorange'>2) Лучше не удалять пропуски, а заполнить их медианным значением по группам, например, медианным значением по возрасту и стране. Распределение не изменится и у нас останется больше данных.</font></ul>\n",
    "<ul><font color='darkorange'>3) Пожалуйста, не забывай комментировать свои действия, например, удаление колонок.</font></ul>\n",
    "\n",
    "\n",
    "<font color='steelblue'><b>Спасибо, удачи!</b></font><br><br><br>"
   ]
  },
  {
   "cell_type": "markdown",
   "metadata": {},
   "source": [
    "<div class=\"alert alert-info\" style=\"background:#ffdbf1;color:#2e00ab\">\n",
    "<h5> Комментарий студента </h5>\n",
    "    \n",
    "F1 на тестовой выборке больше 0.59 и приблизилась к  0,65.\n",
    " \n",
    "   <**Общий вывод**>\n",
    "\n",
    "После замены пропущенных значений в колонке **'tenure'** , по прежнему, лучше всех проявила себя модель **RandomForestClassifier**. \n",
    "\n",
    "Следует отметить тот факт, что способ группировки признаков, при поиске значений для замены пропусков играет немаловажную роль. Ниже приведены результаты метрик в тех вариантах: для поиска медианы группировались данные по['geography'], ['geography', 'age']) и ['age'].<br><br>\n",
    "\n",
    "       \n",
    "<font color='steelblue'><b>grp = df.groupby(['geography']):</b></font><br>\n",
    "\n",
    "The best of F1_valid_upsample: 0.6378504672897197, n_estimators - 39 best depth: 8\n",
    "\n",
    "F1_valid: 0.6378504672897197\n",
    "       \n",
    "F1_test: 0.649592549476135\n",
    "       \n",
    "AUC-ROC - 0.8672609060090432\n",
    "       \n",
    "__________________________________________\n",
    "<font color='steelblue'><b>grp = df.groupby(['geography', 'age']):</b></font><br>\n",
    "\n",
    "F1_valid_upsample: 0.637749120750293, n_estimators - 24 best depth: 9\n",
    "\n",
    "F1_valid: 0.637749120750293\n",
    "       \n",
    "F1_test: 0.6456876456876456\n",
    "       \n",
    "roc_auc_score: 0.8568450923145409\n",
    "__________________________________________________________________________________\n",
    "\n",
    "<font color='steelblue'><b>grp = df.groupby(['age']):</b></font><br>\n",
    "\n",
    "The best of F1_valid_upsample: 0.6375143843498273, n_estimators - 39 best depth: 6\n",
    "\n",
    "F1_valid: 0.6375143843498273\n",
    "       \n",
    "F1_test: 0.6527293844367015\n",
    "       \n",
    "roc_auc_score: 0.8633981517737106"
   ]
  },
  {
   "cell_type": "markdown",
   "metadata": {},
   "source": [
    "<font color='steelblue'><b>Итоговый комментарий ревьюера v2:</b></font><br>\n",
    "<font color='green'>Твой проект готов :)</font>\n",
    "\n",
    "<font color='steelblue'> Я оставила комментарии по улучшению кода. Если хочешь, примени их и я проверю ещё раз. Если решишь просто иметь их в виду для будущих проектов, напиши об этом ниже, отправь мне проект обратно неизмененным и я сразу приму его.</font>\n",
    "\n",
    "<font color='steelblue'><b>Спасибо, удачи!</b></font><br><br><br>"
   ]
  },
  {
   "cell_type": "markdown",
   "metadata": {},
   "source": [
    "<div class=\"alert alert-info\" style=\"background:#ffdbf1;color:#2e00ab\">\n",
    "<h5> Комментарий студента </h5>\n",
    "    \n",
    "Спасибо за комментарии, учту в будущих проектах))\n",
    "\n",
    "</div>"
   ]
  },
  {
   "cell_type": "markdown",
   "metadata": {},
   "source": [
    "<font color='steelblue'><b>Итоговый комментарий ревьюера v3:</b></font><br>\n",
    "<font color='green'>Твой проект готов :) Надеюсь, тебе понравился процесс выполнения и результат.</font>\n",
    "\n",
    "<font color='steelblue'><b>Спасибо, удачи в освоении профессии!</b></font><br><br><br>"
   ]
  },
  {
   "cell_type": "code",
   "execution_count": null,
   "metadata": {},
   "outputs": [],
   "source": []
  }
 ],
 "metadata": {
  "ExecuteTimeLog": [
   {
    "duration": 166,
    "start_time": "2022-03-14T06:49:49.728Z"
   },
   {
    "duration": 949,
    "start_time": "2022-03-14T06:49:55.602Z"
   },
   {
    "duration": 2766,
    "start_time": "2022-03-14T06:49:57.451Z"
   },
   {
    "duration": 3,
    "start_time": "2022-03-14T06:51:25.084Z"
   },
   {
    "duration": 3,
    "start_time": "2022-03-14T06:51:32.549Z"
   },
   {
    "duration": 2382,
    "start_time": "2022-03-14T06:51:35.580Z"
   },
   {
    "duration": 29,
    "start_time": "2022-03-14T07:01:00.246Z"
   },
   {
    "duration": 4,
    "start_time": "2022-03-14T07:01:03.851Z"
   },
   {
    "duration": 23,
    "start_time": "2022-03-14T07:01:04.442Z"
   },
   {
    "duration": 35,
    "start_time": "2022-03-14T07:01:22.340Z"
   },
   {
    "duration": 45,
    "start_time": "2022-03-14T07:02:29.041Z"
   },
   {
    "duration": 31,
    "start_time": "2022-03-14T07:03:52.533Z"
   },
   {
    "duration": 37,
    "start_time": "2022-03-14T07:12:57.636Z"
   },
   {
    "duration": 32,
    "start_time": "2022-03-14T07:20:48.292Z"
   },
   {
    "duration": 33,
    "start_time": "2022-03-14T07:21:39.473Z"
   },
   {
    "duration": 178,
    "start_time": "2022-03-14T07:24:01.551Z"
   },
   {
    "duration": 3,
    "start_time": "2022-03-14T07:25:01.512Z"
   },
   {
    "duration": 33,
    "start_time": "2022-03-14T07:25:02.152Z"
   },
   {
    "duration": 187,
    "start_time": "2022-03-14T07:25:03.903Z"
   },
   {
    "duration": 33,
    "start_time": "2022-03-14T07:26:04.628Z"
   },
   {
    "duration": 6,
    "start_time": "2022-03-14T07:51:09.654Z"
   },
   {
    "duration": 15,
    "start_time": "2022-03-14T07:52:19.758Z"
   },
   {
    "duration": 16,
    "start_time": "2022-03-14T07:53:46.334Z"
   },
   {
    "duration": 316,
    "start_time": "2022-03-14T07:57:24.210Z"
   },
   {
    "duration": 211,
    "start_time": "2022-03-14T07:57:32.329Z"
   },
   {
    "duration": 196,
    "start_time": "2022-03-14T07:58:51.198Z"
   },
   {
    "duration": 201,
    "start_time": "2022-03-14T07:59:04.432Z"
   },
   {
    "duration": 185,
    "start_time": "2022-03-14T08:18:08.519Z"
   },
   {
    "duration": 166,
    "start_time": "2022-03-14T08:26:33.469Z"
   },
   {
    "duration": 1022,
    "start_time": "2022-03-14T08:27:14.440Z"
   },
   {
    "duration": 284,
    "start_time": "2022-03-14T08:27:15.464Z"
   },
   {
    "duration": -86,
    "start_time": "2022-03-14T08:27:15.838Z"
   },
   {
    "duration": 3363,
    "start_time": "2022-03-14T08:28:17.811Z"
   },
   {
    "duration": 38,
    "start_time": "2022-03-14T08:28:33.697Z"
   },
   {
    "duration": 216,
    "start_time": "2022-03-14T08:46:06.871Z"
   },
   {
    "duration": 40,
    "start_time": "2022-03-14T08:46:27.621Z"
   },
   {
    "duration": 47,
    "start_time": "2022-03-14T08:49:54.510Z"
   },
   {
    "duration": 43,
    "start_time": "2022-03-14T08:50:46.038Z"
   },
   {
    "duration": 1034,
    "start_time": "2022-03-14T09:40:45.726Z"
   },
   {
    "duration": 69,
    "start_time": "2022-03-14T09:40:46.762Z"
   },
   {
    "duration": 215,
    "start_time": "2022-03-14T09:40:46.833Z"
   },
   {
    "duration": 210,
    "start_time": "2022-03-14T11:46:54.648Z"
   },
   {
    "duration": 60,
    "start_time": "2022-03-14T11:47:02.523Z"
   },
   {
    "duration": 77,
    "start_time": "2022-03-14T11:48:33.688Z"
   },
   {
    "duration": 61,
    "start_time": "2022-03-14T11:49:40.945Z"
   },
   {
    "duration": 1053,
    "start_time": "2022-03-14T11:50:06.117Z"
   },
   {
    "duration": 274,
    "start_time": "2022-03-14T11:50:07.172Z"
   },
   {
    "duration": 216,
    "start_time": "2022-03-14T11:50:07.450Z"
   },
   {
    "duration": 676,
    "start_time": "2022-03-14T11:50:33.549Z"
   },
   {
    "duration": 63,
    "start_time": "2022-03-14T11:52:34.405Z"
   },
   {
    "duration": 58,
    "start_time": "2022-03-14T11:52:49.465Z"
   },
   {
    "duration": 224,
    "start_time": "2022-03-14T12:09:19.346Z"
   },
   {
    "duration": 143,
    "start_time": "2022-03-14T12:09:26.186Z"
   },
   {
    "duration": 49,
    "start_time": "2022-03-14T12:09:37.358Z"
   },
   {
    "duration": 3,
    "start_time": "2022-03-14T12:12:25.648Z"
   },
   {
    "duration": 63,
    "start_time": "2022-03-14T12:12:26.396Z"
   },
   {
    "duration": 83846,
    "start_time": "2022-03-14T12:12:27.415Z"
   },
   {
    "duration": 996,
    "start_time": "2022-03-16T05:46:16.292Z"
   },
   {
    "duration": 78,
    "start_time": "2022-03-16T05:46:17.290Z"
   },
   {
    "duration": 223,
    "start_time": "2022-03-16T05:46:17.370Z"
   },
   {
    "duration": 99,
    "start_time": "2022-03-16T05:49:29.179Z"
   },
   {
    "duration": 97,
    "start_time": "2022-03-16T05:50:15.982Z"
   },
   {
    "duration": 99,
    "start_time": "2022-03-16T05:51:08.142Z"
   },
   {
    "duration": 335,
    "start_time": "2022-03-16T06:11:10.650Z"
   },
   {
    "duration": 50,
    "start_time": "2022-03-16T06:20:29.767Z"
   },
   {
    "duration": 375,
    "start_time": "2022-03-16T06:22:17.874Z"
   },
   {
    "duration": 347,
    "start_time": "2022-03-16T06:22:39.987Z"
   },
   {
    "duration": 232,
    "start_time": "2022-03-16T06:23:29.032Z"
   },
   {
    "duration": 98,
    "start_time": "2022-03-16T06:23:38.503Z"
   },
   {
    "duration": 99,
    "start_time": "2022-03-16T06:23:54.924Z"
   },
   {
    "duration": 101,
    "start_time": "2022-03-16T06:31:16.944Z"
   },
   {
    "duration": 175,
    "start_time": "2022-03-16T06:32:36.024Z"
   },
   {
    "duration": 92,
    "start_time": "2022-03-16T06:33:25.374Z"
   },
   {
    "duration": 98,
    "start_time": "2022-03-16T06:37:24.532Z"
   },
   {
    "duration": 58,
    "start_time": "2022-03-16T06:41:34.409Z"
   },
   {
    "duration": 98,
    "start_time": "2022-03-16T06:41:48.086Z"
   },
   {
    "duration": 99,
    "start_time": "2022-03-16T06:45:03.426Z"
   },
   {
    "duration": 96,
    "start_time": "2022-03-16T06:45:56.313Z"
   },
   {
    "duration": 95,
    "start_time": "2022-03-16T06:52:58.707Z"
   },
   {
    "duration": 247,
    "start_time": "2022-03-16T06:53:15.432Z"
   },
   {
    "duration": 104,
    "start_time": "2022-03-16T06:53:18.609Z"
   },
   {
    "duration": 103,
    "start_time": "2022-03-16T06:54:03.104Z"
   },
   {
    "duration": 101,
    "start_time": "2022-03-16T06:54:44.922Z"
   },
   {
    "duration": 106,
    "start_time": "2022-03-16T06:55:30.037Z"
   },
   {
    "duration": 93,
    "start_time": "2022-03-16T06:56:46.862Z"
   },
   {
    "duration": 215,
    "start_time": "2022-03-16T06:57:34.324Z"
   },
   {
    "duration": 114,
    "start_time": "2022-03-16T06:58:01.829Z"
   },
   {
    "duration": 103,
    "start_time": "2022-03-16T07:00:32.684Z"
   },
   {
    "duration": 141,
    "start_time": "2022-03-16T07:01:30.646Z"
   },
   {
    "duration": 104,
    "start_time": "2022-03-16T07:03:47.854Z"
   },
   {
    "duration": 101,
    "start_time": "2022-03-16T07:05:12.341Z"
   },
   {
    "duration": 72,
    "start_time": "2022-03-16T07:06:24.403Z"
   },
   {
    "duration": 37,
    "start_time": "2022-03-16T07:07:02.194Z"
   },
   {
    "duration": 195,
    "start_time": "2022-03-16T07:31:49.283Z"
   },
   {
    "duration": 59,
    "start_time": "2022-03-16T07:33:28.625Z"
   },
   {
    "duration": 81,
    "start_time": "2022-03-16T07:37:34.540Z"
   },
   {
    "duration": 54,
    "start_time": "2022-03-16T07:40:03.862Z"
   },
   {
    "duration": 25,
    "start_time": "2022-03-16T07:40:20.117Z"
   },
   {
    "duration": 54,
    "start_time": "2022-03-16T07:46:04.868Z"
   },
   {
    "duration": 51,
    "start_time": "2022-03-16T07:47:38.436Z"
   },
   {
    "duration": 40,
    "start_time": "2022-03-16T07:49:08.859Z"
   },
   {
    "duration": 39,
    "start_time": "2022-03-16T07:50:06.794Z"
   },
   {
    "duration": 170,
    "start_time": "2022-03-16T07:50:36.121Z"
   },
   {
    "duration": 163,
    "start_time": "2022-03-16T07:50:52.952Z"
   },
   {
    "duration": 39,
    "start_time": "2022-03-16T07:51:04.902Z"
   },
   {
    "duration": 41,
    "start_time": "2022-03-16T07:51:24.471Z"
   },
   {
    "duration": 167,
    "start_time": "2022-03-16T07:59:34.281Z"
   },
   {
    "duration": 40,
    "start_time": "2022-03-16T07:59:50.872Z"
   },
   {
    "duration": 39,
    "start_time": "2022-03-16T08:00:19.885Z"
   },
   {
    "duration": 26,
    "start_time": "2022-03-16T08:02:41.664Z"
   },
   {
    "duration": 74,
    "start_time": "2022-03-16T09:34:36.765Z"
   },
   {
    "duration": 40,
    "start_time": "2022-03-16T09:35:15.541Z"
   },
   {
    "duration": 5,
    "start_time": "2022-03-16T09:48:35.370Z"
   },
   {
    "duration": 271,
    "start_time": "2022-03-16T09:48:47.267Z"
   },
   {
    "duration": 143,
    "start_time": "2022-03-16T09:52:54.967Z"
   },
   {
    "duration": 1164,
    "start_time": "2022-03-16T09:53:36.462Z"
   },
   {
    "duration": 91,
    "start_time": "2022-03-16T09:53:37.628Z"
   },
   {
    "duration": 47,
    "start_time": "2022-03-16T09:53:37.722Z"
   },
   {
    "duration": 23,
    "start_time": "2022-03-16T09:53:37.772Z"
   },
   {
    "duration": 240,
    "start_time": "2022-03-16T09:53:37.797Z"
   },
   {
    "duration": 60499,
    "start_time": "2022-03-16T09:53:38.039Z"
   },
   {
    "duration": 259,
    "start_time": "2022-03-16T09:54:38.540Z"
   },
   {
    "duration": 266,
    "start_time": "2022-03-16T09:57:21.008Z"
   },
   {
    "duration": 1183,
    "start_time": "2022-03-16T09:58:56.743Z"
   },
   {
    "duration": 88,
    "start_time": "2022-03-16T09:58:57.928Z"
   },
   {
    "duration": 43,
    "start_time": "2022-03-16T09:58:58.018Z"
   },
   {
    "duration": 21,
    "start_time": "2022-03-16T09:58:58.063Z"
   },
   {
    "duration": 218,
    "start_time": "2022-03-16T09:58:58.085Z"
   },
   {
    "duration": 223,
    "start_time": "2022-03-16T09:58:58.305Z"
   },
   {
    "duration": -442,
    "start_time": "2022-03-16T09:58:58.971Z"
   },
   {
    "duration": 1147,
    "start_time": "2022-03-16T10:06:35.989Z"
   },
   {
    "duration": 80,
    "start_time": "2022-03-16T10:06:37.138Z"
   },
   {
    "duration": 46,
    "start_time": "2022-03-16T10:06:37.220Z"
   },
   {
    "duration": 21,
    "start_time": "2022-03-16T10:06:37.268Z"
   },
   {
    "duration": 424,
    "start_time": "2022-03-16T10:06:37.290Z"
   },
   {
    "duration": -469,
    "start_time": "2022-03-16T10:06:38.184Z"
   },
   {
    "duration": -471,
    "start_time": "2022-03-16T10:06:38.187Z"
   },
   {
    "duration": 234,
    "start_time": "2022-03-16T11:35:34.952Z"
   },
   {
    "duration": 242,
    "start_time": "2022-03-16T11:45:11.266Z"
   },
   {
    "duration": 212,
    "start_time": "2022-03-16T11:45:23.660Z"
   },
   {
    "duration": 242,
    "start_time": "2022-03-16T11:45:36.226Z"
   },
   {
    "duration": 57,
    "start_time": "2022-03-16T11:53:07.174Z"
   },
   {
    "duration": 252,
    "start_time": "2022-03-16T11:53:21.198Z"
   },
   {
    "duration": 199,
    "start_time": "2022-03-16T11:55:43.397Z"
   },
   {
    "duration": 321,
    "start_time": "2022-03-16T11:58:22.021Z"
   },
   {
    "duration": 1186,
    "start_time": "2022-03-16T11:58:36.756Z"
   },
   {
    "duration": 110,
    "start_time": "2022-03-16T11:58:37.944Z"
   },
   {
    "duration": 45,
    "start_time": "2022-03-16T11:58:38.057Z"
   },
   {
    "duration": 35,
    "start_time": "2022-03-16T11:58:38.104Z"
   },
   {
    "duration": 436,
    "start_time": "2022-03-16T11:58:38.140Z"
   },
   {
    "duration": -642,
    "start_time": "2022-03-16T11:58:39.220Z"
   },
   {
    "duration": -643,
    "start_time": "2022-03-16T11:58:39.222Z"
   },
   {
    "duration": 57,
    "start_time": "2022-03-16T12:02:17.223Z"
   },
   {
    "duration": 211,
    "start_time": "2022-03-16T12:02:39.968Z"
   },
   {
    "duration": 150,
    "start_time": "2022-03-16T12:02:50.367Z"
   },
   {
    "duration": 189,
    "start_time": "2022-03-16T12:03:23.496Z"
   },
   {
    "duration": 189,
    "start_time": "2022-03-16T12:03:42.919Z"
   },
   {
    "duration": 287,
    "start_time": "2022-03-16T12:04:13.349Z"
   },
   {
    "duration": 508,
    "start_time": "2022-03-16T12:04:20.241Z"
   },
   {
    "duration": 189,
    "start_time": "2022-03-16T12:04:40.354Z"
   },
   {
    "duration": 236,
    "start_time": "2022-03-16T12:06:01.544Z"
   },
   {
    "duration": 342,
    "start_time": "2022-03-16T12:08:24.929Z"
   },
   {
    "duration": 405,
    "start_time": "2022-03-16T12:08:35.452Z"
   },
   {
    "duration": 1228,
    "start_time": "2022-03-16T12:10:31.624Z"
   },
   {
    "duration": 84,
    "start_time": "2022-03-16T12:10:32.854Z"
   },
   {
    "duration": 40,
    "start_time": "2022-03-16T12:10:32.940Z"
   },
   {
    "duration": 22,
    "start_time": "2022-03-16T12:10:32.982Z"
   },
   {
    "duration": 237,
    "start_time": "2022-03-16T12:10:33.006Z"
   },
   {
    "duration": 230,
    "start_time": "2022-03-16T12:10:33.245Z"
   },
   {
    "duration": 462,
    "start_time": "2022-03-16T12:10:33.477Z"
   },
   {
    "duration": 245,
    "start_time": "2022-03-16T12:25:29.232Z"
   },
   {
    "duration": 1061,
    "start_time": "2022-03-16T12:26:18.625Z"
   },
   {
    "duration": 42,
    "start_time": "2022-03-16T12:27:56.696Z"
   },
   {
    "duration": 43,
    "start_time": "2022-03-16T12:28:57.538Z"
   },
   {
    "duration": 30,
    "start_time": "2022-03-16T12:29:26.667Z"
   },
   {
    "duration": 46,
    "start_time": "2022-03-16T12:29:43.711Z"
   },
   {
    "duration": 1278,
    "start_time": "2022-03-16T12:29:58.927Z"
   },
   {
    "duration": 51,
    "start_time": "2022-03-16T12:30:00.207Z"
   },
   {
    "duration": 44,
    "start_time": "2022-03-16T12:30:00.260Z"
   },
   {
    "duration": 49,
    "start_time": "2022-03-16T12:30:00.306Z"
   },
   {
    "duration": 240,
    "start_time": "2022-03-16T12:30:00.358Z"
   },
   {
    "duration": 239,
    "start_time": "2022-03-16T12:30:00.600Z"
   },
   {
    "duration": 1362,
    "start_time": "2022-03-16T12:30:00.841Z"
   },
   {
    "duration": 26,
    "start_time": "2022-03-16T12:39:44.169Z"
   },
   {
    "duration": 45,
    "start_time": "2022-03-16T12:40:55.837Z"
   },
   {
    "duration": 60,
    "start_time": "2022-03-16T12:41:22.995Z"
   },
   {
    "duration": 47,
    "start_time": "2022-03-16T12:53:05.723Z"
   },
   {
    "duration": 46,
    "start_time": "2022-03-16T12:53:17.815Z"
   },
   {
    "duration": 194,
    "start_time": "2022-03-16T12:57:09.326Z"
   },
   {
    "duration": 34,
    "start_time": "2022-03-16T13:01:44.152Z"
   },
   {
    "duration": 1184,
    "start_time": "2022-03-16T13:02:43.578Z"
   },
   {
    "duration": 54,
    "start_time": "2022-03-16T13:02:44.764Z"
   },
   {
    "duration": 81,
    "start_time": "2022-03-16T13:02:44.822Z"
   },
   {
    "duration": 85,
    "start_time": "2022-03-16T13:02:44.906Z"
   },
   {
    "duration": 262,
    "start_time": "2022-03-16T13:02:44.994Z"
   },
   {
    "duration": 207,
    "start_time": "2022-03-16T13:02:45.258Z"
   },
   {
    "duration": 1225,
    "start_time": "2022-03-16T13:02:45.467Z"
   },
   {
    "duration": 210,
    "start_time": "2022-03-16T13:15:59.182Z"
   },
   {
    "duration": 196,
    "start_time": "2022-03-16T13:16:05.585Z"
   },
   {
    "duration": 825,
    "start_time": "2022-03-16T13:19:49.671Z"
   },
   {
    "duration": 1191,
    "start_time": "2022-03-16T13:22:16.901Z"
   },
   {
    "duration": 51,
    "start_time": "2022-03-16T13:22:18.095Z"
   },
   {
    "duration": 43,
    "start_time": "2022-03-16T13:22:18.151Z"
   },
   {
    "duration": 84,
    "start_time": "2022-03-16T13:22:18.196Z"
   },
   {
    "duration": 225,
    "start_time": "2022-03-16T13:22:18.282Z"
   },
   {
    "duration": 220,
    "start_time": "2022-03-16T13:22:18.509Z"
   },
   {
    "duration": 890,
    "start_time": "2022-03-16T13:22:18.732Z"
   },
   {
    "duration": 187,
    "start_time": "2022-03-16T13:22:38.590Z"
   },
   {
    "duration": 209,
    "start_time": "2022-03-16T13:22:44.869Z"
   },
   {
    "duration": 872,
    "start_time": "2022-03-16T13:24:05.481Z"
   },
   {
    "duration": 885,
    "start_time": "2022-03-16T13:26:35.161Z"
   },
   {
    "duration": 842,
    "start_time": "2022-03-16T13:28:59.960Z"
   },
   {
    "duration": 1154,
    "start_time": "2022-03-16T13:30:53.277Z"
   },
   {
    "duration": 51,
    "start_time": "2022-03-16T13:30:54.433Z"
   },
   {
    "duration": 39,
    "start_time": "2022-03-16T13:30:54.486Z"
   },
   {
    "duration": 52,
    "start_time": "2022-03-16T13:30:54.527Z"
   },
   {
    "duration": 217,
    "start_time": "2022-03-16T13:30:54.581Z"
   },
   {
    "duration": 216,
    "start_time": "2022-03-16T13:30:54.800Z"
   },
   {
    "duration": 899,
    "start_time": "2022-03-16T13:30:55.018Z"
   },
   {
    "duration": 361,
    "start_time": "2022-03-16T13:34:29.601Z"
   },
   {
    "duration": 824,
    "start_time": "2022-03-16T13:34:37.138Z"
   },
   {
    "duration": 845,
    "start_time": "2022-03-16T13:43:49.275Z"
   },
   {
    "duration": 1143,
    "start_time": "2022-03-16T13:44:09.289Z"
   },
   {
    "duration": 44,
    "start_time": "2022-03-16T13:44:10.433Z"
   },
   {
    "duration": 39,
    "start_time": "2022-03-16T13:44:10.479Z"
   },
   {
    "duration": 59,
    "start_time": "2022-03-16T13:44:10.520Z"
   },
   {
    "duration": 209,
    "start_time": "2022-03-16T13:44:10.580Z"
   },
   {
    "duration": 201,
    "start_time": "2022-03-16T13:44:10.790Z"
   },
   {
    "duration": 884,
    "start_time": "2022-03-16T13:44:10.992Z"
   },
   {
    "duration": 814,
    "start_time": "2022-03-16T13:46:04.537Z"
   },
   {
    "duration": 797,
    "start_time": "2022-03-16T13:47:05.824Z"
   },
   {
    "duration": 668,
    "start_time": "2022-03-16T14:18:14.707Z"
   },
   {
    "duration": 625,
    "start_time": "2022-03-16T14:18:45.831Z"
   },
   {
    "duration": 42,
    "start_time": "2022-03-16T14:20:03.398Z"
   },
   {
    "duration": 1224,
    "start_time": "2022-03-16T14:20:08.926Z"
   },
   {
    "duration": 46,
    "start_time": "2022-03-16T14:20:10.152Z"
   },
   {
    "duration": 47,
    "start_time": "2022-03-16T14:20:10.200Z"
   },
   {
    "duration": 47,
    "start_time": "2022-03-16T14:20:10.248Z"
   },
   {
    "duration": 240,
    "start_time": "2022-03-16T14:20:10.297Z"
   },
   {
    "duration": 210,
    "start_time": "2022-03-16T14:20:10.539Z"
   },
   {
    "duration": 684,
    "start_time": "2022-03-16T14:20:10.750Z"
   },
   {
    "duration": 62,
    "start_time": "2022-03-16T14:49:29.837Z"
   },
   {
    "duration": 40,
    "start_time": "2022-03-16T14:50:05.026Z"
   },
   {
    "duration": 231,
    "start_time": "2022-03-16T15:41:45.310Z"
   },
   {
    "duration": 152,
    "start_time": "2022-03-16T15:42:32.324Z"
   },
   {
    "duration": 165,
    "start_time": "2022-03-16T15:43:31.947Z"
   },
   {
    "duration": 16483,
    "start_time": "2022-03-16T15:44:47.021Z"
   },
   {
    "duration": 16621,
    "start_time": "2022-03-16T15:45:51.361Z"
   },
   {
    "duration": 70,
    "start_time": "2022-03-16T16:00:06.504Z"
   },
   {
    "duration": 81,
    "start_time": "2022-03-16T16:01:03.504Z"
   },
   {
    "duration": 120,
    "start_time": "2022-03-16T16:03:01.301Z"
   },
   {
    "duration": 42,
    "start_time": "2022-03-16T16:10:06.526Z"
   },
   {
    "duration": 133,
    "start_time": "2022-03-16T16:10:23.833Z"
   },
   {
    "duration": 396,
    "start_time": "2022-03-16T16:10:38.186Z"
   },
   {
    "duration": 408,
    "start_time": "2022-03-16T16:11:57.815Z"
   },
   {
    "duration": 370,
    "start_time": "2022-03-16T16:12:20.474Z"
   },
   {
    "duration": 425,
    "start_time": "2022-03-16T16:13:03.332Z"
   },
   {
    "duration": 151,
    "start_time": "2022-03-16T16:32:11.311Z"
   },
   {
    "duration": 485,
    "start_time": "2022-03-16T16:32:39.914Z"
   },
   {
    "duration": 542,
    "start_time": "2022-03-16T16:33:11.621Z"
   },
   {
    "duration": 342,
    "start_time": "2022-03-16T16:34:11.063Z"
   },
   {
    "duration": 447,
    "start_time": "2022-03-16T16:34:43.992Z"
   },
   {
    "duration": 321,
    "start_time": "2022-03-16T16:36:37.710Z"
   },
   {
    "duration": 267,
    "start_time": "2022-03-16T16:37:01.714Z"
   },
   {
    "duration": 272,
    "start_time": "2022-03-16T16:37:50.928Z"
   },
   {
    "duration": 250,
    "start_time": "2022-03-16T16:38:12.710Z"
   },
   {
    "duration": 1200,
    "start_time": "2022-03-16T16:54:44.144Z"
   },
   {
    "duration": 45,
    "start_time": "2022-03-16T16:54:45.346Z"
   },
   {
    "duration": 52,
    "start_time": "2022-03-16T16:54:45.393Z"
   },
   {
    "duration": 50,
    "start_time": "2022-03-16T16:54:45.447Z"
   },
   {
    "duration": 120,
    "start_time": "2022-03-16T16:54:45.499Z"
   },
   {
    "duration": 216,
    "start_time": "2022-03-16T16:54:45.621Z"
   },
   {
    "duration": 669,
    "start_time": "2022-03-16T16:54:45.839Z"
   },
   {
    "duration": 652,
    "start_time": "2022-03-16T17:21:46.022Z"
   },
   {
    "duration": 649,
    "start_time": "2022-03-16T17:22:17.990Z"
   },
   {
    "duration": 1095,
    "start_time": "2022-03-17T03:17:31.664Z"
   },
   {
    "duration": 42,
    "start_time": "2022-03-17T03:17:32.761Z"
   },
   {
    "duration": 51,
    "start_time": "2022-03-17T03:17:32.808Z"
   },
   {
    "duration": 71,
    "start_time": "2022-03-17T03:17:32.861Z"
   },
   {
    "duration": 75,
    "start_time": "2022-03-17T03:17:32.934Z"
   },
   {
    "duration": 205,
    "start_time": "2022-03-17T03:17:33.011Z"
   },
   {
    "duration": 651,
    "start_time": "2022-03-17T03:17:33.219Z"
   },
   {
    "duration": 585,
    "start_time": "2022-03-17T03:21:01.665Z"
   },
   {
    "duration": 32,
    "start_time": "2022-03-17T03:21:25.065Z"
   },
   {
    "duration": 580,
    "start_time": "2022-03-17T03:23:51.948Z"
   },
   {
    "duration": 582,
    "start_time": "2022-03-17T03:25:13.280Z"
   },
   {
    "duration": 44,
    "start_time": "2022-03-17T03:39:11.063Z"
   },
   {
    "duration": 21,
    "start_time": "2022-03-17T03:40:52.602Z"
   },
   {
    "duration": 20,
    "start_time": "2022-03-17T03:41:29.818Z"
   },
   {
    "duration": 1103,
    "start_time": "2022-03-17T03:41:36.902Z"
   },
   {
    "duration": 48,
    "start_time": "2022-03-17T03:41:38.007Z"
   },
   {
    "duration": 39,
    "start_time": "2022-03-17T03:41:38.058Z"
   },
   {
    "duration": 62,
    "start_time": "2022-03-17T03:41:38.099Z"
   },
   {
    "duration": 22,
    "start_time": "2022-03-17T03:41:38.162Z"
   },
   {
    "duration": 103,
    "start_time": "2022-03-17T03:41:38.185Z"
   },
   {
    "duration": 196,
    "start_time": "2022-03-17T03:41:38.290Z"
   },
   {
    "duration": 627,
    "start_time": "2022-03-17T03:41:38.488Z"
   },
   {
    "duration": 41,
    "start_time": "2022-03-17T03:41:39.117Z"
   },
   {
    "duration": 1126,
    "start_time": "2022-03-17T03:43:23.069Z"
   },
   {
    "duration": 46,
    "start_time": "2022-03-17T03:43:24.197Z"
   },
   {
    "duration": 41,
    "start_time": "2022-03-17T03:43:24.246Z"
   },
   {
    "duration": 69,
    "start_time": "2022-03-17T03:43:24.289Z"
   },
   {
    "duration": 20,
    "start_time": "2022-03-17T03:43:24.360Z"
   },
   {
    "duration": 100,
    "start_time": "2022-03-17T03:43:24.382Z"
   },
   {
    "duration": 193,
    "start_time": "2022-03-17T03:43:24.484Z"
   },
   {
    "duration": 636,
    "start_time": "2022-03-17T03:43:24.679Z"
   },
   {
    "duration": 41,
    "start_time": "2022-03-17T03:43:25.317Z"
   },
   {
    "duration": 41,
    "start_time": "2022-03-17T03:44:32.156Z"
   },
   {
    "duration": 36,
    "start_time": "2022-03-17T03:44:40.122Z"
   },
   {
    "duration": 43,
    "start_time": "2022-03-17T03:45:03.423Z"
   },
   {
    "duration": 35,
    "start_time": "2022-03-17T03:45:11.266Z"
   },
   {
    "duration": 249,
    "start_time": "2022-03-17T03:46:14.884Z"
   },
   {
    "duration": 1104,
    "start_time": "2022-03-17T03:46:30.208Z"
   },
   {
    "duration": 43,
    "start_time": "2022-03-17T03:46:31.314Z"
   },
   {
    "duration": 38,
    "start_time": "2022-03-17T03:46:31.359Z"
   },
   {
    "duration": 64,
    "start_time": "2022-03-17T03:46:31.399Z"
   },
   {
    "duration": 90,
    "start_time": "2022-03-17T03:46:31.465Z"
   },
   {
    "duration": 4,
    "start_time": "2022-03-17T03:46:31.557Z"
   },
   {
    "duration": 29,
    "start_time": "2022-03-17T03:46:31.562Z"
   },
   {
    "duration": 82,
    "start_time": "2022-03-17T03:46:31.593Z"
   },
   {
    "duration": 26,
    "start_time": "2022-03-17T03:46:31.676Z"
   },
   {
    "duration": 2362,
    "start_time": "2022-03-20T07:24:17.346Z"
   },
   {
    "duration": 66,
    "start_time": "2022-03-20T07:24:19.711Z"
   },
   {
    "duration": 42,
    "start_time": "2022-03-20T07:24:19.781Z"
   },
   {
    "duration": 104,
    "start_time": "2022-03-20T07:24:19.826Z"
   },
   {
    "duration": 268,
    "start_time": "2022-03-20T07:24:19.932Z"
   },
   {
    "duration": 5,
    "start_time": "2022-03-20T07:24:20.203Z"
   },
   {
    "duration": 56,
    "start_time": "2022-03-20T07:24:20.211Z"
   },
   {
    "duration": 144,
    "start_time": "2022-03-20T07:24:20.270Z"
   },
   {
    "duration": 56,
    "start_time": "2022-03-20T07:24:20.416Z"
   },
   {
    "duration": 28,
    "start_time": "2022-03-20T07:27:13.964Z"
   },
   {
    "duration": 95,
    "start_time": "2022-03-20T07:33:07.473Z"
   },
   {
    "duration": 361,
    "start_time": "2022-03-20T07:53:30.453Z"
   },
   {
    "duration": 183,
    "start_time": "2022-03-20T07:53:42.986Z"
   },
   {
    "duration": 6,
    "start_time": "2022-03-20T07:54:34.471Z"
   },
   {
    "duration": 2060,
    "start_time": "2022-03-20T07:54:39.415Z"
   },
   {
    "duration": 64,
    "start_time": "2022-03-20T07:54:41.478Z"
   },
   {
    "duration": 59,
    "start_time": "2022-03-20T07:54:41.544Z"
   },
   {
    "duration": 141,
    "start_time": "2022-03-20T07:54:41.607Z"
   },
   {
    "duration": 262,
    "start_time": "2022-03-20T07:54:41.751Z"
   },
   {
    "duration": 6,
    "start_time": "2022-03-20T07:54:42.015Z"
   },
   {
    "duration": 60,
    "start_time": "2022-03-20T07:54:42.023Z"
   },
   {
    "duration": 85,
    "start_time": "2022-03-20T07:54:42.086Z"
   },
   {
    "duration": 45,
    "start_time": "2022-03-20T07:54:42.173Z"
   },
   {
    "duration": 154,
    "start_time": "2022-03-20T07:54:42.221Z"
   },
   {
    "duration": 157,
    "start_time": "2022-03-20T07:55:32.169Z"
   },
   {
    "duration": 2077,
    "start_time": "2022-03-20T07:56:57.386Z"
   },
   {
    "duration": 72,
    "start_time": "2022-03-20T07:56:59.466Z"
   },
   {
    "duration": 50,
    "start_time": "2022-03-20T07:56:59.544Z"
   },
   {
    "duration": 107,
    "start_time": "2022-03-20T07:56:59.598Z"
   },
   {
    "duration": 285,
    "start_time": "2022-03-20T07:56:59.707Z"
   },
   {
    "duration": 6,
    "start_time": "2022-03-20T07:56:59.995Z"
   },
   {
    "duration": 63,
    "start_time": "2022-03-20T07:57:00.004Z"
   },
   {
    "duration": 75,
    "start_time": "2022-03-20T07:57:00.070Z"
   },
   {
    "duration": 48,
    "start_time": "2022-03-20T07:57:00.167Z"
   },
   {
    "duration": 158,
    "start_time": "2022-03-20T07:57:00.219Z"
   },
   {
    "duration": 389,
    "start_time": "2022-03-20T07:57:00.380Z"
   },
   {
    "duration": 2219,
    "start_time": "2022-03-20T09:28:46.222Z"
   },
   {
    "duration": 71,
    "start_time": "2022-03-20T09:28:48.444Z"
   },
   {
    "duration": 58,
    "start_time": "2022-03-20T09:28:48.518Z"
   },
   {
    "duration": 75,
    "start_time": "2022-03-20T09:28:48.578Z"
   },
   {
    "duration": 254,
    "start_time": "2022-03-20T09:28:48.669Z"
   },
   {
    "duration": 7,
    "start_time": "2022-03-20T09:28:48.925Z"
   },
   {
    "duration": 55,
    "start_time": "2022-03-20T09:28:48.934Z"
   },
   {
    "duration": 3,
    "start_time": "2022-03-20T09:28:48.991Z"
   },
   {
    "duration": 8,
    "start_time": "2022-03-20T09:28:48.996Z"
   },
   {
    "duration": 297,
    "start_time": "2022-03-20T09:28:49.009Z"
   },
   {
    "duration": 0,
    "start_time": "2022-03-20T09:28:49.309Z"
   },
   {
    "duration": 0,
    "start_time": "2022-03-20T09:28:49.311Z"
   },
   {
    "duration": 11,
    "start_time": "2022-03-20T09:31:45.170Z"
   },
   {
    "duration": 86,
    "start_time": "2022-03-20T09:33:49.786Z"
   },
   {
    "duration": 266,
    "start_time": "2022-03-20T09:36:37.613Z"
   },
   {
    "duration": 8,
    "start_time": "2022-03-20T09:43:12.609Z"
   },
   {
    "duration": 11,
    "start_time": "2022-03-20T09:44:55.647Z"
   },
   {
    "duration": 2120,
    "start_time": "2022-03-20T09:45:45.529Z"
   },
   {
    "duration": 72,
    "start_time": "2022-03-20T09:45:47.652Z"
   },
   {
    "duration": 58,
    "start_time": "2022-03-20T09:45:47.727Z"
   },
   {
    "duration": 93,
    "start_time": "2022-03-20T09:45:47.788Z"
   },
   {
    "duration": 266,
    "start_time": "2022-03-20T09:45:47.883Z"
   },
   {
    "duration": 6,
    "start_time": "2022-03-20T09:45:48.152Z"
   },
   {
    "duration": 40,
    "start_time": "2022-03-20T09:45:48.168Z"
   },
   {
    "duration": 8,
    "start_time": "2022-03-20T09:45:48.210Z"
   },
   {
    "duration": 169,
    "start_time": "2022-03-20T09:45:48.221Z"
   },
   {
    "duration": 394,
    "start_time": "2022-03-20T09:45:48.395Z"
   },
   {
    "duration": 6,
    "start_time": "2022-03-20T09:45:48.791Z"
   },
   {
    "duration": 10,
    "start_time": "2022-03-20T09:45:48.800Z"
   },
   {
    "duration": 11,
    "start_time": "2022-03-20T09:45:48.813Z"
   },
   {
    "duration": 76,
    "start_time": "2022-03-20T09:45:48.826Z"
   },
   {
    "duration": 262,
    "start_time": "2022-03-20T09:45:48.970Z"
   },
   {
    "duration": 0,
    "start_time": "2022-03-20T09:45:49.235Z"
   },
   {
    "duration": 132,
    "start_time": "2022-03-20T09:48:39.535Z"
   },
   {
    "duration": 78,
    "start_time": "2022-03-20T09:49:09.101Z"
   },
   {
    "duration": 854,
    "start_time": "2022-03-20T09:52:52.702Z"
   },
   {
    "duration": 2420,
    "start_time": "2022-03-20T09:57:20.018Z"
   },
   {
    "duration": 72,
    "start_time": "2022-03-20T09:57:22.441Z"
   },
   {
    "duration": 74,
    "start_time": "2022-03-20T09:57:22.515Z"
   },
   {
    "duration": 133,
    "start_time": "2022-03-20T09:57:22.593Z"
   },
   {
    "duration": 369,
    "start_time": "2022-03-20T09:57:22.729Z"
   },
   {
    "duration": 8,
    "start_time": "2022-03-20T09:57:23.100Z"
   },
   {
    "duration": 60,
    "start_time": "2022-03-20T09:57:23.110Z"
   },
   {
    "duration": 10,
    "start_time": "2022-03-20T09:57:23.173Z"
   },
   {
    "duration": 116,
    "start_time": "2022-03-20T09:57:23.185Z"
   },
   {
    "duration": 430,
    "start_time": "2022-03-20T09:57:23.305Z"
   },
   {
    "duration": 8,
    "start_time": "2022-03-20T09:57:23.738Z"
   },
   {
    "duration": 20,
    "start_time": "2022-03-20T09:57:23.751Z"
   },
   {
    "duration": 10,
    "start_time": "2022-03-20T09:57:23.774Z"
   },
   {
    "duration": 180,
    "start_time": "2022-03-20T09:57:23.787Z"
   },
   {
    "duration": 729,
    "start_time": "2022-03-20T09:57:23.970Z"
   },
   {
    "duration": 114,
    "start_time": "2022-03-20T09:57:24.702Z"
   },
   {
    "duration": 214,
    "start_time": "2022-03-20T09:59:03.257Z"
   },
   {
    "duration": 68747,
    "start_time": "2022-03-20T10:00:03.125Z"
   },
   {
    "duration": 49,
    "start_time": "2022-03-20T10:07:38.124Z"
   },
   {
    "duration": 208,
    "start_time": "2022-03-20T10:09:02.201Z"
   },
   {
    "duration": 124,
    "start_time": "2022-03-20T10:13:53.643Z"
   },
   {
    "duration": 183366,
    "start_time": "2022-03-20T10:14:45.445Z"
   },
   {
    "duration": 30036,
    "start_time": "2022-03-20T10:19:34.969Z"
   },
   {
    "duration": 8,
    "start_time": "2022-03-20T10:31:08.100Z"
   },
   {
    "duration": 227,
    "start_time": "2022-03-20T10:31:36.312Z"
   },
   {
    "duration": 7,
    "start_time": "2022-03-20T10:32:06.827Z"
   },
   {
    "duration": 28,
    "start_time": "2022-03-20T10:32:27.397Z"
   },
   {
    "duration": 6,
    "start_time": "2022-03-20T10:34:14.156Z"
   },
   {
    "duration": 1969,
    "start_time": "2022-03-20T10:34:20.015Z"
   },
   {
    "duration": 69,
    "start_time": "2022-03-20T10:34:21.987Z"
   },
   {
    "duration": 50,
    "start_time": "2022-03-20T10:34:22.058Z"
   },
   {
    "duration": 100,
    "start_time": "2022-03-20T10:34:22.110Z"
   },
   {
    "duration": 275,
    "start_time": "2022-03-20T10:34:22.213Z"
   },
   {
    "duration": 6,
    "start_time": "2022-03-20T10:34:22.490Z"
   },
   {
    "duration": 41,
    "start_time": "2022-03-20T10:34:22.499Z"
   },
   {
    "duration": 26,
    "start_time": "2022-03-20T10:34:22.542Z"
   },
   {
    "duration": 116,
    "start_time": "2022-03-20T10:34:22.571Z"
   },
   {
    "duration": 314,
    "start_time": "2022-03-20T10:34:22.693Z"
   },
   {
    "duration": 7,
    "start_time": "2022-03-20T10:34:23.010Z"
   },
   {
    "duration": 8,
    "start_time": "2022-03-20T10:34:23.020Z"
   },
   {
    "duration": 36,
    "start_time": "2022-03-20T10:34:23.031Z"
   },
   {
    "duration": 103,
    "start_time": "2022-03-20T10:34:23.070Z"
   },
   {
    "duration": 306,
    "start_time": "2022-03-20T10:34:23.177Z"
   },
   {
    "duration": 68200,
    "start_time": "2022-03-20T10:34:23.485Z"
   },
   {
    "duration": 182,
    "start_time": "2022-03-20T10:35:31.687Z"
   },
   {
    "duration": 274,
    "start_time": "2022-03-20T10:35:31.873Z"
   },
   {
    "duration": 30028,
    "start_time": "2022-03-20T10:35:32.150Z"
   },
   {
    "duration": 8,
    "start_time": "2022-03-20T10:36:02.180Z"
   },
   {
    "duration": 86,
    "start_time": "2022-03-20T10:36:02.190Z"
   },
   {
    "duration": 278,
    "start_time": "2022-03-20T10:39:09.121Z"
   },
   {
    "duration": 304,
    "start_time": "2022-03-20T10:39:24.167Z"
   },
   {
    "duration": 279,
    "start_time": "2022-03-20T10:39:30.652Z"
   },
   {
    "duration": 126,
    "start_time": "2022-03-20T10:51:18.043Z"
   },
   {
    "duration": 83005,
    "start_time": "2022-03-20T10:51:39.873Z"
   },
   {
    "duration": 29913,
    "start_time": "2022-03-20T10:53:20.380Z"
   },
   {
    "duration": 256,
    "start_time": "2022-03-20T10:57:07.504Z"
   },
   {
    "duration": 268,
    "start_time": "2022-03-20T11:00:02.605Z"
   },
   {
    "duration": 243,
    "start_time": "2022-03-20T11:04:26.507Z"
   },
   {
    "duration": 29,
    "start_time": "2022-03-20T11:04:52.278Z"
   },
   {
    "duration": 2092,
    "start_time": "2022-03-20T11:05:18.837Z"
   },
   {
    "duration": 68,
    "start_time": "2022-03-20T11:05:20.931Z"
   },
   {
    "duration": 74,
    "start_time": "2022-03-20T11:05:21.002Z"
   },
   {
    "duration": 123,
    "start_time": "2022-03-20T11:05:21.080Z"
   },
   {
    "duration": 294,
    "start_time": "2022-03-20T11:05:21.206Z"
   },
   {
    "duration": 7,
    "start_time": "2022-03-20T11:05:21.503Z"
   },
   {
    "duration": 59,
    "start_time": "2022-03-20T11:05:21.513Z"
   },
   {
    "duration": 10,
    "start_time": "2022-03-20T11:05:21.575Z"
   },
   {
    "duration": 113,
    "start_time": "2022-03-20T11:05:21.587Z"
   },
   {
    "duration": 311,
    "start_time": "2022-03-20T11:05:21.704Z"
   },
   {
    "duration": 6,
    "start_time": "2022-03-20T11:05:22.018Z"
   },
   {
    "duration": 9,
    "start_time": "2022-03-20T11:05:22.026Z"
   },
   {
    "duration": 30,
    "start_time": "2022-03-20T11:05:22.037Z"
   },
   {
    "duration": 102,
    "start_time": "2022-03-20T11:05:22.070Z"
   },
   {
    "duration": 303,
    "start_time": "2022-03-20T11:05:22.175Z"
   },
   {
    "duration": 66500,
    "start_time": "2022-03-20T11:05:22.481Z"
   },
   {
    "duration": 84,
    "start_time": "2022-03-20T11:06:28.984Z"
   },
   {
    "duration": 310,
    "start_time": "2022-03-20T11:06:29.072Z"
   },
   {
    "duration": 28785,
    "start_time": "2022-03-20T11:06:29.384Z"
   },
   {
    "duration": 7,
    "start_time": "2022-03-20T11:06:58.171Z"
   },
   {
    "duration": 188,
    "start_time": "2022-03-20T11:06:58.180Z"
   },
   {
    "duration": 297,
    "start_time": "2022-03-20T11:06:58.370Z"
   },
   {
    "duration": 28836,
    "start_time": "2022-03-20T11:06:58.670Z"
   },
   {
    "duration": 310,
    "start_time": "2022-03-20T11:07:27.509Z"
   },
   {
    "duration": 23,
    "start_time": "2022-03-20T11:07:27.822Z"
   },
   {
    "duration": 1900,
    "start_time": "2022-03-20T11:12:02.535Z"
   },
   {
    "duration": 66,
    "start_time": "2022-03-20T11:12:04.438Z"
   },
   {
    "duration": 61,
    "start_time": "2022-03-20T11:12:04.507Z"
   },
   {
    "duration": 72,
    "start_time": "2022-03-20T11:12:04.571Z"
   },
   {
    "duration": 257,
    "start_time": "2022-03-20T11:12:04.645Z"
   },
   {
    "duration": 7,
    "start_time": "2022-03-20T11:12:04.905Z"
   },
   {
    "duration": 59,
    "start_time": "2022-03-20T11:12:04.915Z"
   },
   {
    "duration": 9,
    "start_time": "2022-03-20T11:12:04.976Z"
   },
   {
    "duration": 114,
    "start_time": "2022-03-20T11:12:04.988Z"
   },
   {
    "duration": 313,
    "start_time": "2022-03-20T11:12:05.108Z"
   },
   {
    "duration": 7,
    "start_time": "2022-03-20T11:12:05.424Z"
   },
   {
    "duration": 34,
    "start_time": "2022-03-20T11:12:05.434Z"
   },
   {
    "duration": 8,
    "start_time": "2022-03-20T11:12:05.470Z"
   },
   {
    "duration": 92,
    "start_time": "2022-03-20T11:12:05.480Z"
   },
   {
    "duration": 309,
    "start_time": "2022-03-20T11:12:05.575Z"
   },
   {
    "duration": 67013,
    "start_time": "2022-03-20T11:12:05.886Z"
   },
   {
    "duration": 75,
    "start_time": "2022-03-20T11:13:12.901Z"
   },
   {
    "duration": 309,
    "start_time": "2022-03-20T11:13:12.980Z"
   },
   {
    "duration": 29383,
    "start_time": "2022-03-20T11:13:13.291Z"
   },
   {
    "duration": 7,
    "start_time": "2022-03-20T11:13:42.677Z"
   },
   {
    "duration": 88,
    "start_time": "2022-03-20T11:13:42.686Z"
   },
   {
    "duration": 383,
    "start_time": "2022-03-20T11:13:42.777Z"
   },
   {
    "duration": 29640,
    "start_time": "2022-03-20T11:13:43.162Z"
   },
   {
    "duration": 284,
    "start_time": "2022-03-20T11:14:12.804Z"
   },
   {
    "duration": 22,
    "start_time": "2022-03-20T11:14:13.091Z"
   },
   {
    "duration": 25,
    "start_time": "2022-03-20T11:45:49.057Z"
   },
   {
    "duration": 187,
    "start_time": "2022-03-20T11:50:34.493Z"
   },
   {
    "duration": 2180,
    "start_time": "2022-03-20T12:09:52.251Z"
   },
   {
    "duration": 67,
    "start_time": "2022-03-20T12:09:54.434Z"
   },
   {
    "duration": 44,
    "start_time": "2022-03-20T12:09:54.503Z"
   },
   {
    "duration": 72,
    "start_time": "2022-03-20T12:09:54.569Z"
   },
   {
    "duration": 256,
    "start_time": "2022-03-20T12:09:54.643Z"
   },
   {
    "duration": 6,
    "start_time": "2022-03-20T12:09:54.901Z"
   },
   {
    "duration": 58,
    "start_time": "2022-03-20T12:09:54.909Z"
   },
   {
    "duration": 9,
    "start_time": "2022-03-20T12:09:54.969Z"
   },
   {
    "duration": 110,
    "start_time": "2022-03-20T12:09:54.980Z"
   },
   {
    "duration": 361,
    "start_time": "2022-03-20T12:09:55.095Z"
   },
   {
    "duration": 9,
    "start_time": "2022-03-20T12:09:55.467Z"
   },
   {
    "duration": 10,
    "start_time": "2022-03-20T12:09:55.478Z"
   },
   {
    "duration": 10,
    "start_time": "2022-03-20T12:09:55.491Z"
   },
   {
    "duration": 165,
    "start_time": "2022-03-20T12:09:55.503Z"
   },
   {
    "duration": 263,
    "start_time": "2022-03-20T12:09:55.671Z"
   },
   {
    "duration": 67266,
    "start_time": "2022-03-20T12:09:55.936Z"
   },
   {
    "duration": 74,
    "start_time": "2022-03-20T12:11:03.205Z"
   },
   {
    "duration": 305,
    "start_time": "2022-03-20T12:11:03.375Z"
   },
   {
    "duration": 29417,
    "start_time": "2022-03-20T12:11:03.683Z"
   },
   {
    "duration": 8,
    "start_time": "2022-03-20T12:11:33.103Z"
   },
   {
    "duration": 160,
    "start_time": "2022-03-20T12:11:33.113Z"
   },
   {
    "duration": 441,
    "start_time": "2022-03-20T12:11:33.277Z"
   },
   {
    "duration": 29562,
    "start_time": "2022-03-20T12:11:33.721Z"
   },
   {
    "duration": 283,
    "start_time": "2022-03-20T12:12:03.285Z"
   },
   {
    "duration": 31,
    "start_time": "2022-03-20T12:12:03.571Z"
   },
   {
    "duration": 218,
    "start_time": "2022-03-20T12:12:03.605Z"
   },
   {
    "duration": 183,
    "start_time": "2022-03-20T12:15:59.533Z"
   },
   {
    "duration": 2037,
    "start_time": "2022-03-20T12:16:12.032Z"
   },
   {
    "duration": 69,
    "start_time": "2022-03-20T12:16:14.073Z"
   },
   {
    "duration": 61,
    "start_time": "2022-03-20T12:16:14.144Z"
   },
   {
    "duration": 101,
    "start_time": "2022-03-20T12:16:14.209Z"
   },
   {
    "duration": 382,
    "start_time": "2022-03-20T12:16:14.313Z"
   },
   {
    "duration": 7,
    "start_time": "2022-03-20T12:16:14.698Z"
   },
   {
    "duration": 68,
    "start_time": "2022-03-20T12:16:14.707Z"
   },
   {
    "duration": 8,
    "start_time": "2022-03-20T12:16:14.777Z"
   },
   {
    "duration": 112,
    "start_time": "2022-03-20T12:16:14.787Z"
   },
   {
    "duration": 318,
    "start_time": "2022-03-20T12:16:14.903Z"
   },
   {
    "duration": 6,
    "start_time": "2022-03-20T12:16:15.223Z"
   },
   {
    "duration": 10,
    "start_time": "2022-03-20T12:16:15.231Z"
   },
   {
    "duration": 8,
    "start_time": "2022-03-20T12:16:15.267Z"
   },
   {
    "duration": 190,
    "start_time": "2022-03-20T12:16:15.277Z"
   },
   {
    "duration": 218,
    "start_time": "2022-03-20T12:16:15.470Z"
   },
   {
    "duration": 67716,
    "start_time": "2022-03-20T12:16:15.691Z"
   },
   {
    "duration": 257,
    "start_time": "2022-03-20T12:17:23.411Z"
   },
   {
    "duration": 226,
    "start_time": "2022-03-20T12:17:23.671Z"
   },
   {
    "duration": 29579,
    "start_time": "2022-03-20T12:17:23.899Z"
   },
   {
    "duration": 9,
    "start_time": "2022-03-20T12:17:53.481Z"
   },
   {
    "duration": 89,
    "start_time": "2022-03-20T12:17:53.493Z"
   },
   {
    "duration": 491,
    "start_time": "2022-03-20T12:17:53.667Z"
   },
   {
    "duration": 29643,
    "start_time": "2022-03-20T12:17:54.160Z"
   },
   {
    "duration": 306,
    "start_time": "2022-03-20T12:18:23.805Z"
   },
   {
    "duration": 25,
    "start_time": "2022-03-20T12:18:24.114Z"
   },
   {
    "duration": 211,
    "start_time": "2022-03-20T12:18:24.142Z"
   },
   {
    "duration": 4563,
    "start_time": "2022-03-21T08:35:54.273Z"
   },
   {
    "duration": 53,
    "start_time": "2022-03-21T08:35:58.839Z"
   },
   {
    "duration": 45,
    "start_time": "2022-03-21T08:35:58.894Z"
   },
   {
    "duration": 48,
    "start_time": "2022-03-21T08:35:58.942Z"
   },
   {
    "duration": 192,
    "start_time": "2022-03-21T08:35:58.992Z"
   },
   {
    "duration": 6,
    "start_time": "2022-03-21T08:35:59.185Z"
   },
   {
    "duration": 55,
    "start_time": "2022-03-21T08:35:59.193Z"
   },
   {
    "duration": 6,
    "start_time": "2022-03-21T08:35:59.250Z"
   },
   {
    "duration": 92,
    "start_time": "2022-03-21T08:35:59.257Z"
   },
   {
    "duration": 218,
    "start_time": "2022-03-21T08:35:59.353Z"
   },
   {
    "duration": 5,
    "start_time": "2022-03-21T08:35:59.572Z"
   },
   {
    "duration": 9,
    "start_time": "2022-03-21T08:35:59.579Z"
   },
   {
    "duration": 10,
    "start_time": "2022-03-21T08:35:59.590Z"
   },
   {
    "duration": 52,
    "start_time": "2022-03-21T08:35:59.602Z"
   },
   {
    "duration": 359,
    "start_time": "2022-03-21T08:35:59.656Z"
   },
   {
    "duration": 51639,
    "start_time": "2022-03-21T08:36:00.018Z"
   },
   {
    "duration": 87,
    "start_time": "2022-03-21T08:36:51.659Z"
   },
   {
    "duration": 234,
    "start_time": "2022-03-21T08:36:51.749Z"
   },
   {
    "duration": 23099,
    "start_time": "2022-03-21T08:36:51.985Z"
   },
   {
    "duration": 53,
    "start_time": "2022-03-21T08:37:15.086Z"
   },
   {
    "duration": 38,
    "start_time": "2022-03-21T08:37:15.142Z"
   },
   {
    "duration": 317,
    "start_time": "2022-03-21T08:37:15.255Z"
   },
   {
    "duration": 22787,
    "start_time": "2022-03-21T08:37:15.574Z"
   },
   {
    "duration": 193,
    "start_time": "2022-03-21T08:37:38.364Z"
   },
   {
    "duration": 18,
    "start_time": "2022-03-21T08:37:38.559Z"
   },
   {
    "duration": 147,
    "start_time": "2022-03-21T08:37:38.579Z"
   },
   {
    "duration": 2856,
    "start_time": "2022-03-21T09:41:07.362Z"
   },
   {
    "duration": 48,
    "start_time": "2022-03-21T09:41:10.220Z"
   },
   {
    "duration": 30,
    "start_time": "2022-03-21T09:41:10.270Z"
   },
   {
    "duration": 63,
    "start_time": "2022-03-21T09:41:10.303Z"
   },
   {
    "duration": 164,
    "start_time": "2022-03-21T09:41:10.368Z"
   },
   {
    "duration": 5,
    "start_time": "2022-03-21T09:41:10.537Z"
   },
   {
    "duration": 29,
    "start_time": "2022-03-21T09:41:10.544Z"
   },
   {
    "duration": 6,
    "start_time": "2022-03-21T09:41:10.575Z"
   },
   {
    "duration": 76,
    "start_time": "2022-03-21T09:41:10.582Z"
   },
   {
    "duration": 196,
    "start_time": "2022-03-21T09:41:10.661Z"
   },
   {
    "duration": 4,
    "start_time": "2022-03-21T09:41:10.859Z"
   },
   {
    "duration": 9,
    "start_time": "2022-03-21T09:41:10.865Z"
   },
   {
    "duration": 9,
    "start_time": "2022-03-21T09:41:10.876Z"
   },
   {
    "duration": 54,
    "start_time": "2022-03-21T09:41:10.886Z"
   },
   {
    "duration": 247,
    "start_time": "2022-03-21T09:41:10.942Z"
   },
   {
    "duration": 44261,
    "start_time": "2022-03-21T09:41:11.191Z"
   },
   {
    "duration": 85,
    "start_time": "2022-03-21T09:41:55.454Z"
   },
   {
    "duration": 244,
    "start_time": "2022-03-21T09:41:55.543Z"
   },
   {
    "duration": 19967,
    "start_time": "2022-03-21T09:41:55.789Z"
   },
   {
    "duration": 5,
    "start_time": "2022-03-21T09:42:15.758Z"
   },
   {
    "duration": 77,
    "start_time": "2022-03-21T09:42:15.764Z"
   },
   {
    "duration": 305,
    "start_time": "2022-03-21T09:42:15.847Z"
   },
   {
    "duration": 19311,
    "start_time": "2022-03-21T09:42:16.154Z"
   },
   {
    "duration": 188,
    "start_time": "2022-03-21T09:42:35.466Z"
   },
   {
    "duration": 15,
    "start_time": "2022-03-21T09:42:35.656Z"
   },
   {
    "duration": 128,
    "start_time": "2022-03-21T09:42:35.673Z"
   },
   {
    "duration": 275,
    "start_time": "2022-03-22T09:33:39.549Z"
   },
   {
    "duration": 170,
    "start_time": "2022-03-22T09:33:48.977Z"
   },
   {
    "duration": 243,
    "start_time": "2022-03-22T09:34:11.866Z"
   },
   {
    "duration": 253,
    "start_time": "2022-03-22T09:34:21.474Z"
   },
   {
    "duration": 1117,
    "start_time": "2022-03-22T09:35:21.438Z"
   },
   {
    "duration": 1228,
    "start_time": "2022-03-22T09:35:28.084Z"
   },
   {
    "duration": 997,
    "start_time": "2022-03-22T09:36:00.350Z"
   },
   {
    "duration": 181,
    "start_time": "2022-03-22T10:16:15.966Z"
   },
   {
    "duration": 47,
    "start_time": "2022-03-22T10:44:37.831Z"
   },
   {
    "duration": 243,
    "start_time": "2022-03-22T10:50:40.565Z"
   },
   {
    "duration": 183,
    "start_time": "2022-03-22T10:50:45.882Z"
   },
   {
    "duration": 174,
    "start_time": "2022-03-22T10:51:04.107Z"
   },
   {
    "duration": 308,
    "start_time": "2022-03-22T10:51:16.372Z"
   },
   {
    "duration": 154,
    "start_time": "2022-03-22T10:51:26.539Z"
   },
   {
    "duration": 169,
    "start_time": "2022-03-22T10:51:31.064Z"
   },
   {
    "duration": 192,
    "start_time": "2022-03-22T10:51:46.457Z"
   },
   {
    "duration": 195,
    "start_time": "2022-03-22T10:51:58.378Z"
   },
   {
    "duration": 155,
    "start_time": "2022-03-22T10:52:04.336Z"
   },
   {
    "duration": 131,
    "start_time": "2022-03-22T10:52:16.074Z"
   },
   {
    "duration": 6,
    "start_time": "2022-03-22T10:55:24.675Z"
   },
   {
    "duration": 2043,
    "start_time": "2022-03-22T10:58:12.709Z"
   },
   {
    "duration": 43,
    "start_time": "2022-03-22T10:58:14.754Z"
   },
   {
    "duration": 37,
    "start_time": "2022-03-22T10:58:14.799Z"
   },
   {
    "duration": 20,
    "start_time": "2022-03-22T10:58:14.838Z"
   },
   {
    "duration": 74,
    "start_time": "2022-03-22T10:58:14.859Z"
   },
   {
    "duration": 147,
    "start_time": "2022-03-22T10:58:14.935Z"
   },
   {
    "duration": 4,
    "start_time": "2022-03-22T10:58:15.083Z"
   },
   {
    "duration": 27,
    "start_time": "2022-03-22T10:58:15.089Z"
   },
   {
    "duration": 18,
    "start_time": "2022-03-22T10:58:15.117Z"
   },
   {
    "duration": 62,
    "start_time": "2022-03-22T10:58:15.137Z"
   },
   {
    "duration": 186,
    "start_time": "2022-03-22T10:58:15.201Z"
   },
   {
    "duration": 4,
    "start_time": "2022-03-22T10:58:15.389Z"
   },
   {
    "duration": 15,
    "start_time": "2022-03-22T10:58:15.395Z"
   },
   {
    "duration": 14,
    "start_time": "2022-03-22T10:58:15.411Z"
   },
   {
    "duration": 24,
    "start_time": "2022-03-22T10:58:15.427Z"
   },
   {
    "duration": 316,
    "start_time": "2022-03-22T10:58:15.453Z"
   },
   {
    "duration": 46966,
    "start_time": "2022-03-22T10:58:15.771Z"
   },
   {
    "duration": 22,
    "start_time": "2022-03-22T10:59:02.739Z"
   },
   {
    "duration": 253,
    "start_time": "2022-03-22T10:59:02.832Z"
   },
   {
    "duration": 20571,
    "start_time": "2022-03-22T10:59:03.087Z"
   },
   {
    "duration": 5,
    "start_time": "2022-03-22T10:59:23.660Z"
   },
   {
    "duration": 95,
    "start_time": "2022-03-22T10:59:23.667Z"
   },
   {
    "duration": 371,
    "start_time": "2022-03-22T10:59:23.764Z"
   },
   {
    "duration": 20512,
    "start_time": "2022-03-22T10:59:24.137Z"
   },
   {
    "duration": 189,
    "start_time": "2022-03-22T10:59:44.651Z"
   },
   {
    "duration": 17,
    "start_time": "2022-03-22T10:59:44.841Z"
   },
   {
    "duration": 135,
    "start_time": "2022-03-22T10:59:44.859Z"
   },
   {
    "duration": 244,
    "start_time": "2022-03-22T11:12:41.001Z"
   },
   {
    "duration": 21,
    "start_time": "2022-03-22T11:16:33.830Z"
   },
   {
    "duration": 1588,
    "start_time": "2022-03-22T11:37:05.168Z"
   },
   {
    "duration": 46,
    "start_time": "2022-03-22T11:37:06.758Z"
   },
   {
    "duration": 43,
    "start_time": "2022-03-22T11:37:06.806Z"
   },
   {
    "duration": 21,
    "start_time": "2022-03-22T11:37:06.851Z"
   },
   {
    "duration": 69,
    "start_time": "2022-03-22T11:37:06.874Z"
   },
   {
    "duration": 161,
    "start_time": "2022-03-22T11:37:06.944Z"
   },
   {
    "duration": 4,
    "start_time": "2022-03-22T11:37:07.107Z"
   },
   {
    "duration": 36,
    "start_time": "2022-03-22T11:37:07.113Z"
   },
   {
    "duration": 5,
    "start_time": "2022-03-22T11:37:07.151Z"
   },
   {
    "duration": 82,
    "start_time": "2022-03-22T11:37:07.159Z"
   },
   {
    "duration": 198,
    "start_time": "2022-03-22T11:37:07.242Z"
   },
   {
    "duration": 5,
    "start_time": "2022-03-22T11:37:07.441Z"
   },
   {
    "duration": 9,
    "start_time": "2022-03-22T11:37:07.447Z"
   },
   {
    "duration": 9,
    "start_time": "2022-03-22T11:37:07.457Z"
   },
   {
    "duration": 68,
    "start_time": "2022-03-22T11:37:07.467Z"
   },
   {
    "duration": 251,
    "start_time": "2022-03-22T11:37:07.538Z"
   },
   {
    "duration": 46557,
    "start_time": "2022-03-22T11:37:07.791Z"
   },
   {
    "duration": 85,
    "start_time": "2022-03-22T11:37:54.349Z"
   },
   {
    "duration": 249,
    "start_time": "2022-03-22T11:37:54.437Z"
   },
   {
    "duration": 20557,
    "start_time": "2022-03-22T11:37:54.688Z"
   },
   {
    "duration": 5,
    "start_time": "2022-03-22T11:38:15.247Z"
   },
   {
    "duration": 81,
    "start_time": "2022-03-22T11:38:15.253Z"
   },
   {
    "duration": 303,
    "start_time": "2022-03-22T11:38:15.337Z"
   },
   {
    "duration": 20203,
    "start_time": "2022-03-22T11:38:15.642Z"
   },
   {
    "duration": 261,
    "start_time": "2022-03-22T11:38:35.847Z"
   },
   {
    "duration": 30,
    "start_time": "2022-03-22T11:38:36.109Z"
   },
   {
    "duration": 120,
    "start_time": "2022-03-22T11:38:36.141Z"
   },
   {
    "duration": 2343,
    "start_time": "2022-03-23T07:32:13.144Z"
   },
   {
    "duration": 80,
    "start_time": "2022-03-23T07:32:15.490Z"
   },
   {
    "duration": 45,
    "start_time": "2022-03-23T07:32:15.572Z"
   },
   {
    "duration": 32,
    "start_time": "2022-03-23T07:33:00.569Z"
   },
   {
    "duration": 3442,
    "start_time": "2022-03-23T07:33:17.362Z"
   },
   {
    "duration": 16,
    "start_time": "2022-03-23T07:33:30.386Z"
   },
   {
    "duration": 15,
    "start_time": "2022-03-23T07:33:59.944Z"
   },
   {
    "duration": 17,
    "start_time": "2022-03-23T07:34:06.345Z"
   },
   {
    "duration": 13,
    "start_time": "2022-03-23T07:34:14.240Z"
   },
   {
    "duration": 71,
    "start_time": "2022-03-23T07:34:42.744Z"
   },
   {
    "duration": 9,
    "start_time": "2022-03-23T07:35:20.546Z"
   },
   {
    "duration": 6,
    "start_time": "2022-03-23T07:35:53.995Z"
   },
   {
    "duration": 6,
    "start_time": "2022-03-23T07:36:36.411Z"
   },
   {
    "duration": 5,
    "start_time": "2022-03-23T07:37:11.027Z"
   },
   {
    "duration": 63,
    "start_time": "2022-03-23T07:37:11.035Z"
   },
   {
    "duration": 44,
    "start_time": "2022-03-23T07:37:11.100Z"
   },
   {
    "duration": 31,
    "start_time": "2022-03-23T07:37:11.146Z"
   },
   {
    "duration": 13,
    "start_time": "2022-03-23T07:37:31.500Z"
   },
   {
    "duration": 73,
    "start_time": "2022-03-23T07:37:40.336Z"
   },
   {
    "duration": 6,
    "start_time": "2022-03-23T07:37:47.701Z"
   },
   {
    "duration": 9,
    "start_time": "2022-03-23T07:37:53.088Z"
   },
   {
    "duration": 206,
    "start_time": "2022-03-23T07:40:00.999Z"
   },
   {
    "duration": 338,
    "start_time": "2022-03-23T07:49:43.000Z"
   },
   {
    "duration": 5,
    "start_time": "2022-03-23T07:49:52.667Z"
   },
   {
    "duration": 63,
    "start_time": "2022-03-23T07:49:52.677Z"
   },
   {
    "duration": 42,
    "start_time": "2022-03-23T07:49:52.742Z"
   },
   {
    "duration": 32,
    "start_time": "2022-03-23T07:49:52.786Z"
   },
   {
    "duration": 86,
    "start_time": "2022-03-23T07:49:52.820Z"
   },
   {
    "duration": 267,
    "start_time": "2022-03-23T07:49:52.908Z"
   },
   {
    "duration": 6,
    "start_time": "2022-03-23T07:49:53.177Z"
   },
   {
    "duration": 38,
    "start_time": "2022-03-23T07:49:56.025Z"
   },
   {
    "duration": 37,
    "start_time": "2022-03-23T07:50:09.797Z"
   },
   {
    "duration": 8,
    "start_time": "2022-03-23T07:50:54.175Z"
   },
   {
    "duration": 7,
    "start_time": "2022-03-23T07:51:01.336Z"
   },
   {
    "duration": 45,
    "start_time": "2022-03-23T07:51:08.889Z"
   },
   {
    "duration": 8,
    "start_time": "2022-03-23T07:54:29.640Z"
   },
   {
    "duration": 106,
    "start_time": "2022-03-23T07:54:30.738Z"
   },
   {
    "duration": 5,
    "start_time": "2022-03-23T07:54:59.249Z"
   },
   {
    "duration": 5,
    "start_time": "2022-03-23T07:55:03.279Z"
   },
   {
    "duration": 6,
    "start_time": "2022-03-23T07:55:13.507Z"
   },
   {
    "duration": 5,
    "start_time": "2022-03-23T07:55:27.829Z"
   },
   {
    "duration": 8,
    "start_time": "2022-03-23T07:55:44.282Z"
   },
   {
    "duration": 87,
    "start_time": "2022-03-23T07:55:45.370Z"
   },
   {
    "duration": 5,
    "start_time": "2022-03-23T07:55:46.344Z"
   },
   {
    "duration": 6,
    "start_time": "2022-03-23T07:55:53.835Z"
   },
   {
    "duration": 5,
    "start_time": "2022-03-23T07:56:00.340Z"
   },
   {
    "duration": 40,
    "start_time": "2022-03-23T08:38:57.416Z"
   },
   {
    "duration": 33,
    "start_time": "2022-03-23T08:39:54.965Z"
   },
   {
    "duration": 7,
    "start_time": "2022-03-23T08:44:16.171Z"
   },
   {
    "duration": 83,
    "start_time": "2022-03-23T08:44:16.182Z"
   },
   {
    "duration": 40,
    "start_time": "2022-03-23T08:44:16.268Z"
   },
   {
    "duration": 61,
    "start_time": "2022-03-23T08:44:16.310Z"
   },
   {
    "duration": 128,
    "start_time": "2022-03-23T08:44:16.375Z"
   },
   {
    "duration": 230,
    "start_time": "2022-03-23T08:44:16.506Z"
   },
   {
    "duration": 6,
    "start_time": "2022-03-23T08:44:16.738Z"
   },
   {
    "duration": 69,
    "start_time": "2022-03-23T08:44:16.746Z"
   },
   {
    "duration": 8,
    "start_time": "2022-03-23T08:44:18.288Z"
   },
   {
    "duration": 4,
    "start_time": "2022-03-23T08:45:47.769Z"
   },
   {
    "duration": 83,
    "start_time": "2022-03-23T08:45:49.164Z"
   },
   {
    "duration": 2090,
    "start_time": "2022-03-23T08:50:10.353Z"
   },
   {
    "duration": 72,
    "start_time": "2022-03-23T08:50:12.445Z"
   },
   {
    "duration": 49,
    "start_time": "2022-03-23T08:50:12.519Z"
   },
   {
    "duration": 32,
    "start_time": "2022-03-23T08:50:12.571Z"
   },
   {
    "duration": 102,
    "start_time": "2022-03-23T08:50:12.605Z"
   },
   {
    "duration": 257,
    "start_time": "2022-03-23T08:50:12.710Z"
   },
   {
    "duration": 6,
    "start_time": "2022-03-23T08:50:12.970Z"
   },
   {
    "duration": 58,
    "start_time": "2022-03-23T08:50:12.979Z"
   },
   {
    "duration": 12,
    "start_time": "2022-03-23T08:50:13.043Z"
   },
   {
    "duration": 115,
    "start_time": "2022-03-23T08:50:13.058Z"
   },
   {
    "duration": 181,
    "start_time": "2022-03-23T08:53:28.935Z"
   },
   {
    "duration": 2174,
    "start_time": "2022-03-23T08:53:41.675Z"
   },
   {
    "duration": 73,
    "start_time": "2022-03-23T08:53:43.852Z"
   },
   {
    "duration": 48,
    "start_time": "2022-03-23T08:53:43.927Z"
   },
   {
    "duration": 35,
    "start_time": "2022-03-23T08:53:43.977Z"
   },
   {
    "duration": 73,
    "start_time": "2022-03-23T08:53:44.044Z"
   },
   {
    "duration": 273,
    "start_time": "2022-03-23T08:53:44.119Z"
   },
   {
    "duration": 6,
    "start_time": "2022-03-23T08:53:44.395Z"
   },
   {
    "duration": 59,
    "start_time": "2022-03-23T08:53:44.403Z"
   },
   {
    "duration": 9,
    "start_time": "2022-03-23T08:53:44.464Z"
   },
   {
    "duration": 120,
    "start_time": "2022-03-23T08:53:44.475Z"
   },
   {
    "duration": 330,
    "start_time": "2022-03-23T08:53:44.597Z"
   },
   {
    "duration": 15,
    "start_time": "2022-03-23T08:53:44.930Z"
   },
   {
    "duration": 32,
    "start_time": "2022-03-23T08:53:44.947Z"
   },
   {
    "duration": 19,
    "start_time": "2022-03-23T08:53:44.983Z"
   },
   {
    "duration": 139,
    "start_time": "2022-03-23T08:53:45.005Z"
   },
   {
    "duration": 320,
    "start_time": "2022-03-23T08:53:45.148Z"
   },
   {
    "duration": 69808,
    "start_time": "2022-03-23T08:53:45.471Z"
   },
   {
    "duration": 78,
    "start_time": "2022-03-23T08:54:55.281Z"
   },
   {
    "duration": 441,
    "start_time": "2022-03-23T08:54:55.362Z"
   },
   {
    "duration": 30552,
    "start_time": "2022-03-23T08:54:55.805Z"
   },
   {
    "duration": 8,
    "start_time": "2022-03-23T08:55:26.359Z"
   },
   {
    "duration": 83,
    "start_time": "2022-03-23T08:55:26.369Z"
   },
   {
    "duration": 491,
    "start_time": "2022-03-23T08:55:26.456Z"
   },
   {
    "duration": 30622,
    "start_time": "2022-03-23T08:55:26.949Z"
   },
   {
    "duration": 52,
    "start_time": "2022-03-23T08:55:58.023Z"
   },
   {
    "duration": 208,
    "start_time": "2022-03-23T08:55:58.078Z"
   },
   {
    "duration": 418,
    "start_time": "2022-03-23T08:55:58.290Z"
   }
  ],
  "kernelspec": {
   "display_name": "Python 3 (ipykernel)",
   "language": "python",
   "name": "python3"
  },
  "language_info": {
   "codemirror_mode": {
    "name": "ipython",
    "version": 3
   },
   "file_extension": ".py",
   "mimetype": "text/x-python",
   "name": "python",
   "nbconvert_exporter": "python",
   "pygments_lexer": "ipython3",
   "version": "3.10.3"
  },
  "toc": {
   "base_numbering": 1,
   "nav_menu": {},
   "number_sections": true,
   "sideBar": true,
   "skip_h1_title": true,
   "title_cell": "Содержание",
   "title_sidebar": "Contents",
   "toc_cell": true,
   "toc_position": {
    "height": "calc(100% - 180px)",
    "left": "10px",
    "top": "150px",
    "width": "310.057px"
   },
   "toc_section_display": true,
   "toc_window_display": true
  }
 },
 "nbformat": 4,
 "nbformat_minor": 4
}
